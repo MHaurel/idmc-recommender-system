{
 "cells": [
  {
   "cell_type": "code",
   "execution_count": 65,
   "id": "a64e2379-8239-43f0-8e78-1aa1e045aad7",
   "metadata": {},
   "outputs": [
    {
     "name": "stdout",
     "output_type": "stream",
     "text": [
      "RMSE: 2.9929\n"
     ]
    },
    {
     "data": {
      "text/plain": [
       "2.992928549574807"
      ]
     },
     "execution_count": 65,
     "metadata": {},
     "output_type": "execute_result"
    }
   ],
   "source": [
    "import pandas as pd\n",
    "import numpy as np\n",
    "\n",
    "from surprise import accuracy, Dataset, SVD, Reader\n",
    "from surprise.model_selection import train_test_split, cross_validate\n",
    "\n",
    "import string\n",
    "\n",
    "food_data = pd.read_csv('data/food.csv')\n",
    "ratings_data = pd.read_csv('data/ratings.csv')\n",
    "\n",
    "def text_cleaning(text):\n",
    "    text = \"\".join([char for char in text if char not in string.punctuation])\n",
    "    return text\n",
    "food_data['Describe'] = food_data['Describe'].apply(text_cleaning)\n",
    "\n",
    "def create_soup(x):\n",
    "  return \" \".join([x['Describe'], x['C_Type'], x['Veg_Non']])\n",
    "\n",
    "food_data['soup'] = food_data.apply(create_soup, axis=1)\n",
    "\n",
    "reader = Reader(rating_scale=(1, 10))\n",
    "\n",
    "merged_data = pd.merge(ratings_data, food_data, on='Food_ID')\n",
    "data = Dataset.load_from_df(merged_data[['User_ID', 'Food_ID', 'Rating']], reader)\n",
    "\n",
    "# sample random trainset and testset\n",
    "# test set is made of 25% of the ratings.\n",
    "trainset, testset = train_test_split(data, test_size=0.25, random_state=42)\n",
    "\n",
    "# We'll use the famous SVD algorithm.\n",
    "algo = SVD()\n",
    "\n",
    "# Train the algorithm on the trainset, and predict ratings for the testset\n",
    "algo.fit(trainset)\n",
    "predictions = algo.test(testset)\n",
    "\n",
    "# Then compute RMSE\n",
    "accuracy.rmse(predictions)"
   ]
  },
  {
   "cell_type": "code",
   "execution_count": 66,
   "id": "ef5a9360-10b4-4d04-a8b8-f94b9935ede9",
   "metadata": {},
   "outputs": [
    {
     "data": {
      "text/plain": [
       "[Prediction(uid=32.0, iid=143.0, r_ui=1.0, est=4.716952356565238, details={'was_impossible': False}),\n",
       " Prediction(uid=93.0, iid=130.0, r_ui=5.0, est=6.1030656576187265, details={'was_impossible': False}),\n",
       " Prediction(uid=63.0, iid=269.0, r_ui=3.0, est=6.2548584376927465, details={'was_impossible': False}),\n",
       " Prediction(uid=13.0, iid=74.0, r_ui=8.0, est=5.8067270341187065, details={'was_impossible': False}),\n",
       " Prediction(uid=6.0, iid=22.0, r_ui=5.0, est=4.99900156777005, details={'was_impossible': False}),\n",
       " Prediction(uid=94.0, iid=48.0, r_ui=3.0, est=5.881105307237263, details={'was_impossible': False}),\n",
       " Prediction(uid=11.0, iid=200.0, r_ui=10.0, est=5.285896538105063, details={'was_impossible': False}),\n",
       " Prediction(uid=86.0, iid=159.0, r_ui=2.0, est=5.129920156844303, details={'was_impossible': False}),\n",
       " Prediction(uid=100.0, iid=24.0, r_ui=10.0, est=5.244006468230988, details={'was_impossible': False}),\n",
       " Prediction(uid=41.0, iid=4.0, r_ui=6.0, est=5.428942711791238, details={'was_impossible': False}),\n",
       " Prediction(uid=80.0, iid=103.0, r_ui=9.0, est=5.8190737602494975, details={'was_impossible': False}),\n",
       " Prediction(uid=61.0, iid=22.0, r_ui=3.0, est=5.165216391743945, details={'was_impossible': False}),\n",
       " Prediction(uid=35.0, iid=147.0, r_ui=3.0, est=5.167690323603154, details={'was_impossible': False}),\n",
       " Prediction(uid=36.0, iid=49.0, r_ui=2.0, est=6.045392897334903, details={'was_impossible': False}),\n",
       " Prediction(uid=15.0, iid=29.0, r_ui=7.0, est=6.133286226314407, details={'was_impossible': False}),\n",
       " Prediction(uid=4.0, iid=212.0, r_ui=10.0, est=4.503237934659467, details={'was_impossible': False}),\n",
       " Prediction(uid=50.0, iid=158.0, r_ui=6.0, est=5.3366455421128585, details={'was_impossible': False}),\n",
       " Prediction(uid=78.0, iid=302.0, r_ui=5.0, est=6.04144200258053, details={'was_impossible': False}),\n",
       " Prediction(uid=57.0, iid=271.0, r_ui=1.0, est=5.426924159851756, details={'was_impossible': False}),\n",
       " Prediction(uid=58.0, iid=84.0, r_ui=10.0, est=4.762280391553088, details={'was_impossible': False}),\n",
       " Prediction(uid=31.0, iid=240.0, r_ui=3.0, est=5.923024375449937, details={'was_impossible': False}),\n",
       " Prediction(uid=68.0, iid=219.0, r_ui=9.0, est=5.956604892831541, details={'was_impossible': False}),\n",
       " Prediction(uid=67.0, iid=252.0, r_ui=4.0, est=5.903781982307967, details={'was_impossible': False}),\n",
       " Prediction(uid=92.0, iid=6.0, r_ui=1.0, est=6.199559586164312, details={'was_impossible': False}),\n",
       " Prediction(uid=23.0, iid=26.0, r_ui=6.0, est=5.370263123614864, details={'was_impossible': False}),\n",
       " Prediction(uid=48.0, iid=9.0, r_ui=3.0, est=5.953803343688482, details={'was_impossible': False}),\n",
       " Prediction(uid=52.0, iid=211.0, r_ui=1.0, est=5.271711896105545, details={'was_impossible': False}),\n",
       " Prediction(uid=75.0, iid=12.0, r_ui=3.0, est=5.03989437965, details={'was_impossible': False}),\n",
       " Prediction(uid=77.0, iid=228.0, r_ui=4.0, est=5.097830353962549, details={'was_impossible': False}),\n",
       " Prediction(uid=61.0, iid=45.0, r_ui=3.0, est=5.389619716054066, details={'was_impossible': False}),\n",
       " Prediction(uid=95.0, iid=297.0, r_ui=5.0, est=5.442090263381382, details={'was_impossible': False}),\n",
       " Prediction(uid=95.0, iid=228.0, r_ui=3.0, est=5.442090263381382, details={'was_impossible': False}),\n",
       " Prediction(uid=70.0, iid=68.0, r_ui=4.0, est=5.251105028164303, details={'was_impossible': False}),\n",
       " Prediction(uid=62.0, iid=108.0, r_ui=4.0, est=5.511484924054373, details={'was_impossible': False}),\n",
       " Prediction(uid=29.0, iid=34.0, r_ui=5.0, est=5.601949521849899, details={'was_impossible': False}),\n",
       " Prediction(uid=93.0, iid=18.0, r_ui=9.0, est=6.692278180836467, details={'was_impossible': False}),\n",
       " Prediction(uid=38.0, iid=130.0, r_ui=3.0, est=5.339031850170646, details={'was_impossible': False}),\n",
       " Prediction(uid=8.0, iid=128.0, r_ui=4.0, est=5.04868696740739, details={'was_impossible': False}),\n",
       " Prediction(uid=20.0, iid=261.0, r_ui=8.0, est=5.451402035671476, details={'was_impossible': False}),\n",
       " Prediction(uid=94.0, iid=117.0, r_ui=4.0, est=5.71224304478024, details={'was_impossible': False}),\n",
       " Prediction(uid=17.0, iid=251.0, r_ui=5.0, est=5.300016071860402, details={'was_impossible': False}),\n",
       " Prediction(uid=82.0, iid=16.0, r_ui=4.0, est=5.896534481604437, details={'was_impossible': False}),\n",
       " Prediction(uid=28.0, iid=162.0, r_ui=9.0, est=5.778793342980276, details={'was_impossible': False}),\n",
       " Prediction(uid=22.0, iid=2.0, r_ui=5.0, est=4.758836103907666, details={'was_impossible': False}),\n",
       " Prediction(uid=92.0, iid=64.0, r_ui=3.0, est=5.714606500744767, details={'was_impossible': False}),\n",
       " Prediction(uid=53.0, iid=226.0, r_ui=8.0, est=5.30070286093456, details={'was_impossible': False}),\n",
       " Prediction(uid=1.0, iid=46.0, r_ui=3.0, est=5.330725633985848, details={'was_impossible': False}),\n",
       " Prediction(uid=80.0, iid=56.0, r_ui=7.0, est=5.145701226220985, details={'was_impossible': False}),\n",
       " Prediction(uid=91.0, iid=176.0, r_ui=5.0, est=5.024020490257301, details={'was_impossible': False}),\n",
       " Prediction(uid=80.0, iid=21.0, r_ui=10.0, est=5.4820107738846415, details={'was_impossible': False}),\n",
       " Prediction(uid=59.0, iid=239.0, r_ui=10.0, est=5.8703660087462595, details={'was_impossible': False}),\n",
       " Prediction(uid=7.0, iid=31.0, r_ui=10.0, est=5.872705244388054, details={'was_impossible': False}),\n",
       " Prediction(uid=75.0, iid=37.0, r_ui=2.0, est=5.105463886687811, details={'was_impossible': False}),\n",
       " Prediction(uid=99.0, iid=65.0, r_ui=7.0, est=4.480851575947062, details={'was_impossible': False}),\n",
       " Prediction(uid=62.0, iid=265.0, r_ui=4.0, est=5.622830835370094, details={'was_impossible': False}),\n",
       " Prediction(uid=28.0, iid=5.0, r_ui=10.0, est=5.532341474452843, details={'was_impossible': False}),\n",
       " Prediction(uid=62.0, iid=124.0, r_ui=7.0, est=5.622830835370094, details={'was_impossible': False}),\n",
       " Prediction(uid=68.0, iid=199.0, r_ui=8.0, est=5.543276659019472, details={'was_impossible': False}),\n",
       " Prediction(uid=34.0, iid=163.0, r_ui=6.0, est=4.236437551093667, details={'was_impossible': False}),\n",
       " Prediction(uid=43.0, iid=85.0, r_ui=10.0, est=5.658528928574793, details={'was_impossible': False}),\n",
       " Prediction(uid=83.0, iid=79.0, r_ui=1.0, est=5.35839263494182, details={'was_impossible': False}),\n",
       " Prediction(uid=5.0, iid=64.0, r_ui=2.0, est=6.101639602702078, details={'was_impossible': False}),\n",
       " Prediction(uid=67.0, iid=47.0, r_ui=4.0, est=5.812189722099849, details={'was_impossible': False}),\n",
       " Prediction(uid=39.0, iid=5.0, r_ui=10.0, est=4.942846015057383, details={'was_impossible': False}),\n",
       " Prediction(uid=25.0, iid=63.0, r_ui=9.0, est=4.813464272073789, details={'was_impossible': False}),\n",
       " Prediction(uid=2.0, iid=49.0, r_ui=1.0, est=6.403131649354331, details={'was_impossible': False}),\n",
       " Prediction(uid=37.0, iid=218.0, r_ui=7.0, est=4.8773868103391615, details={'was_impossible': False}),\n",
       " Prediction(uid=8.0, iid=224.0, r_ui=9.0, est=5.61631851803052, details={'was_impossible': False}),\n",
       " Prediction(uid=53.0, iid=189.0, r_ui=7.0, est=5.30070286093456, details={'was_impossible': False}),\n",
       " Prediction(uid=30.0, iid=304.0, r_ui=1.0, est=5.464484265878036, details={'was_impossible': False}),\n",
       " Prediction(uid=59.0, iid=43.0, r_ui=3.0, est=6.312478660022835, details={'was_impossible': False}),\n",
       " Prediction(uid=41.0, iid=259.0, r_ui=2.0, est=5.733668718535075, details={'was_impossible': False}),\n",
       " Prediction(uid=97.0, iid=308.0, r_ui=3.0, est=5.32381038843117, details={'was_impossible': False}),\n",
       " Prediction(uid=88.0, iid=48.0, r_ui=9.0, est=5.208350532296368, details={'was_impossible': False}),\n",
       " Prediction(uid=36.0, iid=16.0, r_ui=7.0, est=6.2377556352061685, details={'was_impossible': False}),\n",
       " Prediction(uid=89.0, iid=120.0, r_ui=6.0, est=5.426647565561088, details={'was_impossible': False}),\n",
       " Prediction(uid=63.0, iid=186.0, r_ui=8.0, est=6.97423775179231, details={'was_impossible': False}),\n",
       " Prediction(uid=25.0, iid=57.0, r_ui=10.0, est=4.8720435283697885, details={'was_impossible': False}),\n",
       " Prediction(uid=97.0, iid=64.0, r_ui=4.0, est=5.32381038843117, details={'was_impossible': False}),\n",
       " Prediction(uid=47.0, iid=225.0, r_ui=3.0, est=5.400857256916221, details={'was_impossible': False}),\n",
       " Prediction(uid=5.0, iid=52.0, r_ui=9.0, est=6.145404195840863, details={'was_impossible': False}),\n",
       " Prediction(uid=96.0, iid=89.0, r_ui=8.0, est=5.875248578058573, details={'was_impossible': False}),\n",
       " Prediction(uid=45.0, iid=10.0, r_ui=6.0, est=4.7085469517872, details={'was_impossible': False}),\n",
       " Prediction(uid=70.0, iid=83.0, r_ui=9.0, est=5.568280973044293, details={'was_impossible': False}),\n",
       " Prediction(uid=17.0, iid=114.0, r_ui=1.0, est=5.300016071860402, details={'was_impossible': False}),\n",
       " Prediction(uid=98.0, iid=217.0, r_ui=3.0, est=5.310642381529989, details={'was_impossible': False}),\n",
       " Prediction(uid=89.0, iid=3.0, r_ui=7.0, est=5.0529840002004764, details={'was_impossible': False}),\n",
       " Prediction(uid=48.0, iid=58.0, r_ui=1.0, est=5.731351283455394, details={'was_impossible': False}),\n",
       " Prediction(uid=85.0, iid=238.0, r_ui=7.0, est=5.423917580663206, details={'was_impossible': False}),\n",
       " Prediction(uid=17.0, iid=8.0, r_ui=5.0, est=5.727976779374602, details={'was_impossible': False}),\n",
       " Prediction(uid=78.0, iid=21.0, r_ui=4.0, est=5.674990496731881, details={'was_impossible': False}),\n",
       " Prediction(uid=45.0, iid=47.0, r_ui=2.0, est=4.9380842267575815, details={'was_impossible': False}),\n",
       " Prediction(uid=22.0, iid=275.0, r_ui=4.0, est=5.022624244452401, details={'was_impossible': False}),\n",
       " Prediction(uid=27.0, iid=161.0, r_ui=2.0, est=5.322845234162193, details={'was_impossible': False}),\n",
       " Prediction(uid=2.0, iid=106.0, r_ui=9.0, est=5.856269882075549, details={'was_impossible': False}),\n",
       " Prediction(uid=37.0, iid=98.0, r_ui=6.0, est=4.8773868103391615, details={'was_impossible': False}),\n",
       " Prediction(uid=74.0, iid=132.0, r_ui=6.0, est=5.2549014000404055, details={'was_impossible': False}),\n",
       " Prediction(uid=15.0, iid=130.0, r_ui=5.0, est=5.371775008719917, details={'was_impossible': False}),\n",
       " Prediction(uid=31.0, iid=150.0, r_ui=9.0, est=5.923024375449937, details={'was_impossible': False}),\n",
       " Prediction(uid=68.0, iid=179.0, r_ui=5.0, est=5.956604892831541, details={'was_impossible': False}),\n",
       " Prediction(uid=17.0, iid=278.0, r_ui=8.0, est=5.300016071860402, details={'was_impossible': False}),\n",
       " Prediction(uid=52.0, iid=254.0, r_ui=2.0, est=5.795334454109598, details={'was_impossible': False}),\n",
       " Prediction(uid=33.0, iid=248.0, r_ui=10.0, est=5.2778120870282725, details={'was_impossible': False}),\n",
       " Prediction(uid=96.0, iid=271.0, r_ui=7.0, est=5.875248578058573, details={'was_impossible': False}),\n",
       " Prediction(uid=44.0, iid=295.0, r_ui=10.0, est=5.802141998160186, details={'was_impossible': False}),\n",
       " Prediction(uid=28.0, iid=54.0, r_ui=7.0, est=5.66403690086382, details={'was_impossible': False}),\n",
       " Prediction(uid=70.0, iid=16.0, r_ui=2.0, est=5.7256668594620175, details={'was_impossible': False}),\n",
       " Prediction(uid=41.0, iid=51.0, r_ui=3.0, est=6.013765523731309, details={'was_impossible': False}),\n",
       " Prediction(uid=87.0, iid=200.0, r_ui=2.0, est=5.415203677377411, details={'was_impossible': False}),\n",
       " Prediction(uid=14.0, iid=87.0, r_ui=8.0, est=5.356254466019383, details={'was_impossible': False}),\n",
       " Prediction(uid=51.0, iid=136.0, r_ui=6.0, est=6.1656785351280075, details={'was_impossible': False}),\n",
       " Prediction(uid=35.0, iid=15.0, r_ui=1.0, est=5.178611638889408, details={'was_impossible': False}),\n",
       " Prediction(uid=49.0, iid=139.0, r_ui=10.0, est=5.620066103647968, details={'was_impossible': False}),\n",
       " Prediction(uid=8.0, iid=242.0, r_ui=3.0, est=5.567163470246547, details={'was_impossible': False}),\n",
       " Prediction(uid=73.0, iid=234.0, r_ui=2.0, est=5.319871465589087, details={'was_impossible': False}),\n",
       " Prediction(uid=42.0, iid=196.0, r_ui=9.0, est=5.305876384485851, details={'was_impossible': False}),\n",
       " Prediction(uid=19.0, iid=84.0, r_ui=10.0, est=5.121598579739089, details={'was_impossible': False}),\n",
       " Prediction(uid=77.0, iid=123.0, r_ui=10.0, est=5.097830353962549, details={'was_impossible': False}),\n",
       " Prediction(uid=41.0, iid=100.0, r_ui=3.0, est=5.0266560659861295, details={'was_impossible': False}),\n",
       " Prediction(uid=100.0, iid=233.0, r_ui=10.0, est=5.541622509931509, details={'was_impossible': False}),\n",
       " Prediction(uid=57.0, iid=33.0, r_ui=3.0, est=5.61395205336489, details={'was_impossible': False}),\n",
       " Prediction(uid=62.0, iid=58.0, r_ui=4.0, est=5.953888698870125, details={'was_impossible': False}),\n",
       " Prediction(uid=6.0, iid=213.0, r_ui=6.0, est=5.3220217230721625, details={'was_impossible': False}),\n",
       " Prediction(uid=39.0, iid=2.0, r_ui=10.0, est=4.763625139875993, details={'was_impossible': False}),\n",
       " Prediction(uid=43.0, iid=34.0, r_ui=8.0, est=5.834685279918593, details={'was_impossible': False}),\n",
       " Prediction(uid=98.0, iid=47.0, r_ui=2.0, est=5.539429185502357, details={'was_impossible': False}),\n",
       " Prediction(uid=64.0, iid=303.0, r_ui=6.0, est=5.122373921993837, details={'was_impossible': False}),\n",
       " Prediction(uid=9.0, iid=91.0, r_ui=5.0, est=4.5532106000666035, details={'was_impossible': False})]"
      ]
     },
     "execution_count": 66,
     "metadata": {},
     "output_type": "execute_result"
    }
   ],
   "source": [
    "predictions"
   ]
  },
  {
   "cell_type": "markdown",
   "id": "43be94c8-30d7-4708-8016-9506d13e827c",
   "metadata": {},
   "source": [
    "Demonstration about how to predict the rating for the user with id=80 and item with id=2"
   ]
  },
  {
   "cell_type": "code",
   "execution_count": 67,
   "id": "59777e8f-16a0-4354-befe-cf5d3ba2fb00",
   "metadata": {},
   "outputs": [
    {
     "data": {
      "text/plain": [
       "Prediction(uid=80.0, iid=2.0, r_ui=None, est=5.626110141991366, details={'was_impossible': False})"
      ]
     },
     "execution_count": 67,
     "metadata": {},
     "output_type": "execute_result"
    }
   ],
   "source": [
    "algo.predict(80.0, 2.0)"
   ]
  },
  {
   "cell_type": "code",
   "execution_count": 68,
   "id": "7fce9338-efb1-4d86-a06f-4a8c2935d529",
   "metadata": {},
   "outputs": [
    {
     "name": "stdout",
     "output_type": "stream",
     "text": [
      "49                      french pork chop\n",
      "109         chicken and mushroom lasagna\n",
      "127                      thai lamb balls\n",
      "266            red velvet banana pudding\n",
      "50     christmas chocolate fudge cookies\n",
      "Name: Name, dtype: object\n"
     ]
    }
   ],
   "source": [
    "user_id = 80.0\n",
    "\n",
    "def get_user_recommendations(user_id, n=5):\n",
    "    predictions = []\n",
    "    for item in merged_data['Food_ID'].unique():\n",
    "        predictions.append(algo.predict(user_id, item))\n",
    "    \n",
    "    best_items = sorted([(prediction.iid, prediction.est) for prediction in predictions], key=lambda x: x[1])[::-1][:n]\n",
    "    best_items_idx = [x for x, y in best_items]\n",
    "    rec_items = food_data.loc[best_items_idx]\n",
    "    return rec_items['Name']\n",
    "\n",
    "print(get_user_recommendations(user_id, n=5))"
   ]
  },
  {
   "cell_type": "markdown",
   "id": "82a371fa-d0ce-467e-8a7c-7d32da7c1222",
   "metadata": {},
   "source": [
    "## Fine-tuning"
   ]
  },
  {
   "cell_type": "code",
   "execution_count": 69,
   "id": "e1e21c69-dcd9-4b89-af65-97feb699c59e",
   "metadata": {},
   "outputs": [
    {
     "name": "stdout",
     "output_type": "stream",
     "text": [
      "2.8609603176015157\n",
      "{'n_factors': 800, 'n_epochs': 5}\n"
     ]
    }
   ],
   "source": [
    "from surprise.model_selection import GridSearchCV\n",
    "\n",
    "param_grid = {\n",
    "  'n_factors': [20, 50, 100, 200, 400, 800, 1000],\n",
    "  'n_epochs': [5, 10, 20, 50, 100, 200]\n",
    "}\n",
    "\n",
    "gs = GridSearchCV(SVD, param_grid, measures=['rmse', 'mae'], cv=10)\n",
    "gs.fit(data)\n",
    "\n",
    "print(gs.best_score['rmse'])\n",
    "print(gs.best_params['rmse'])"
   ]
  },
  {
   "cell_type": "code",
   "execution_count": 70,
   "id": "a9420148-ca15-4813-b4c6-57b4976050b0",
   "metadata": {},
   "outputs": [
    {
     "data": {
      "text/plain": [
       "<surprise.prediction_algorithms.matrix_factorization.SVD at 0x7f4798bde700>"
      ]
     },
     "execution_count": 70,
     "metadata": {},
     "output_type": "execute_result"
    }
   ],
   "source": [
    "best_factor = gs.best_params['rmse']['n_factors']\n",
    "best_epoch = gs.best_params['rmse']['n_epochs']\n",
    "\n",
    "# We'll use the famous SVD algorithm.\n",
    "svd = SVD(n_factors=best_factor, n_epochs=best_epoch)\n",
    "\n",
    "# Train the algorithm on the trainset\n",
    "svd.fit(trainset)"
   ]
  },
  {
   "cell_type": "code",
   "execution_count": 71,
   "id": "ea38c482-879e-4993-90f6-8834d31031bb",
   "metadata": {},
   "outputs": [
    {
     "name": "stdout",
     "output_type": "stream",
     "text": [
      "Evaluating RMSE, MAE of algorithm SVD on 5 split(s).\n",
      "\n",
      "                  Fold 1  Fold 2  Fold 3  Fold 4  Fold 5  Mean    Std     \n",
      "RMSE (testset)    2.9847  2.7165  2.6458  2.9690  3.0546  2.8741  0.1617  \n",
      "MAE (testset)     2.5687  2.3108  2.2452  2.5770  2.6821  2.4768  0.1684  \n",
      "Fit time          0.01    0.01    0.01    0.01    0.01    0.01    0.00    \n",
      "Test time         0.00    0.00    0.00    0.00    0.00    0.00    0.00    \n"
     ]
    }
   ],
   "source": [
    "cv = cross_validate(svd, data, measures=['RMSE', 'MAE'], cv=5, verbose=True)"
   ]
  },
  {
   "cell_type": "code",
   "execution_count": null,
   "id": "8b55a737-892b-49d8-af19-d25df6f20b42",
   "metadata": {},
   "outputs": [],
   "source": []
  }
 ],
 "metadata": {
  "kernelspec": {
   "display_name": "Python 3 (ipykernel)",
   "language": "python",
   "name": "python3"
  },
  "language_info": {
   "codemirror_mode": {
    "name": "ipython",
    "version": 3
   },
   "file_extension": ".py",
   "mimetype": "text/x-python",
   "name": "python",
   "nbconvert_exporter": "python",
   "pygments_lexer": "ipython3",
   "version": "3.9.18"
  }
 },
 "nbformat": 4,
 "nbformat_minor": 5
}
