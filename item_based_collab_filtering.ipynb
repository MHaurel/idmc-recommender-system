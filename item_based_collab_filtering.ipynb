{
 "cells": [
  {
   "cell_type": "markdown",
   "id": "10f2e350-75ba-43f1-84dc-84e6cf4f281a",
   "metadata": {},
   "source": [
    "# Item-based CF\n",
    "\n",
    "Estimate unknown ratings $r^*(a,i)$ with $a$ being an user and $i$ being an item.\n",
    "\n",
    "\"A user will like the items similar to those she liked in the past.\""
   ]
  },
  {
   "cell_type": "code",
   "execution_count": 7,
   "id": "390c21ad-05d0-495b-910f-2def48767ce9",
   "metadata": {},
   "outputs": [],
   "source": [
    "from sklearn.metrics.pairwise import cosine_similarity\n",
    "import numpy as np\n",
    "from numpy.linalg import norm"
   ]
  },
  {
   "cell_type": "code",
   "execution_count": 11,
   "id": "36c12aae-c78f-4adf-9802-2a0de804c84b",
   "metadata": {},
   "outputs": [],
   "source": []
  },
  {
   "cell_type": "markdown",
   "id": "30804d81-40c1-4eba-a501-4ebbd500139f",
   "metadata": {},
   "source": []
  },
  {
   "cell_type": "code",
   "execution_count": null,
   "id": "bafb90bf-6bf5-47a9-9a88-c4ade79753b2",
   "metadata": {},
   "outputs": [],
   "source": []
  }
 ],
 "metadata": {
  "kernelspec": {
   "display_name": "Python 3 (ipykernel)",
   "language": "python",
   "name": "python3"
  },
  "language_info": {
   "codemirror_mode": {
    "name": "ipython",
    "version": 3
   },
   "file_extension": ".py",
   "mimetype": "text/x-python",
   "name": "python",
   "nbconvert_exporter": "python",
   "pygments_lexer": "ipython3",
   "version": "3.9.18"
  }
 },
 "nbformat": 4,
 "nbformat_minor": 5
}
