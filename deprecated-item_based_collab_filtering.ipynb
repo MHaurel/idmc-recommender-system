{
 "cells": [
  {
   "cell_type": "markdown",
   "id": "b2ad058d",
   "metadata": {},
   "source": [
    "# Item-based collaborative filtering"
   ]
  },
  {
   "cell_type": "code",
   "execution_count": 1,
   "id": "656c6c31",
   "metadata": {},
   "outputs": [],
   "source": [
    "import pandas as pd"
   ]
  },
  {
   "cell_type": "code",
   "execution_count": 2,
   "id": "4fa219cd",
   "metadata": {},
   "outputs": [],
   "source": [
    "ratings_matrix = pd.read_csv(\"data/ratings_matrix.csv\")"
   ]
  },
  {
   "cell_type": "markdown",
   "id": "9919c9ec",
   "metadata": {},
   "source": [
    "Estimate unknown ratings $r^*(a,i)$.\n",
    "\n",
    "\"A user will like the items similar to those he liked in the past\""
   ]
  },
  {
   "cell_type": "code",
   "execution_count": 3,
   "id": "8491c91a",
   "metadata": {},
   "outputs": [
    {
     "data": {
      "text/html": [
       "<div>\n",
       "<style scoped>\n",
       "    .dataframe tbody tr th:only-of-type {\n",
       "        vertical-align: middle;\n",
       "    }\n",
       "\n",
       "    .dataframe tbody tr th {\n",
       "        vertical-align: top;\n",
       "    }\n",
       "\n",
       "    .dataframe thead th {\n",
       "        text-align: right;\n",
       "    }\n",
       "</style>\n",
       "<table border=\"1\" class=\"dataframe\">\n",
       "  <thead>\n",
       "    <tr style=\"text-align: right;\">\n",
       "      <th></th>\n",
       "      <th>1.0</th>\n",
       "      <th>2.0</th>\n",
       "      <th>3.0</th>\n",
       "      <th>4.0</th>\n",
       "      <th>5.0</th>\n",
       "      <th>6.0</th>\n",
       "      <th>7.0</th>\n",
       "      <th>8.0</th>\n",
       "      <th>9.0</th>\n",
       "      <th>10.0</th>\n",
       "      <th>...</th>\n",
       "      <th>300.0</th>\n",
       "      <th>301.0</th>\n",
       "      <th>302.0</th>\n",
       "      <th>303.0</th>\n",
       "      <th>304.0</th>\n",
       "      <th>305.0</th>\n",
       "      <th>306.0</th>\n",
       "      <th>307.0</th>\n",
       "      <th>308.0</th>\n",
       "      <th>309.0</th>\n",
       "    </tr>\n",
       "  </thead>\n",
       "  <tbody>\n",
       "    <tr>\n",
       "      <th>0</th>\n",
       "      <td>0.0</td>\n",
       "      <td>0.0</td>\n",
       "      <td>0.0</td>\n",
       "      <td>0.0</td>\n",
       "      <td>0.0</td>\n",
       "      <td>0.0</td>\n",
       "      <td>0.0</td>\n",
       "      <td>0.0</td>\n",
       "      <td>0.0</td>\n",
       "      <td>0.0</td>\n",
       "      <td>...</td>\n",
       "      <td>0.0</td>\n",
       "      <td>0.0</td>\n",
       "      <td>0.0</td>\n",
       "      <td>0.0</td>\n",
       "      <td>0.0</td>\n",
       "      <td>0.0</td>\n",
       "      <td>0.0</td>\n",
       "      <td>0.0</td>\n",
       "      <td>0.0</td>\n",
       "      <td>0.0</td>\n",
       "    </tr>\n",
       "    <tr>\n",
       "      <th>1</th>\n",
       "      <td>0.0</td>\n",
       "      <td>0.0</td>\n",
       "      <td>0.0</td>\n",
       "      <td>0.0</td>\n",
       "      <td>0.0</td>\n",
       "      <td>0.0</td>\n",
       "      <td>0.0</td>\n",
       "      <td>0.0</td>\n",
       "      <td>0.0</td>\n",
       "      <td>0.0</td>\n",
       "      <td>...</td>\n",
       "      <td>0.0</td>\n",
       "      <td>0.0</td>\n",
       "      <td>0.0</td>\n",
       "      <td>0.0</td>\n",
       "      <td>0.0</td>\n",
       "      <td>0.0</td>\n",
       "      <td>0.0</td>\n",
       "      <td>0.0</td>\n",
       "      <td>0.0</td>\n",
       "      <td>0.0</td>\n",
       "    </tr>\n",
       "    <tr>\n",
       "      <th>2</th>\n",
       "      <td>0.0</td>\n",
       "      <td>0.0</td>\n",
       "      <td>0.0</td>\n",
       "      <td>0.0</td>\n",
       "      <td>0.0</td>\n",
       "      <td>0.0</td>\n",
       "      <td>0.0</td>\n",
       "      <td>0.0</td>\n",
       "      <td>0.0</td>\n",
       "      <td>0.0</td>\n",
       "      <td>...</td>\n",
       "      <td>0.0</td>\n",
       "      <td>0.0</td>\n",
       "      <td>0.0</td>\n",
       "      <td>0.0</td>\n",
       "      <td>0.0</td>\n",
       "      <td>0.0</td>\n",
       "      <td>0.0</td>\n",
       "      <td>0.0</td>\n",
       "      <td>0.0</td>\n",
       "      <td>0.0</td>\n",
       "    </tr>\n",
       "    <tr>\n",
       "      <th>3</th>\n",
       "      <td>0.0</td>\n",
       "      <td>0.0</td>\n",
       "      <td>0.0</td>\n",
       "      <td>0.0</td>\n",
       "      <td>0.0</td>\n",
       "      <td>0.0</td>\n",
       "      <td>0.0</td>\n",
       "      <td>0.0</td>\n",
       "      <td>0.0</td>\n",
       "      <td>0.0</td>\n",
       "      <td>...</td>\n",
       "      <td>0.0</td>\n",
       "      <td>0.0</td>\n",
       "      <td>0.0</td>\n",
       "      <td>0.0</td>\n",
       "      <td>0.0</td>\n",
       "      <td>0.0</td>\n",
       "      <td>0.0</td>\n",
       "      <td>0.0</td>\n",
       "      <td>0.0</td>\n",
       "      <td>0.0</td>\n",
       "    </tr>\n",
       "    <tr>\n",
       "      <th>4</th>\n",
       "      <td>0.0</td>\n",
       "      <td>0.0</td>\n",
       "      <td>0.0</td>\n",
       "      <td>0.0</td>\n",
       "      <td>0.0</td>\n",
       "      <td>0.0</td>\n",
       "      <td>0.0</td>\n",
       "      <td>6.0</td>\n",
       "      <td>0.0</td>\n",
       "      <td>0.0</td>\n",
       "      <td>...</td>\n",
       "      <td>0.0</td>\n",
       "      <td>0.0</td>\n",
       "      <td>0.0</td>\n",
       "      <td>0.0</td>\n",
       "      <td>0.0</td>\n",
       "      <td>0.0</td>\n",
       "      <td>0.0</td>\n",
       "      <td>0.0</td>\n",
       "      <td>0.0</td>\n",
       "      <td>0.0</td>\n",
       "    </tr>\n",
       "    <tr>\n",
       "      <th>...</th>\n",
       "      <td>...</td>\n",
       "      <td>...</td>\n",
       "      <td>...</td>\n",
       "      <td>...</td>\n",
       "      <td>...</td>\n",
       "      <td>...</td>\n",
       "      <td>...</td>\n",
       "      <td>...</td>\n",
       "      <td>...</td>\n",
       "      <td>...</td>\n",
       "      <td>...</td>\n",
       "      <td>...</td>\n",
       "      <td>...</td>\n",
       "      <td>...</td>\n",
       "      <td>...</td>\n",
       "      <td>...</td>\n",
       "      <td>...</td>\n",
       "      <td>...</td>\n",
       "      <td>...</td>\n",
       "      <td>...</td>\n",
       "      <td>...</td>\n",
       "    </tr>\n",
       "    <tr>\n",
       "      <th>95</th>\n",
       "      <td>0.0</td>\n",
       "      <td>0.0</td>\n",
       "      <td>0.0</td>\n",
       "      <td>0.0</td>\n",
       "      <td>0.0</td>\n",
       "      <td>0.0</td>\n",
       "      <td>0.0</td>\n",
       "      <td>0.0</td>\n",
       "      <td>0.0</td>\n",
       "      <td>0.0</td>\n",
       "      <td>...</td>\n",
       "      <td>0.0</td>\n",
       "      <td>0.0</td>\n",
       "      <td>0.0</td>\n",
       "      <td>0.0</td>\n",
       "      <td>0.0</td>\n",
       "      <td>0.0</td>\n",
       "      <td>0.0</td>\n",
       "      <td>0.0</td>\n",
       "      <td>0.0</td>\n",
       "      <td>0.0</td>\n",
       "    </tr>\n",
       "    <tr>\n",
       "      <th>96</th>\n",
       "      <td>0.0</td>\n",
       "      <td>0.0</td>\n",
       "      <td>0.0</td>\n",
       "      <td>0.0</td>\n",
       "      <td>0.0</td>\n",
       "      <td>0.0</td>\n",
       "      <td>0.0</td>\n",
       "      <td>0.0</td>\n",
       "      <td>0.0</td>\n",
       "      <td>0.0</td>\n",
       "      <td>...</td>\n",
       "      <td>0.0</td>\n",
       "      <td>0.0</td>\n",
       "      <td>0.0</td>\n",
       "      <td>0.0</td>\n",
       "      <td>0.0</td>\n",
       "      <td>0.0</td>\n",
       "      <td>0.0</td>\n",
       "      <td>0.0</td>\n",
       "      <td>3.0</td>\n",
       "      <td>0.0</td>\n",
       "    </tr>\n",
       "    <tr>\n",
       "      <th>97</th>\n",
       "      <td>0.0</td>\n",
       "      <td>0.0</td>\n",
       "      <td>0.0</td>\n",
       "      <td>0.0</td>\n",
       "      <td>7.0</td>\n",
       "      <td>0.0</td>\n",
       "      <td>0.0</td>\n",
       "      <td>0.0</td>\n",
       "      <td>0.0</td>\n",
       "      <td>0.0</td>\n",
       "      <td>...</td>\n",
       "      <td>0.0</td>\n",
       "      <td>0.0</td>\n",
       "      <td>0.0</td>\n",
       "      <td>0.0</td>\n",
       "      <td>0.0</td>\n",
       "      <td>0.0</td>\n",
       "      <td>0.0</td>\n",
       "      <td>0.0</td>\n",
       "      <td>0.0</td>\n",
       "      <td>0.0</td>\n",
       "    </tr>\n",
       "    <tr>\n",
       "      <th>98</th>\n",
       "      <td>0.0</td>\n",
       "      <td>0.0</td>\n",
       "      <td>0.0</td>\n",
       "      <td>0.0</td>\n",
       "      <td>0.0</td>\n",
       "      <td>0.0</td>\n",
       "      <td>0.0</td>\n",
       "      <td>0.0</td>\n",
       "      <td>0.0</td>\n",
       "      <td>0.0</td>\n",
       "      <td>...</td>\n",
       "      <td>0.0</td>\n",
       "      <td>0.0</td>\n",
       "      <td>0.0</td>\n",
       "      <td>0.0</td>\n",
       "      <td>0.0</td>\n",
       "      <td>0.0</td>\n",
       "      <td>0.0</td>\n",
       "      <td>0.0</td>\n",
       "      <td>0.0</td>\n",
       "      <td>0.0</td>\n",
       "    </tr>\n",
       "    <tr>\n",
       "      <th>99</th>\n",
       "      <td>0.0</td>\n",
       "      <td>0.0</td>\n",
       "      <td>0.0</td>\n",
       "      <td>0.0</td>\n",
       "      <td>0.0</td>\n",
       "      <td>0.0</td>\n",
       "      <td>0.0</td>\n",
       "      <td>0.0</td>\n",
       "      <td>0.0</td>\n",
       "      <td>0.0</td>\n",
       "      <td>...</td>\n",
       "      <td>0.0</td>\n",
       "      <td>0.0</td>\n",
       "      <td>0.0</td>\n",
       "      <td>0.0</td>\n",
       "      <td>0.0</td>\n",
       "      <td>0.0</td>\n",
       "      <td>0.0</td>\n",
       "      <td>0.0</td>\n",
       "      <td>0.0</td>\n",
       "      <td>0.0</td>\n",
       "    </tr>\n",
       "  </tbody>\n",
       "</table>\n",
       "<p>100 rows × 309 columns</p>\n",
       "</div>"
      ],
      "text/plain": [
       "    1.0  2.0  3.0  4.0  5.0  6.0  7.0  8.0  9.0  10.0  ...  300.0  301.0  \\\n",
       "0   0.0  0.0  0.0  0.0  0.0  0.0  0.0  0.0  0.0   0.0  ...    0.0    0.0   \n",
       "1   0.0  0.0  0.0  0.0  0.0  0.0  0.0  0.0  0.0   0.0  ...    0.0    0.0   \n",
       "2   0.0  0.0  0.0  0.0  0.0  0.0  0.0  0.0  0.0   0.0  ...    0.0    0.0   \n",
       "3   0.0  0.0  0.0  0.0  0.0  0.0  0.0  0.0  0.0   0.0  ...    0.0    0.0   \n",
       "4   0.0  0.0  0.0  0.0  0.0  0.0  0.0  6.0  0.0   0.0  ...    0.0    0.0   \n",
       "..  ...  ...  ...  ...  ...  ...  ...  ...  ...   ...  ...    ...    ...   \n",
       "95  0.0  0.0  0.0  0.0  0.0  0.0  0.0  0.0  0.0   0.0  ...    0.0    0.0   \n",
       "96  0.0  0.0  0.0  0.0  0.0  0.0  0.0  0.0  0.0   0.0  ...    0.0    0.0   \n",
       "97  0.0  0.0  0.0  0.0  7.0  0.0  0.0  0.0  0.0   0.0  ...    0.0    0.0   \n",
       "98  0.0  0.0  0.0  0.0  0.0  0.0  0.0  0.0  0.0   0.0  ...    0.0    0.0   \n",
       "99  0.0  0.0  0.0  0.0  0.0  0.0  0.0  0.0  0.0   0.0  ...    0.0    0.0   \n",
       "\n",
       "    302.0  303.0  304.0  305.0  306.0  307.0  308.0  309.0  \n",
       "0     0.0    0.0    0.0    0.0    0.0    0.0    0.0    0.0  \n",
       "1     0.0    0.0    0.0    0.0    0.0    0.0    0.0    0.0  \n",
       "2     0.0    0.0    0.0    0.0    0.0    0.0    0.0    0.0  \n",
       "3     0.0    0.0    0.0    0.0    0.0    0.0    0.0    0.0  \n",
       "4     0.0    0.0    0.0    0.0    0.0    0.0    0.0    0.0  \n",
       "..    ...    ...    ...    ...    ...    ...    ...    ...  \n",
       "95    0.0    0.0    0.0    0.0    0.0    0.0    0.0    0.0  \n",
       "96    0.0    0.0    0.0    0.0    0.0    0.0    3.0    0.0  \n",
       "97    0.0    0.0    0.0    0.0    0.0    0.0    0.0    0.0  \n",
       "98    0.0    0.0    0.0    0.0    0.0    0.0    0.0    0.0  \n",
       "99    0.0    0.0    0.0    0.0    0.0    0.0    0.0    0.0  \n",
       "\n",
       "[100 rows x 309 columns]"
      ]
     },
     "execution_count": 3,
     "metadata": {},
     "output_type": "execute_result"
    }
   ],
   "source": [
    "ratings_matrix"
   ]
  },
  {
   "cell_type": "markdown",
   "id": "a5dcc533",
   "metadata": {},
   "source": [
    "task = fill all cells with 0 by estimated ratings with an item-based method."
   ]
  },
  {
   "cell_type": "code",
   "execution_count": 4,
   "id": "ce1364a7",
   "metadata": {},
   "outputs": [],
   "source": [
    "selected_item = 1.0"
   ]
  },
  {
   "cell_type": "markdown",
   "id": "34b73e46",
   "metadata": {},
   "source": [
    "Given $a$ - the active user.\n",
    "\n",
    "    Fill $a$'s rating vector\n",
    "        For each item $i$, estimate relavance score (rating) $r*(a,i)*"
   ]
  },
  {
   "cell_type": "markdown",
   "id": "4cd7ebda",
   "metadata": {},
   "source": [
    "For each item other than the selected 1, compute the cosine similarity."
   ]
  },
  {
   "cell_type": "code",
   "execution_count": 18,
   "id": "767e2571",
   "metadata": {},
   "outputs": [],
   "source": [
    "import numpy as np\n",
    "from numpy.linalg import norm\n",
    "\n",
    "def cosine(a, b):\n",
    "    return np.dot(a, b)/(norm(a)*norm(b))"
   ]
  },
  {
   "cell_type": "code",
   "execution_count": 19,
   "id": "60e22cf5",
   "metadata": {},
   "outputs": [],
   "source": [
    "i1 = [5, 5, 4, 0, 2, 2]\n",
    "i2 = [0, 5, 4, 0, 2, 5]\n",
    "i3 = [2, 2, 0, 0, 1, 2]\n",
    "i4 = [0, 2, 1, 2, 0, 5]\n",
    "i5 = [4, 4, 3, 0, 2, 4]\n",
    "i6 = [0, 4, 0, 3, 1, 5]"
   ]
  },
  {
   "cell_type": "code",
   "execution_count": 30,
   "id": "d396d393",
   "metadata": {},
   "outputs": [
    {
     "data": {
      "text/plain": [
       "0.7641837697680016"
      ]
     },
     "execution_count": 30,
     "metadata": {},
     "output_type": "execute_result"
    }
   ],
   "source": [
    "c1 = cosine(i2, i1)\n",
    "c1"
   ]
  },
  {
   "cell_type": "code",
   "execution_count": 31,
   "id": "b63b45ba",
   "metadata": {},
   "outputs": [
    {
     "data": {
      "text/plain": [
       "0.7292928985449755"
      ]
     },
     "execution_count": 31,
     "metadata": {},
     "output_type": "execute_result"
    }
   ],
   "source": [
    "c3 = cosine(i2, i3)\n",
    "c3"
   ]
  },
  {
   "cell_type": "code",
   "execution_count": 32,
   "id": "3f5ad327",
   "metadata": {},
   "outputs": [
    {
     "data": {
      "text/plain": [
       "0.799422060148518"
      ]
     },
     "execution_count": 32,
     "metadata": {},
     "output_type": "execute_result"
    }
   ],
   "source": [
    "c4 = cosine(i2, i4)\n",
    "c4"
   ]
  },
  {
   "cell_type": "code",
   "execution_count": 33,
   "id": "ef8d32c1",
   "metadata": {},
   "outputs": [
    {
     "data": {
      "text/plain": [
       "0.8569867148959759"
      ]
     },
     "execution_count": 33,
     "metadata": {},
     "output_type": "execute_result"
    }
   ],
   "source": [
    "c5 = cosine(i2, i5)\n",
    "c5"
   ]
  },
  {
   "cell_type": "code",
   "execution_count": 34,
   "id": "95955d9b",
   "metadata": {},
   "outputs": [
    {
     "data": {
      "text/plain": [
       "0.7866177642303795"
      ]
     },
     "execution_count": 34,
     "metadata": {},
     "output_type": "execute_result"
    }
   ],
   "source": [
    "c6 = cosine(i2, i6)\n",
    "c6"
   ]
  },
  {
   "cell_type": "code",
   "execution_count": 119,
   "id": "7738965f",
   "metadata": {},
   "outputs": [],
   "source": [
    "cs = [c1, 0, c3, c4, c5, c6]"
   ]
  },
  {
   "cell_type": "code",
   "execution_count": 120,
   "id": "8557dd9f",
   "metadata": {},
   "outputs": [],
   "source": [
    "a = [5, 0, 2, 0, 4, 0] # ratings of the chosen user"
   ]
  },
  {
   "cell_type": "code",
   "execution_count": 121,
   "id": "d8a4ad84",
   "metadata": {},
   "outputs": [
    {
     "data": {
      "text/plain": [
       "3.704568030166919"
      ]
     },
     "execution_count": 121,
     "metadata": {},
     "output_type": "execute_result"
    }
   ],
   "source": [
    "r_a_i2 = (5*c1 + 2*c3 + 4*c5) / (c1 + c3 + c5) \n",
    "r_a_i2"
   ]
  },
  {
   "cell_type": "code",
   "execution_count": 125,
   "id": "c63c7f2e",
   "metadata": {},
   "outputs": [
    {
     "data": {
      "text/plain": [
       "8.707451505513863"
      ]
     },
     "execution_count": 125,
     "metadata": {},
     "output_type": "execute_result"
    }
   ],
   "source": [
    "(5*c1 + 2*c3 + 4*c5)"
   ]
  },
  {
   "cell_type": "code",
   "execution_count": 128,
   "id": "e1f89e3e",
   "metadata": {},
   "outputs": [],
   "source": [
    "s = 0\n",
    "for x in zip(a, cs):\n",
    "    if x[0] != 0:\n",
    "        s += x[1]*x[0]"
   ]
  },
  {
   "cell_type": "code",
   "execution_count": 122,
   "id": "2a8c5846",
   "metadata": {},
   "outputs": [
    {
     "data": {
      "text/plain": [
       "2.2119762251761204"
      ]
     },
     "execution_count": 122,
     "metadata": {},
     "output_type": "execute_result"
    }
   ],
   "source": [
    "sum([x[0]*x[1] for x in zip(a, cs) if x[0] != 0]) / sum(cs)"
   ]
  },
  {
   "cell_type": "code",
   "execution_count": 48,
   "id": "ebb218de",
   "metadata": {},
   "outputs": [
    {
     "data": {
      "text/html": [
       "<div>\n",
       "<style scoped>\n",
       "    .dataframe tbody tr th:only-of-type {\n",
       "        vertical-align: middle;\n",
       "    }\n",
       "\n",
       "    .dataframe tbody tr th {\n",
       "        vertical-align: top;\n",
       "    }\n",
       "\n",
       "    .dataframe thead th {\n",
       "        text-align: right;\n",
       "    }\n",
       "</style>\n",
       "<table border=\"1\" class=\"dataframe\">\n",
       "  <thead>\n",
       "    <tr style=\"text-align: right;\">\n",
       "      <th></th>\n",
       "      <th>1.0</th>\n",
       "      <th>2.0</th>\n",
       "      <th>3.0</th>\n",
       "      <th>4.0</th>\n",
       "      <th>5.0</th>\n",
       "      <th>6.0</th>\n",
       "      <th>7.0</th>\n",
       "      <th>8.0</th>\n",
       "      <th>9.0</th>\n",
       "      <th>10.0</th>\n",
       "      <th>...</th>\n",
       "      <th>300.0</th>\n",
       "      <th>301.0</th>\n",
       "      <th>302.0</th>\n",
       "      <th>303.0</th>\n",
       "      <th>304.0</th>\n",
       "      <th>305.0</th>\n",
       "      <th>306.0</th>\n",
       "      <th>307.0</th>\n",
       "      <th>308.0</th>\n",
       "      <th>309.0</th>\n",
       "    </tr>\n",
       "  </thead>\n",
       "  <tbody>\n",
       "    <tr>\n",
       "      <th>0</th>\n",
       "      <td>0.0</td>\n",
       "      <td>0.0</td>\n",
       "      <td>0.0</td>\n",
       "      <td>0.0</td>\n",
       "      <td>0.0</td>\n",
       "      <td>0.0</td>\n",
       "      <td>0.0</td>\n",
       "      <td>0.0</td>\n",
       "      <td>0.0</td>\n",
       "      <td>0.0</td>\n",
       "      <td>...</td>\n",
       "      <td>0.0</td>\n",
       "      <td>0.0</td>\n",
       "      <td>0.0</td>\n",
       "      <td>0.0</td>\n",
       "      <td>0.0</td>\n",
       "      <td>0.0</td>\n",
       "      <td>0.0</td>\n",
       "      <td>0.0</td>\n",
       "      <td>0.0</td>\n",
       "      <td>0.0</td>\n",
       "    </tr>\n",
       "    <tr>\n",
       "      <th>1</th>\n",
       "      <td>0.0</td>\n",
       "      <td>0.0</td>\n",
       "      <td>0.0</td>\n",
       "      <td>0.0</td>\n",
       "      <td>0.0</td>\n",
       "      <td>0.0</td>\n",
       "      <td>0.0</td>\n",
       "      <td>0.0</td>\n",
       "      <td>0.0</td>\n",
       "      <td>0.0</td>\n",
       "      <td>...</td>\n",
       "      <td>0.0</td>\n",
       "      <td>0.0</td>\n",
       "      <td>0.0</td>\n",
       "      <td>0.0</td>\n",
       "      <td>0.0</td>\n",
       "      <td>0.0</td>\n",
       "      <td>0.0</td>\n",
       "      <td>0.0</td>\n",
       "      <td>0.0</td>\n",
       "      <td>0.0</td>\n",
       "    </tr>\n",
       "    <tr>\n",
       "      <th>2</th>\n",
       "      <td>0.0</td>\n",
       "      <td>0.0</td>\n",
       "      <td>0.0</td>\n",
       "      <td>0.0</td>\n",
       "      <td>0.0</td>\n",
       "      <td>0.0</td>\n",
       "      <td>0.0</td>\n",
       "      <td>0.0</td>\n",
       "      <td>0.0</td>\n",
       "      <td>0.0</td>\n",
       "      <td>...</td>\n",
       "      <td>0.0</td>\n",
       "      <td>0.0</td>\n",
       "      <td>0.0</td>\n",
       "      <td>0.0</td>\n",
       "      <td>0.0</td>\n",
       "      <td>0.0</td>\n",
       "      <td>0.0</td>\n",
       "      <td>0.0</td>\n",
       "      <td>0.0</td>\n",
       "      <td>0.0</td>\n",
       "    </tr>\n",
       "    <tr>\n",
       "      <th>3</th>\n",
       "      <td>0.0</td>\n",
       "      <td>0.0</td>\n",
       "      <td>0.0</td>\n",
       "      <td>0.0</td>\n",
       "      <td>0.0</td>\n",
       "      <td>0.0</td>\n",
       "      <td>0.0</td>\n",
       "      <td>0.0</td>\n",
       "      <td>0.0</td>\n",
       "      <td>0.0</td>\n",
       "      <td>...</td>\n",
       "      <td>0.0</td>\n",
       "      <td>0.0</td>\n",
       "      <td>0.0</td>\n",
       "      <td>0.0</td>\n",
       "      <td>0.0</td>\n",
       "      <td>0.0</td>\n",
       "      <td>0.0</td>\n",
       "      <td>0.0</td>\n",
       "      <td>0.0</td>\n",
       "      <td>0.0</td>\n",
       "    </tr>\n",
       "    <tr>\n",
       "      <th>4</th>\n",
       "      <td>0.0</td>\n",
       "      <td>0.0</td>\n",
       "      <td>0.0</td>\n",
       "      <td>0.0</td>\n",
       "      <td>0.0</td>\n",
       "      <td>0.0</td>\n",
       "      <td>0.0</td>\n",
       "      <td>6.0</td>\n",
       "      <td>0.0</td>\n",
       "      <td>0.0</td>\n",
       "      <td>...</td>\n",
       "      <td>0.0</td>\n",
       "      <td>0.0</td>\n",
       "      <td>0.0</td>\n",
       "      <td>0.0</td>\n",
       "      <td>0.0</td>\n",
       "      <td>0.0</td>\n",
       "      <td>0.0</td>\n",
       "      <td>0.0</td>\n",
       "      <td>0.0</td>\n",
       "      <td>0.0</td>\n",
       "    </tr>\n",
       "  </tbody>\n",
       "</table>\n",
       "<p>5 rows × 309 columns</p>\n",
       "</div>"
      ],
      "text/plain": [
       "   1.0  2.0  3.0  4.0  5.0  6.0  7.0  8.0  9.0  10.0  ...  300.0  301.0  \\\n",
       "0  0.0  0.0  0.0  0.0  0.0  0.0  0.0  0.0  0.0   0.0  ...    0.0    0.0   \n",
       "1  0.0  0.0  0.0  0.0  0.0  0.0  0.0  0.0  0.0   0.0  ...    0.0    0.0   \n",
       "2  0.0  0.0  0.0  0.0  0.0  0.0  0.0  0.0  0.0   0.0  ...    0.0    0.0   \n",
       "3  0.0  0.0  0.0  0.0  0.0  0.0  0.0  0.0  0.0   0.0  ...    0.0    0.0   \n",
       "4  0.0  0.0  0.0  0.0  0.0  0.0  0.0  6.0  0.0   0.0  ...    0.0    0.0   \n",
       "\n",
       "   302.0  303.0  304.0  305.0  306.0  307.0  308.0  309.0  \n",
       "0    0.0    0.0    0.0    0.0    0.0    0.0    0.0    0.0  \n",
       "1    0.0    0.0    0.0    0.0    0.0    0.0    0.0    0.0  \n",
       "2    0.0    0.0    0.0    0.0    0.0    0.0    0.0    0.0  \n",
       "3    0.0    0.0    0.0    0.0    0.0    0.0    0.0    0.0  \n",
       "4    0.0    0.0    0.0    0.0    0.0    0.0    0.0    0.0  \n",
       "\n",
       "[5 rows x 309 columns]"
      ]
     },
     "execution_count": 48,
     "metadata": {},
     "output_type": "execute_result"
    }
   ],
   "source": [
    "ratings_matrix.head()"
   ]
  },
  {
   "cell_type": "code",
   "execution_count": 95,
   "id": "cf30553e",
   "metadata": {},
   "outputs": [
    {
     "data": {
      "text/plain": [
       "309"
      ]
     },
     "execution_count": 95,
     "metadata": {},
     "output_type": "execute_result"
    }
   ],
   "source": [
    "len(u)"
   ]
  },
  {
   "cell_type": "code",
   "execution_count": 96,
   "id": "65640018",
   "metadata": {},
   "outputs": [
    {
     "data": {
      "text/plain": [
       "308"
      ]
     },
     "execution_count": 96,
     "metadata": {},
     "output_type": "execute_result"
    }
   ],
   "source": [
    "len(u[1:])"
   ]
  },
  {
   "cell_type": "code",
   "execution_count": 98,
   "id": "dfe79156",
   "metadata": {},
   "outputs": [
    {
     "data": {
      "text/plain": [
       "308"
      ]
     },
     "execution_count": 98,
     "metadata": {},
     "output_type": "execute_result"
    }
   ],
   "source": [
    "len(cosines)"
   ]
  },
  {
   "cell_type": "code",
   "execution_count": null,
   "id": "934e6857",
   "metadata": {},
   "outputs": [],
   "source": []
  },
  {
   "cell_type": "code",
   "execution_count": 108,
   "id": "dfe29e13",
   "metadata": {},
   "outputs": [
    {
     "data": {
      "text/plain": [
       "12"
      ]
     },
     "execution_count": 108,
     "metadata": {},
     "output_type": "execute_result"
    }
   ],
   "source": [
    "z = [1, 2, 3]\n",
    "d = [3, 2, 1]\n",
    "sum([(x[0] + x[1]) for x in zip(z, d)])"
   ]
  },
  {
   "cell_type": "code",
   "execution_count": 111,
   "id": "fc7f3924",
   "metadata": {},
   "outputs": [
    {
     "name": "stderr",
     "output_type": "stream",
     "text": [
      "d:\\users\\maxim\\documents\\cours\\master sc\\m2\\semestre9\\recommender systems\\idmc-recommender-system\\venv\\lib\\site-packages\\ipykernel_launcher.py:1: RuntimeWarning: invalid value encountered in double_scalars\n",
      "  \"\"\"Entry point for launching an IPython kernel.\n"
     ]
    },
    {
     "data": {
      "text/plain": [
       "nan"
      ]
     },
     "execution_count": 111,
     "metadata": {},
     "output_type": "execute_result"
    }
   ],
   "source": [
    "sum([x[0]*x[1] for x in zip(u[1:], cosines) if (x[0] != 0)]) / sum([x[1] for x in zip(u[1:], cosines) if (x[0] != 0)])"
   ]
  },
  {
   "cell_type": "code",
   "execution_count": 147,
   "id": "0e7091a7",
   "metadata": {},
   "outputs": [],
   "source": [
    "numerator, denom = 0, 0\n",
    "\n",
    "for i_, (u_, c) in enumerate(zip(u, cosines)):\n",
    "#     if (u_ == user_id):\n",
    "#         print(\"yay\")\n",
    "    if i_ != user_id:\n",
    "        if u_ != 0:\n",
    "            numerator += u_*c\n",
    "            denom += c"
   ]
  },
  {
   "cell_type": "code",
   "execution_count": 148,
   "id": "d4bff85f",
   "metadata": {},
   "outputs": [
    {
     "data": {
      "text/plain": [
       "(0.0, 0.0)"
      ]
     },
     "execution_count": 148,
     "metadata": {},
     "output_type": "execute_result"
    }
   ],
   "source": [
    "numerator, denom"
   ]
  },
  {
   "cell_type": "code",
   "execution_count": 155,
   "id": "e6e7f8f2",
   "metadata": {},
   "outputs": [
    {
     "name": "stdout",
     "output_type": "stream",
     "text": [
      "User: 0, Item:5.0, Score: 3.0\n",
      "User: 0, Item:10.0, Score: 3.0\n",
      "User: 0, Item:16.0, Score: 4.126679004591278\n",
      "User: 0, Item:19.0, Score: 5.0\n",
      "User: 0, Item:22.0, Score: 3.0\n",
      "User: 0, Item:23.0, Score: 5.0\n",
      "User: 0, Item:24.0, Score: 5.0\n",
      "User: 0, Item:25.0, Score: 5.0\n",
      "User: 0, Item:29.0, Score: 5.0\n",
      "User: 0, Item:31.0, Score: 5.0\n",
      "User: 0, Item:35.0, Score: 3.0000000000000004\n",
      "User: 0, Item:40.0, Score: 3.0\n",
      "User: 0, Item:45.0, Score: 4.0\n",
      "User: 0, Item:46.0, Score: 4.152621035437255\n",
      "User: 0, Item:49.0, Score: 4.0\n",
      "User: 0, Item:51.0, Score: 4.0\n",
      "User: 0, Item:64.0, Score: 3.0\n",
      "User: 0, Item:65.0, Score: 3.773044449481866\n",
      "User: 0, Item:73.0, Score: 3.0\n",
      "User: 0, Item:88.0, Score: 4.230272279750726\n",
      "User: 0, Item:96.0, Score: 4.0\n",
      "User: 0, Item:100.0, Score: 4.0\n",
      "User: 0, Item:109.0, Score: 4.0\n",
      "User: 0, Item:110.0, Score: 3.0\n",
      "User: 0, Item:113.0, Score: 4.0\n",
      "User: 0, Item:126.0, Score: 3.51953502877388\n",
      "User: 0, Item:144.0, Score: 3.0\n",
      "User: 0, Item:146.0, Score: 4.0\n",
      "User: 0, Item:155.0, Score: 4.0\n",
      "User: 0, Item:159.0, Score: 5.0\n",
      "User: 0, Item:168.0, Score: 3.0\n",
      "User: 0, Item:184.0, Score: 4.0\n",
      "User: 0, Item:201.0, Score: 3.0\n",
      "User: 0, Item:204.0, Score: 4.0\n",
      "User: 0, Item:209.0, Score: 3.0\n",
      "User: 0, Item:212.0, Score: 4.0\n",
      "User: 0, Item:215.0, Score: 3.0\n",
      "User: 0, Item:224.0, Score: 5.0\n",
      "User: 0, Item:233.0, Score: 5.0\n",
      "User: 0, Item:237.0, Score: 5.0\n",
      "User: 0, Item:255.0, Score: 4.0\n",
      "User: 0, Item:259.0, Score: 4.0\n",
      "User: 0, Item:260.0, Score: 5.0\n",
      "User: 0, Item:261.0, Score: 3.0\n",
      "User: 0, Item:292.0, Score: 3.0\n",
      "User: 0, Item:299.0, Score: 3.0\n",
      "User: 0, Item:301.0, Score: 4.0\n",
      "User: 0, Item:308.0, Score: 3.0\n"
     ]
    }
   ],
   "source": [
    "for item_id in ratings_matrix.columns:\n",
    "    user_id = 0\n",
    "    u = ratings_matrix.loc[user_id]\n",
    "\n",
    "    # we try to compute the rating for the top left cell\n",
    "    # item_id = \"1.0\"\n",
    "    i = ratings_matrix.loc[:, item_id]\n",
    "\n",
    "    cosines = [cosine(i, ratings_matrix.loc[:, x]) for x in ratings_matrix.columns if x!=item_id]\n",
    "\n",
    "    # link the cosine sims with the ratings of the user\n",
    "    numerator, denom = 0, 0\n",
    "    for i_, (u_, c) in enumerate(zip(u, cosines)):\n",
    "        if i_ != user_id:\n",
    "            if u_ != 0:\n",
    "                numerator += u_*c\n",
    "                denom += c\n",
    "\n",
    "#     print(item_id, f\"- {numerator}/{denom}\")\n",
    "    if denom != 0.0:\n",
    "        print(f\"User: {user_id}, Item:{item_id}, Score: {numerator/denom}\")"
   ]
  },
  {
   "cell_type": "code",
   "execution_count": null,
   "id": "4d02d7bd",
   "metadata": {},
   "outputs": [],
   "source": []
  },
  {
   "cell_type": "code",
   "execution_count": null,
   "id": "26ff936b",
   "metadata": {},
   "outputs": [],
   "source": []
  },
  {
   "cell_type": "code",
   "execution_count": null,
   "id": "d7127c9a",
   "metadata": {},
   "outputs": [],
   "source": [
    "def compute_cosine(u, i, df):\n",
    "    \"\"\"\n",
    "    :param: u : the id of the user\n",
    "    :param: i : the id of the item\n",
    "    :param: df: the dataframe\n",
    "    \"\"\"\n",
    "    # compute all the cosine similarities between items\n",
    "    u = df.loc[user_id]\n",
    "    i = ratings_matrix.loc[:, item_id]\n",
    "    \n",
    "    cosines = [cosine(i, ratings_matrix.loc[:, x]) for x in ratings_matrix.columns if x!=item_id]\n",
    "    \n",
    "    # compute the estimated rating for this user at this item\n",
    "    a = df.loc[u]"
   ]
  }
 ],
 "metadata": {
  "kernelspec": {
   "display_name": "Python 3 (ipykernel)",
   "language": "python",
   "name": "python3"
  },
  "language_info": {
   "codemirror_mode": {
    "name": "ipython",
    "version": 3
   },
   "file_extension": ".py",
   "mimetype": "text/x-python",
   "name": "python",
   "nbconvert_exporter": "python",
   "pygments_lexer": "ipython3",
   "version": "3.7.7"
  }
 },
 "nbformat": 4,
 "nbformat_minor": 5
}
