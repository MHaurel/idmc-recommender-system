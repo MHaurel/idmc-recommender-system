{
 "cells": [
  {
   "cell_type": "code",
   "execution_count": 1,
   "id": "a64e2379-8239-43f0-8e78-1aa1e045aad7",
   "metadata": {},
   "outputs": [
    {
     "name": "stdout",
     "output_type": "stream",
     "text": [
      "RMSE: 2.9822\n"
     ]
    },
    {
     "data": {
      "text/plain": [
       "2.982221932594881"
      ]
     },
     "execution_count": 1,
     "metadata": {},
     "output_type": "execute_result"
    }
   ],
   "source": [
    "import pandas as pd\n",
    "import numpy as np\n",
    "\n",
    "from surprise import accuracy, Dataset, SVD, Reader, dump\n",
    "from surprise.model_selection import train_test_split, cross_validate\n",
    "\n",
    "import string\n",
    "\n",
    "food_data = pd.read_csv('data/food.csv')\n",
    "ratings_data = pd.read_csv('data/ratings.csv')\n",
    "\n",
    "def text_cleaning(text):\n",
    "    text = \"\".join([char for char in text if char not in string.punctuation])\n",
    "    return text\n",
    "food_data['Describe'] = food_data['Describe'].apply(text_cleaning)\n",
    "\n",
    "def create_soup(x):\n",
    "  return \" \".join([x['Describe'], x['C_Type'], x['Veg_Non']])\n",
    "\n",
    "food_data['soup'] = food_data.apply(create_soup, axis=1)\n",
    "\n",
    "reader = Reader(rating_scale=(1, 10))\n",
    "\n",
    "merged_data = pd.merge(ratings_data, food_data, on='Food_ID')\n",
    "data = Dataset.load_from_df(merged_data[['User_ID', 'Food_ID', 'Rating']], reader)\n",
    "\n",
    "# sample random trainset and testset\n",
    "# test set is made of 25% of the ratings.\n",
    "trainset, testset = train_test_split(data, test_size=0.25, random_state=42)\n",
    "\n",
    "# We'll use the famous SVD algorithm.\n",
    "algo = SVD(random_state=42)\n",
    "\n",
    "# Train the algorithm on the trainset, and predict ratings for the testset\n",
    "algo.fit(trainset)\n",
    "predictions = algo.test(testset)\n",
    "\n",
    "# Then compute RMSE\n",
    "accuracy.rmse(predictions)"
   ]
  },
  {
   "cell_type": "code",
   "execution_count": 28,
   "id": "57f78c10-bad1-4b35-bec8-bdef705fb82e",
   "metadata": {},
   "outputs": [
    {
     "name": "stdout",
     "output_type": "stream",
     "text": [
      "Evaluating RMSE, MAE of algorithm SVD on 5 split(s).\n",
      "\n",
      "                  Fold 1  Fold 2  Fold 3  Fold 4  Fold 5  Mean    Std     \n",
      "RMSE (testset)    2.7689  2.9140  2.9614  2.8376  3.0491  2.9062  0.0970  \n",
      "MAE (testset)     2.3944  2.5111  2.4772  2.4214  2.6909  2.4990  0.1043  \n",
      "Fit time          0.01    0.00    0.00    0.00    0.00    0.00    0.00    \n",
      "Test time         0.00    0.00    0.00    0.00    0.00    0.00    0.00    \n"
     ]
    }
   ],
   "source": [
    "cv = cross_validate(algo, data, measures=['RMSE', 'MAE'], cv=5, verbose=True)"
   ]
  },
  {
   "cell_type": "code",
   "execution_count": 29,
   "id": "ef5a9360-10b4-4d04-a8b8-f94b9935ede9",
   "metadata": {},
   "outputs": [
    {
     "data": {
      "text/plain": [
       "[Prediction(uid=32.0, iid=143.0, r_ui=1.0, est=5.212655831012134, details={'was_impossible': False}),\n",
       " Prediction(uid=93.0, iid=130.0, r_ui=5.0, est=6.139087593755592, details={'was_impossible': False}),\n",
       " Prediction(uid=63.0, iid=269.0, r_ui=3.0, est=6.270845390478057, details={'was_impossible': False}),\n",
       " Prediction(uid=13.0, iid=74.0, r_ui=8.0, est=5.781941520715908, details={'was_impossible': False}),\n",
       " Prediction(uid=6.0, iid=22.0, r_ui=5.0, est=4.968261535443404, details={'was_impossible': False}),\n",
       " Prediction(uid=94.0, iid=48.0, r_ui=3.0, est=5.504209087916219, details={'was_impossible': False}),\n",
       " Prediction(uid=11.0, iid=200.0, r_ui=10.0, est=5.6761855890991635, details={'was_impossible': False}),\n",
       " Prediction(uid=86.0, iid=159.0, r_ui=2.0, est=5.130810509409138, details={'was_impossible': False}),\n",
       " Prediction(uid=100.0, iid=24.0, r_ui=10.0, est=5.143433985963666, details={'was_impossible': False}),\n",
       " Prediction(uid=41.0, iid=4.0, r_ui=6.0, est=5.426484663470089, details={'was_impossible': False}),\n",
       " Prediction(uid=80.0, iid=103.0, r_ui=9.0, est=5.761848002669343, details={'was_impossible': False}),\n",
       " Prediction(uid=61.0, iid=22.0, r_ui=3.0, est=5.1316802652675255, details={'was_impossible': False}),\n",
       " Prediction(uid=35.0, iid=147.0, r_ui=3.0, est=5.179326950833495, details={'was_impossible': False}),\n",
       " Prediction(uid=36.0, iid=49.0, r_ui=2.0, est=6.4893769261150185, details={'was_impossible': False}),\n",
       " Prediction(uid=15.0, iid=29.0, r_ui=7.0, est=6.284176871491583, details={'was_impossible': False}),\n",
       " Prediction(uid=4.0, iid=212.0, r_ui=10.0, est=4.532096911321188, details={'was_impossible': False}),\n",
       " Prediction(uid=50.0, iid=158.0, r_ui=6.0, est=5.348019310940807, details={'was_impossible': False}),\n",
       " Prediction(uid=78.0, iid=302.0, r_ui=5.0, est=6.068590602440692, details={'was_impossible': False}),\n",
       " Prediction(uid=57.0, iid=271.0, r_ui=1.0, est=5.4458332506250455, details={'was_impossible': False}),\n",
       " Prediction(uid=58.0, iid=84.0, r_ui=10.0, est=4.792771908805139, details={'was_impossible': False}),\n",
       " Prediction(uid=31.0, iid=240.0, r_ui=3.0, est=5.959180481677627, details={'was_impossible': False}),\n",
       " Prediction(uid=68.0, iid=219.0, r_ui=9.0, est=5.934522432394333, details={'was_impossible': False}),\n",
       " Prediction(uid=67.0, iid=252.0, r_ui=4.0, est=5.864138372671403, details={'was_impossible': False}),\n",
       " Prediction(uid=92.0, iid=6.0, r_ui=1.0, est=6.311749661030637, details={'was_impossible': False}),\n",
       " Prediction(uid=23.0, iid=26.0, r_ui=6.0, est=5.3623183249686885, details={'was_impossible': False}),\n",
       " Prediction(uid=48.0, iid=9.0, r_ui=3.0, est=5.877455620389373, details={'was_impossible': False}),\n",
       " Prediction(uid=52.0, iid=211.0, r_ui=1.0, est=5.33339009403806, details={'was_impossible': False}),\n",
       " Prediction(uid=75.0, iid=12.0, r_ui=3.0, est=5.008572403512366, details={'was_impossible': False}),\n",
       " Prediction(uid=77.0, iid=228.0, r_ui=4.0, est=5.0831615461501025, details={'was_impossible': False}),\n",
       " Prediction(uid=61.0, iid=45.0, r_ui=3.0, est=5.322501130502728, details={'was_impossible': False}),\n",
       " Prediction(uid=95.0, iid=297.0, r_ui=5.0, est=5.465841733578597, details={'was_impossible': False}),\n",
       " Prediction(uid=95.0, iid=228.0, r_ui=3.0, est=5.465841733578597, details={'was_impossible': False}),\n",
       " Prediction(uid=70.0, iid=68.0, r_ui=4.0, est=5.0878261737954915, details={'was_impossible': False}),\n",
       " Prediction(uid=62.0, iid=108.0, r_ui=4.0, est=5.613345169192275, details={'was_impossible': False}),\n",
       " Prediction(uid=29.0, iid=34.0, r_ui=5.0, est=5.624653594519747, details={'was_impossible': False}),\n",
       " Prediction(uid=93.0, iid=18.0, r_ui=9.0, est=6.496226374336237, details={'was_impossible': False}),\n",
       " Prediction(uid=38.0, iid=130.0, r_ui=3.0, est=5.352063340795959, details={'was_impossible': False}),\n",
       " Prediction(uid=8.0, iid=128.0, r_ui=4.0, est=5.32173038477584, details={'was_impossible': False}),\n",
       " Prediction(uid=20.0, iid=261.0, r_ui=8.0, est=5.467157895406802, details={'was_impossible': False}),\n",
       " Prediction(uid=94.0, iid=117.0, r_ui=4.0, est=5.523240063819759, details={'was_impossible': False}),\n",
       " Prediction(uid=17.0, iid=251.0, r_ui=5.0, est=5.285601629246584, details={'was_impossible': False}),\n",
       " Prediction(uid=82.0, iid=16.0, r_ui=4.0, est=5.907209648339765, details={'was_impossible': False}),\n",
       " Prediction(uid=28.0, iid=162.0, r_ui=9.0, est=5.781931813832196, details={'was_impossible': False}),\n",
       " Prediction(uid=22.0, iid=2.0, r_ui=5.0, est=4.874722447407392, details={'was_impossible': False}),\n",
       " Prediction(uid=92.0, iid=64.0, r_ui=3.0, est=5.686217472130101, details={'was_impossible': False}),\n",
       " Prediction(uid=53.0, iid=226.0, r_ui=8.0, est=5.297572922266552, details={'was_impossible': False}),\n",
       " Prediction(uid=1.0, iid=46.0, r_ui=3.0, est=5.373162466758805, details={'was_impossible': False}),\n",
       " Prediction(uid=80.0, iid=56.0, r_ui=7.0, est=5.164277396007536, details={'was_impossible': False}),\n",
       " Prediction(uid=91.0, iid=176.0, r_ui=5.0, est=5.036518133556555, details={'was_impossible': False}),\n",
       " Prediction(uid=80.0, iid=21.0, r_ui=10.0, est=5.639456131713114, details={'was_impossible': False}),\n",
       " Prediction(uid=59.0, iid=239.0, r_ui=10.0, est=5.9153742603726185, details={'was_impossible': False}),\n",
       " Prediction(uid=7.0, iid=31.0, r_ui=10.0, est=6.00022754612458, details={'was_impossible': False}),\n",
       " Prediction(uid=75.0, iid=37.0, r_ui=2.0, est=5.105777750300214, details={'was_impossible': False}),\n",
       " Prediction(uid=99.0, iid=65.0, r_ui=7.0, est=4.9876807167607975, details={'was_impossible': False}),\n",
       " Prediction(uid=62.0, iid=265.0, r_ui=4.0, est=5.656197242785619, details={'was_impossible': False}),\n",
       " Prediction(uid=28.0, iid=5.0, r_ui=10.0, est=5.6022972168897285, details={'was_impossible': False}),\n",
       " Prediction(uid=62.0, iid=124.0, r_ui=7.0, est=5.656197242785619, details={'was_impossible': False}),\n",
       " Prediction(uid=68.0, iid=199.0, r_ui=8.0, est=5.34818004002317, details={'was_impossible': False}),\n",
       " Prediction(uid=34.0, iid=163.0, r_ui=6.0, est=3.9817652312060154, details={'was_impossible': False}),\n",
       " Prediction(uid=43.0, iid=85.0, r_ui=10.0, est=5.634379290169291, details={'was_impossible': False}),\n",
       " Prediction(uid=83.0, iid=79.0, r_ui=1.0, est=5.359010137548421, details={'was_impossible': False}),\n",
       " Prediction(uid=5.0, iid=64.0, r_ui=2.0, est=6.032136650504867, details={'was_impossible': False}),\n",
       " Prediction(uid=67.0, iid=47.0, r_ui=4.0, est=5.999921707962091, details={'was_impossible': False}),\n",
       " Prediction(uid=39.0, iid=5.0, r_ui=10.0, est=4.983047457590379, details={'was_impossible': False}),\n",
       " Prediction(uid=25.0, iid=63.0, r_ui=9.0, est=4.940749196106081, details={'was_impossible': False}),\n",
       " Prediction(uid=2.0, iid=49.0, r_ui=1.0, est=6.324369136622708, details={'was_impossible': False}),\n",
       " Prediction(uid=37.0, iid=218.0, r_ui=7.0, est=4.877535959623463, details={'was_impossible': False}),\n",
       " Prediction(uid=8.0, iid=224.0, r_ui=9.0, est=5.481193530390297, details={'was_impossible': False}),\n",
       " Prediction(uid=53.0, iid=189.0, r_ui=7.0, est=5.297572922266552, details={'was_impossible': False}),\n",
       " Prediction(uid=30.0, iid=304.0, r_ui=1.0, est=5.486661848484823, details={'was_impossible': False}),\n",
       " Prediction(uid=59.0, iid=43.0, r_ui=3.0, est=6.070572786551103, details={'was_impossible': False}),\n",
       " Prediction(uid=41.0, iid=259.0, r_ui=2.0, est=5.730364105221829, details={'was_impossible': False}),\n",
       " Prediction(uid=97.0, iid=308.0, r_ui=3.0, est=5.333358717059319, details={'was_impossible': False}),\n",
       " Prediction(uid=88.0, iid=48.0, r_ui=9.0, est=5.216335022979913, details={'was_impossible': False}),\n",
       " Prediction(uid=36.0, iid=16.0, r_ui=7.0, est=5.989404618045722, details={'was_impossible': False}),\n",
       " Prediction(uid=89.0, iid=120.0, r_ui=6.0, est=5.435617461793056, details={'was_impossible': False}),\n",
       " Prediction(uid=63.0, iid=186.0, r_ui=8.0, est=7.159886038442258, details={'was_impossible': False}),\n",
       " Prediction(uid=25.0, iid=57.0, r_ui=10.0, est=4.912217692222749, details={'was_impossible': False}),\n",
       " Prediction(uid=97.0, iid=64.0, r_ui=4.0, est=5.333358717059319, details={'was_impossible': False}),\n",
       " Prediction(uid=47.0, iid=225.0, r_ui=3.0, est=5.14447778426707, details={'was_impossible': False}),\n",
       " Prediction(uid=5.0, iid=52.0, r_ui=9.0, est=6.034434595734363, details={'was_impossible': False}),\n",
       " Prediction(uid=96.0, iid=89.0, r_ui=8.0, est=5.892268532549347, details={'was_impossible': False}),\n",
       " Prediction(uid=45.0, iid=10.0, r_ui=6.0, est=4.642757478984605, details={'was_impossible': False}),\n",
       " Prediction(uid=70.0, iid=83.0, r_ui=9.0, est=5.572247649189445, details={'was_impossible': False}),\n",
       " Prediction(uid=17.0, iid=114.0, r_ui=1.0, est=5.285601629246584, details={'was_impossible': False}),\n",
       " Prediction(uid=98.0, iid=217.0, r_ui=3.0, est=5.317261626742925, details={'was_impossible': False}),\n",
       " Prediction(uid=89.0, iid=3.0, r_ui=7.0, est=5.325933757747279, details={'was_impossible': False}),\n",
       " Prediction(uid=48.0, iid=58.0, r_ui=1.0, est=5.4485395403970855, details={'was_impossible': False}),\n",
       " Prediction(uid=85.0, iid=238.0, r_ui=7.0, est=5.617826137820252, details={'was_impossible': False}),\n",
       " Prediction(uid=17.0, iid=8.0, r_ui=5.0, est=5.6966074704272485, details={'was_impossible': False}),\n",
       " Prediction(uid=78.0, iid=21.0, r_ui=4.0, est=5.820971280227927, details={'was_impossible': False}),\n",
       " Prediction(uid=45.0, iid=47.0, r_ui=2.0, est=4.665879458573405, details={'was_impossible': False}),\n",
       " Prediction(uid=22.0, iid=275.0, r_ui=4.0, est=4.995381404242213, details={'was_impossible': False}),\n",
       " Prediction(uid=27.0, iid=161.0, r_ui=2.0, est=5.318174469019971, details={'was_impossible': False}),\n",
       " Prediction(uid=2.0, iid=106.0, r_ui=9.0, est=5.816685363109711, details={'was_impossible': False}),\n",
       " Prediction(uid=37.0, iid=98.0, r_ui=6.0, est=4.877535959623463, details={'was_impossible': False}),\n",
       " Prediction(uid=74.0, iid=132.0, r_ui=6.0, est=5.261383968096484, details={'was_impossible': False}),\n",
       " Prediction(uid=15.0, iid=130.0, r_ui=5.0, est=5.372800297355268, details={'was_impossible': False}),\n",
       " Prediction(uid=31.0, iid=150.0, r_ui=9.0, est=5.959180481677627, details={'was_impossible': False}),\n",
       " Prediction(uid=68.0, iid=179.0, r_ui=5.0, est=5.934522432394333, details={'was_impossible': False}),\n",
       " Prediction(uid=17.0, iid=278.0, r_ui=8.0, est=5.285601629246584, details={'was_impossible': False}),\n",
       " Prediction(uid=52.0, iid=254.0, r_ui=2.0, est=5.731297349781528, details={'was_impossible': False}),\n",
       " Prediction(uid=33.0, iid=248.0, r_ui=10.0, est=5.2909750210081885, details={'was_impossible': False}),\n",
       " Prediction(uid=96.0, iid=271.0, r_ui=7.0, est=5.892268532549347, details={'was_impossible': False}),\n",
       " Prediction(uid=44.0, iid=295.0, r_ui=10.0, est=5.780418966001144, details={'was_impossible': False}),\n",
       " Prediction(uid=28.0, iid=54.0, r_ui=7.0, est=5.4564184063147385, details={'was_impossible': False}),\n",
       " Prediction(uid=70.0, iid=16.0, r_ui=2.0, est=5.922975164676909, details={'was_impossible': False}),\n",
       " Prediction(uid=41.0, iid=51.0, r_ui=3.0, est=6.044393305402975, details={'was_impossible': False}),\n",
       " Prediction(uid=87.0, iid=200.0, r_ui=2.0, est=5.136297718335834, details={'was_impossible': False}),\n",
       " Prediction(uid=14.0, iid=87.0, r_ui=8.0, est=5.321637571503607, details={'was_impossible': False}),\n",
       " Prediction(uid=51.0, iid=136.0, r_ui=6.0, est=6.27729431204774, details={'was_impossible': False}),\n",
       " Prediction(uid=35.0, iid=15.0, r_ui=1.0, est=5.40259796980131, details={'was_impossible': False}),\n",
       " Prediction(uid=49.0, iid=139.0, r_ui=10.0, est=5.627935717128639, details={'was_impossible': False}),\n",
       " Prediction(uid=8.0, iid=242.0, r_ui=3.0, est=5.560782431717138, details={'was_impossible': False}),\n",
       " Prediction(uid=73.0, iid=234.0, r_ui=2.0, est=5.312637251803267, details={'was_impossible': False}),\n",
       " Prediction(uid=42.0, iid=196.0, r_ui=9.0, est=5.308868496687321, details={'was_impossible': False}),\n",
       " Prediction(uid=19.0, iid=84.0, r_ui=10.0, est=5.137717450373251, details={'was_impossible': False}),\n",
       " Prediction(uid=77.0, iid=123.0, r_ui=10.0, est=5.0831615461501025, details={'was_impossible': False}),\n",
       " Prediction(uid=41.0, iid=100.0, r_ui=3.0, est=5.010115504070296, details={'was_impossible': False}),\n",
       " Prediction(uid=100.0, iid=233.0, r_ui=10.0, est=5.536036916107089, details={'was_impossible': False}),\n",
       " Prediction(uid=57.0, iid=33.0, r_ui=3.0, est=5.596984327724027, details={'was_impossible': False}),\n",
       " Prediction(uid=62.0, iid=58.0, r_ui=4.0, est=5.625078240863644, details={'was_impossible': False}),\n",
       " Prediction(uid=6.0, iid=213.0, r_ui=6.0, est=5.195741589220536, details={'was_impossible': False}),\n",
       " Prediction(uid=39.0, iid=2.0, r_ui=10.0, est=4.960437692407651, details={'was_impossible': False}),\n",
       " Prediction(uid=43.0, iid=34.0, r_ui=8.0, est=5.834629502736485, details={'was_impossible': False}),\n",
       " Prediction(uid=98.0, iid=47.0, r_ui=2.0, est=5.477461160781478, details={'was_impossible': False}),\n",
       " Prediction(uid=64.0, iid=303.0, r_ui=6.0, est=5.134659984624082, details={'was_impossible': False}),\n",
       " Prediction(uid=9.0, iid=91.0, r_ui=5.0, est=4.137301632570168, details={'was_impossible': False})]"
      ]
     },
     "execution_count": 29,
     "metadata": {},
     "output_type": "execute_result"
    }
   ],
   "source": [
    "predictions"
   ]
  },
  {
   "cell_type": "markdown",
   "id": "43be94c8-30d7-4708-8016-9506d13e827c",
   "metadata": {},
   "source": [
    "Demonstration about how to predict the rating for the user with id=80 and item with id=2"
   ]
  },
  {
   "cell_type": "code",
   "execution_count": 30,
   "id": "59777e8f-16a0-4354-befe-cf5d3ba2fb00",
   "metadata": {},
   "outputs": [
    {
     "data": {
      "text/plain": [
       "Prediction(uid=80.0, iid=2.0, r_ui=None, est=6.161212619049724, details={'was_impossible': False})"
      ]
     },
     "execution_count": 30,
     "metadata": {},
     "output_type": "execute_result"
    }
   ],
   "source": [
    "algo.predict(80.0, 2.0)"
   ]
  },
  {
   "cell_type": "code",
   "execution_count": 39,
   "id": "7fce9338-efb1-4d86-a06f-4a8c2935d529",
   "metadata": {},
   "outputs": [
    {
     "name": "stdout",
     "output_type": "stream",
     "text": [
      "212    berry parfait hazelnut white chocolate sable\n",
      "200          mix fruit laccha rabri tortilla crunch\n",
      "127                                 thai lamb balls\n",
      "188                                 easy bread poha\n",
      "48                             christmas tree pizza\n",
      "Name: Name, dtype: object\n"
     ]
    }
   ],
   "source": [
    "user_id = 4.0\n",
    "\n",
    "def get_user_recommendations(user_id, n=5):\n",
    "    predictions = []\n",
    "    for item in merged_data['Food_ID'].unique():\n",
    "        predictions.append(algo.predict(user_id, item))\n",
    "    \n",
    "    best_items = sorted([(prediction.iid, prediction.est) for prediction in predictions], key=lambda x: x[1])[::-1][:n]\n",
    "    best_items_idx = [x for x, y in best_items]\n",
    "    rec_items = food_data.loc[best_items_idx]\n",
    "    return rec_items['Name']\n",
    "\n",
    "print(get_user_recommendations(user_id, n=5))"
   ]
  },
  {
   "cell_type": "markdown",
   "id": "82a371fa-d0ce-467e-8a7c-7d32da7c1222",
   "metadata": {},
   "source": [
    "## Fine-tuning"
   ]
  },
  {
   "cell_type": "code",
   "execution_count": 32,
   "id": "e1e21c69-dcd9-4b89-af65-97feb699c59e",
   "metadata": {},
   "outputs": [
    {
     "name": "stdout",
     "output_type": "stream",
     "text": [
      "2.8493328359206425\n",
      "{'n_factors': 800, 'n_epochs': 5}\n"
     ]
    }
   ],
   "source": [
    "from surprise.model_selection import GridSearchCV\n",
    "\n",
    "param_grid = {\n",
    "  'n_factors': [20, 50, 100, 200, 400, 800, 1000],\n",
    "  'n_epochs': [5, 10, 20, 50, 100, 200]\n",
    "}\n",
    "\n",
    "gs = GridSearchCV(SVD, param_grid, measures=['rmse', 'mae'], cv=10)\n",
    "gs.fit(data)\n",
    "\n",
    "print(gs.best_score['rmse'])\n",
    "print(gs.best_params['rmse'])"
   ]
  },
  {
   "cell_type": "code",
   "execution_count": 33,
   "id": "a9420148-ca15-4813-b4c6-57b4976050b0",
   "metadata": {},
   "outputs": [
    {
     "data": {
      "text/plain": [
       "<surprise.prediction_algorithms.matrix_factorization.SVD at 0x7fe69dbe32e0>"
      ]
     },
     "execution_count": 33,
     "metadata": {},
     "output_type": "execute_result"
    }
   ],
   "source": [
    "best_factor = gs.best_params['rmse']['n_factors']\n",
    "best_epoch = gs.best_params['rmse']['n_epochs']\n",
    "\n",
    "# We'll use the famous SVD algorithm.\n",
    "svd = SVD(n_factors=best_factor, n_epochs=best_epoch, random_state=42)\n",
    "\n",
    "# Train the algorithm on the trainset\n",
    "svd.fit(trainset)"
   ]
  },
  {
   "cell_type": "code",
   "execution_count": 34,
   "id": "ea38c482-879e-4993-90f6-8834d31031bb",
   "metadata": {},
   "outputs": [
    {
     "name": "stdout",
     "output_type": "stream",
     "text": [
      "Evaluating RMSE, MAE of algorithm SVD on 5 split(s).\n",
      "\n",
      "                  Fold 1  Fold 2  Fold 3  Fold 4  Fold 5  Mean    Std     \n",
      "RMSE (testset)    2.7234  2.9067  2.9852  2.8775  2.9123  2.8810  0.0865  \n",
      "MAE (testset)     2.3403  2.5172  2.5607  2.4985  2.4900  2.4813  0.0746  \n",
      "Fit time          0.01    0.01    0.01    0.01    0.01    0.01    0.00    \n",
      "Test time         0.00    0.00    0.00    0.00    0.00    0.00    0.00    \n"
     ]
    }
   ],
   "source": [
    "cv = cross_validate(svd, data, measures=['RMSE', 'MAE'], cv=5, verbose=True)"
   ]
  },
  {
   "cell_type": "markdown",
   "id": "b8fc3939-3db3-45e7-b00f-1ee3d05f04cd",
   "metadata": {},
   "source": [
    "### Analyzing predictions"
   ]
  },
  {
   "cell_type": "code",
   "execution_count": 35,
   "id": "ca49262d-aa40-40ad-8faf-091e70fdb084",
   "metadata": {},
   "outputs": [
    {
     "data": {
      "text/plain": [
       "[Prediction(uid=32.0, iid=143.0, r_ui=1.0, est=3.8740361193418824, details={'was_impossible': False}),\n",
       " Prediction(uid=93.0, iid=130.0, r_ui=5.0, est=4.976564548008135, details={'was_impossible': False}),\n",
       " Prediction(uid=63.0, iid=269.0, r_ui=3.0, est=4.311405417625729, details={'was_impossible': False}),\n",
       " Prediction(uid=13.0, iid=74.0, r_ui=8.0, est=5.142429841234285, details={'was_impossible': False}),\n",
       " Prediction(uid=6.0, iid=22.0, r_ui=5.0, est=5.066880885118487, details={'was_impossible': False}),\n",
       " Prediction(uid=94.0, iid=48.0, r_ui=3.0, est=4.35024065248207, details={'was_impossible': False}),\n",
       " Prediction(uid=11.0, iid=200.0, r_ui=10.0, est=5.378289425667743, details={'was_impossible': False}),\n",
       " Prediction(uid=86.0, iid=159.0, r_ui=2.0, est=3.867190647709191, details={'was_impossible': False}),\n",
       " Prediction(uid=100.0, iid=24.0, r_ui=10.0, est=5.344717160221997, details={'was_impossible': False}),\n",
       " Prediction(uid=41.0, iid=4.0, r_ui=6.0, est=5.598493007086816, details={'was_impossible': False}),\n",
       " Prediction(uid=80.0, iid=103.0, r_ui=9.0, est=5.522324916471944, details={'was_impossible': False}),\n",
       " Prediction(uid=61.0, iid=22.0, r_ui=3.0, est=4.224921994866339, details={'was_impossible': False}),\n",
       " Prediction(uid=35.0, iid=147.0, r_ui=3.0, est=4.391788054622557, details={'was_impossible': False}),\n",
       " Prediction(uid=36.0, iid=49.0, r_ui=2.0, est=4.292776652110518, details={'was_impossible': False}),\n",
       " Prediction(uid=15.0, iid=29.0, r_ui=7.0, est=6.957779050339028, details={'was_impossible': False}),\n",
       " Prediction(uid=4.0, iid=212.0, r_ui=10.0, est=7.255981130267417, details={'was_impossible': False}),\n",
       " Prediction(uid=50.0, iid=158.0, r_ui=6.0, est=5.516931922356416, details={'was_impossible': False}),\n",
       " Prediction(uid=78.0, iid=302.0, r_ui=5.0, est=5.53530919619863, details={'was_impossible': False}),\n",
       " Prediction(uid=57.0, iid=271.0, r_ui=1.0, est=3.47338173605479, details={'was_impossible': False}),\n",
       " Prediction(uid=58.0, iid=84.0, r_ui=10.0, est=7.110169536504085, details={'was_impossible': False}),\n",
       " Prediction(uid=31.0, iid=240.0, r_ui=3.0, est=4.561888604448141, details={'was_impossible': False}),\n",
       " Prediction(uid=68.0, iid=219.0, r_ui=9.0, est=6.934706961036546, details={'was_impossible': False}),\n",
       " Prediction(uid=67.0, iid=252.0, r_ui=4.0, est=5.387253660763023, details={'was_impossible': False}),\n",
       " Prediction(uid=92.0, iid=6.0, r_ui=1.0, est=5.341838127423941, details={'was_impossible': False}),\n",
       " Prediction(uid=23.0, iid=26.0, r_ui=6.0, est=5.589609227557932, details={'was_impossible': False}),\n",
       " Prediction(uid=48.0, iid=9.0, r_ui=3.0, est=4.6757255864921845, details={'was_impossible': False}),\n",
       " Prediction(uid=52.0, iid=211.0, r_ui=1.0, est=3.407329801870496, details={'was_impossible': False}),\n",
       " Prediction(uid=75.0, iid=12.0, r_ui=3.0, est=5.2343553956664275, details={'was_impossible': False}),\n",
       " Prediction(uid=77.0, iid=228.0, r_ui=4.0, est=4.998007255016331, details={'was_impossible': False}),\n",
       " Prediction(uid=61.0, iid=45.0, r_ui=3.0, est=4.819921677071759, details={'was_impossible': False}),\n",
       " Prediction(uid=95.0, iid=297.0, r_ui=5.0, est=5.312907583408731, details={'was_impossible': False}),\n",
       " Prediction(uid=95.0, iid=228.0, r_ui=3.0, est=4.115188702941783, details={'was_impossible': False}),\n",
       " Prediction(uid=70.0, iid=68.0, r_ui=4.0, est=4.715039713725874, details={'was_impossible': False}),\n",
       " Prediction(uid=62.0, iid=108.0, r_ui=4.0, est=4.53243250108015, details={'was_impossible': False}),\n",
       " Prediction(uid=29.0, iid=34.0, r_ui=5.0, est=5.349163734992146, details={'was_impossible': False}),\n",
       " Prediction(uid=93.0, iid=18.0, r_ui=9.0, est=7.1005802191525085, details={'was_impossible': False}),\n",
       " Prediction(uid=38.0, iid=130.0, r_ui=3.0, est=4.308088544580512, details={'was_impossible': False}),\n",
       " Prediction(uid=8.0, iid=128.0, r_ui=4.0, est=4.932400229783572, details={'was_impossible': False}),\n",
       " Prediction(uid=20.0, iid=261.0, r_ui=8.0, est=6.586237908068662, details={'was_impossible': False}),\n",
       " Prediction(uid=94.0, iid=117.0, r_ui=4.0, est=5.7639383254179934, details={'was_impossible': False}),\n",
       " Prediction(uid=17.0, iid=251.0, r_ui=5.0, est=5.332768520795347, details={'was_impossible': False}),\n",
       " Prediction(uid=82.0, iid=16.0, r_ui=4.0, est=4.694094260594824, details={'was_impossible': False}),\n",
       " Prediction(uid=28.0, iid=162.0, r_ui=9.0, est=6.653121718947623, details={'was_impossible': False}),\n",
       " Prediction(uid=22.0, iid=2.0, r_ui=5.0, est=4.995593439042774, details={'was_impossible': False}),\n",
       " Prediction(uid=92.0, iid=64.0, r_ui=3.0, est=4.66410453480907, details={'was_impossible': False}),\n",
       " Prediction(uid=53.0, iid=226.0, r_ui=8.0, est=6.471140910049348, details={'was_impossible': False}),\n",
       " Prediction(uid=1.0, iid=46.0, r_ui=3.0, est=4.509314184328717, details={'was_impossible': False}),\n",
       " Prediction(uid=80.0, iid=56.0, r_ui=7.0, est=5.489243209486677, details={'was_impossible': False}),\n",
       " Prediction(uid=91.0, iid=176.0, r_ui=5.0, est=4.972080321905822, details={'was_impossible': False}),\n",
       " Prediction(uid=80.0, iid=21.0, r_ui=10.0, est=7.066189352857155, details={'was_impossible': False}),\n",
       " Prediction(uid=59.0, iid=239.0, r_ui=10.0, est=7.49024517915226, details={'was_impossible': False}),\n",
       " Prediction(uid=7.0, iid=31.0, r_ui=10.0, est=6.967047498284604, details={'was_impossible': False}),\n",
       " Prediction(uid=75.0, iid=37.0, r_ui=2.0, est=5.334963325183374, details={'was_impossible': False}),\n",
       " Prediction(uid=99.0, iid=65.0, r_ui=7.0, est=5.042743705628537, details={'was_impossible': False}),\n",
       " Prediction(uid=62.0, iid=265.0, r_ui=4.0, est=5.22281617173045, details={'was_impossible': False}),\n",
       " Prediction(uid=28.0, iid=5.0, r_ui=10.0, est=7.258993077832756, details={'was_impossible': False}),\n",
       " Prediction(uid=62.0, iid=124.0, r_ui=7.0, est=5.34468367900175, details={'was_impossible': False}),\n",
       " Prediction(uid=68.0, iid=199.0, r_ui=8.0, est=6.621764852154358, details={'was_impossible': False}),\n",
       " Prediction(uid=34.0, iid=163.0, r_ui=6.0, est=5.247989070108948, details={'was_impossible': False}),\n",
       " Prediction(uid=43.0, iid=85.0, r_ui=10.0, est=5.722209080265031, details={'was_impossible': False}),\n",
       " Prediction(uid=83.0, iid=79.0, r_ui=1.0, est=5.326491268723367, details={'was_impossible': False}),\n",
       " Prediction(uid=5.0, iid=64.0, r_ui=2.0, est=4.2616741055589635, details={'was_impossible': False}),\n",
       " Prediction(uid=67.0, iid=47.0, r_ui=4.0, est=5.383646384257262, details={'was_impossible': False}),\n",
       " Prediction(uid=39.0, iid=5.0, r_ui=10.0, est=5.489478441733134, details={'was_impossible': False}),\n",
       " Prediction(uid=25.0, iid=63.0, r_ui=9.0, est=6.652191085427182, details={'was_impossible': False}),\n",
       " Prediction(uid=2.0, iid=49.0, r_ui=1.0, est=3.5810745094433285, details={'was_impossible': False}),\n",
       " Prediction(uid=37.0, iid=218.0, r_ui=7.0, est=6.008558813030869, details={'was_impossible': False}),\n",
       " Prediction(uid=8.0, iid=224.0, r_ui=9.0, est=6.521587042864045, details={'was_impossible': False}),\n",
       " Prediction(uid=53.0, iid=189.0, r_ui=7.0, est=6.100137161651997, details={'was_impossible': False}),\n",
       " Prediction(uid=30.0, iid=304.0, r_ui=1.0, est=3.7873804916048, details={'was_impossible': False}),\n",
       " Prediction(uid=59.0, iid=43.0, r_ui=3.0, est=5.353789559451007, details={'was_impossible': False}),\n",
       " Prediction(uid=41.0, iid=259.0, r_ui=2.0, est=4.131564904483014, details={'was_impossible': False}),\n",
       " Prediction(uid=97.0, iid=308.0, r_ui=3.0, est=4.25609094272586, details={'was_impossible': False}),\n",
       " Prediction(uid=88.0, iid=48.0, r_ui=9.0, est=6.680291959429033, details={'was_impossible': False}),\n",
       " Prediction(uid=36.0, iid=16.0, r_ui=7.0, est=5.435898772900609, details={'was_impossible': False}),\n",
       " Prediction(uid=89.0, iid=120.0, r_ui=6.0, est=5.574965913297111, details={'was_impossible': False}),\n",
       " Prediction(uid=63.0, iid=186.0, r_ui=8.0, est=6.302889198803143, details={'was_impossible': False}),\n",
       " Prediction(uid=25.0, iid=57.0, r_ui=10.0, est=7.094767557666469, details={'was_impossible': False}),\n",
       " Prediction(uid=97.0, iid=64.0, r_ui=4.0, est=4.695646465689668, details={'was_impossible': False}),\n",
       " Prediction(uid=47.0, iid=225.0, r_ui=3.0, est=4.5037808836814115, details={'was_impossible': False}),\n",
       " Prediction(uid=5.0, iid=52.0, r_ui=9.0, est=5.154428083354129, details={'was_impossible': False}),\n",
       " Prediction(uid=96.0, iid=89.0, r_ui=8.0, est=6.50637540360525, details={'was_impossible': False}),\n",
       " Prediction(uid=45.0, iid=10.0, r_ui=6.0, est=5.666518066549294, details={'was_impossible': False}),\n",
       " Prediction(uid=70.0, iid=83.0, r_ui=9.0, est=6.756747545328935, details={'was_impossible': False}),\n",
       " Prediction(uid=17.0, iid=114.0, r_ui=1.0, est=3.816379991670565, details={'was_impossible': False}),\n",
       " Prediction(uid=98.0, iid=217.0, r_ui=3.0, est=4.433659944975618, details={'was_impossible': False}),\n",
       " Prediction(uid=89.0, iid=3.0, r_ui=7.0, est=5.434339912412401, details={'was_impossible': False}),\n",
       " Prediction(uid=48.0, iid=58.0, r_ui=1.0, est=3.919431502718395, details={'was_impossible': False}),\n",
       " Prediction(uid=85.0, iid=238.0, r_ui=7.0, est=5.803655566242582, details={'was_impossible': False}),\n",
       " Prediction(uid=17.0, iid=8.0, r_ui=5.0, est=5.5488089746058105, details={'was_impossible': False}),\n",
       " Prediction(uid=78.0, iid=21.0, r_ui=4.0, est=4.640808891416392, details={'was_impossible': False}),\n",
       " Prediction(uid=45.0, iid=47.0, r_ui=2.0, est=4.169312510116733, details={'was_impossible': False}),\n",
       " Prediction(uid=22.0, iid=275.0, r_ui=4.0, est=4.8579825430819845, details={'was_impossible': False}),\n",
       " Prediction(uid=27.0, iid=161.0, r_ui=2.0, est=4.22947342317591, details={'was_impossible': False}),\n",
       " Prediction(uid=2.0, iid=106.0, r_ui=9.0, est=6.981795740184793, details={'was_impossible': False}),\n",
       " Prediction(uid=37.0, iid=98.0, r_ui=6.0, est=5.479899508876575, details={'was_impossible': False}),\n",
       " Prediction(uid=74.0, iid=132.0, r_ui=6.0, est=5.698174662686954, details={'was_impossible': False}),\n",
       " Prediction(uid=15.0, iid=130.0, r_ui=5.0, est=4.87392933040821, details={'was_impossible': False}),\n",
       " Prediction(uid=31.0, iid=150.0, r_ui=9.0, est=5.412325908552864, details={'was_impossible': False}),\n",
       " Prediction(uid=68.0, iid=179.0, r_ui=5.0, est=5.466115693179187, details={'was_impossible': False}),\n",
       " Prediction(uid=17.0, iid=278.0, r_ui=8.0, est=6.543215821682823, details={'was_impossible': False}),\n",
       " Prediction(uid=52.0, iid=254.0, r_ui=2.0, est=4.106364597716013, details={'was_impossible': False}),\n",
       " Prediction(uid=33.0, iid=248.0, r_ui=10.0, est=6.906039709491793, details={'was_impossible': False}),\n",
       " Prediction(uid=96.0, iid=271.0, r_ui=7.0, est=6.012679113851483, details={'was_impossible': False}),\n",
       " Prediction(uid=44.0, iid=295.0, r_ui=10.0, est=7.422286836497964, details={'was_impossible': False}),\n",
       " Prediction(uid=28.0, iid=54.0, r_ui=7.0, est=6.252197264086769, details={'was_impossible': False}),\n",
       " Prediction(uid=70.0, iid=16.0, r_ui=2.0, est=6.044680219380579, details={'was_impossible': False}),\n",
       " Prediction(uid=41.0, iid=51.0, r_ui=3.0, est=4.547834384376882, details={'was_impossible': False}),\n",
       " Prediction(uid=87.0, iid=200.0, r_ui=2.0, est=4.06665534640347, details={'was_impossible': False}),\n",
       " Prediction(uid=14.0, iid=87.0, r_ui=8.0, est=4.945840072924394, details={'was_impossible': False}),\n",
       " Prediction(uid=51.0, iid=136.0, r_ui=6.0, est=5.715359674185992, details={'was_impossible': False}),\n",
       " Prediction(uid=35.0, iid=15.0, r_ui=1.0, est=3.662780434073799, details={'was_impossible': False}),\n",
       " Prediction(uid=49.0, iid=139.0, r_ui=10.0, est=6.780229248111414, details={'was_impossible': False}),\n",
       " Prediction(uid=8.0, iid=242.0, r_ui=3.0, est=4.4357860417890755, details={'was_impossible': False}),\n",
       " Prediction(uid=73.0, iid=234.0, r_ui=2.0, est=4.089466970493363, details={'was_impossible': False}),\n",
       " Prediction(uid=42.0, iid=196.0, r_ui=9.0, est=6.431106115473985, details={'was_impossible': False}),\n",
       " Prediction(uid=19.0, iid=84.0, r_ui=10.0, est=7.058815950356087, details={'was_impossible': False}),\n",
       " Prediction(uid=77.0, iid=123.0, r_ui=10.0, est=7.141363306785531, details={'was_impossible': False}),\n",
       " Prediction(uid=41.0, iid=100.0, r_ui=3.0, est=4.064981606829194, details={'was_impossible': False}),\n",
       " Prediction(uid=100.0, iid=233.0, r_ui=10.0, est=7.009748184558934, details={'was_impossible': False}),\n",
       " Prediction(uid=57.0, iid=33.0, r_ui=3.0, est=4.40172889245765, details={'was_impossible': False}),\n",
       " Prediction(uid=62.0, iid=58.0, r_ui=4.0, est=5.041265097295558, details={'was_impossible': False}),\n",
       " Prediction(uid=6.0, iid=213.0, r_ui=6.0, est=5.465129966877776, details={'was_impossible': False}),\n",
       " Prediction(uid=39.0, iid=2.0, r_ui=10.0, est=7.268351376559865, details={'was_impossible': False}),\n",
       " Prediction(uid=43.0, iid=34.0, r_ui=8.0, est=6.513241347002684, details={'was_impossible': False}),\n",
       " Prediction(uid=98.0, iid=47.0, r_ui=2.0, est=5.281543275131569, details={'was_impossible': False}),\n",
       " Prediction(uid=64.0, iid=303.0, r_ui=6.0, est=5.513585724261233, details={'was_impossible': False}),\n",
       " Prediction(uid=9.0, iid=91.0, r_ui=5.0, est=5.205595359179603, details={'was_impossible': False})]"
      ]
     },
     "execution_count": 35,
     "metadata": {},
     "output_type": "execute_result"
    }
   ],
   "source": [
    "predictions = svd.test(testset)\n",
    "predictions"
   ]
  },
  {
   "cell_type": "code",
   "execution_count": 36,
   "id": "654b6a8a-7dc3-46ec-9233-3d11dddb693b",
   "metadata": {},
   "outputs": [
    {
     "data": {
      "text/plain": [
       "{1: 0, 2: 0, 3: 2, 4: 26, 5: 50, 6: 22, 7: 28, 8: 0, 9: 0, 10: 0}"
      ]
     },
     "execution_count": 36,
     "metadata": {},
     "output_type": "execute_result"
    }
   ],
   "source": [
    "ratings = {k: 0 for k in range(1, 10+1)}\n",
    "\n",
    "for pred in predictions:\n",
    "    ratings[round(pred.est)]+=1\n",
    "\n",
    "ratings"
   ]
  },
  {
   "cell_type": "code",
   "execution_count": 37,
   "id": "e0cf482a-2f8f-44f6-af5a-8032f812e120",
   "metadata": {},
   "outputs": [
    {
     "data": {
      "image/png": "[encoded data removed]",
      "text/plain": [
       "<Figure size 640x480 with 1 Axes>"
      ]
     },
     "metadata": {},
     "output_type": "display_data"
    }
   ],
   "source": [
    "import seaborn as sns\n",
    "import matplotlib.pyplot as plt\n",
    "\n",
    "sns.barplot(ratings)\n",
    "plt.title(\"[User-based] Distribution of estimated ratings\");"
   ]
  },
  {
   "cell_type": "markdown",
   "id": "463c2aeb-7c85-4112-bff7-0915f046e9c7",
   "metadata": {},
   "source": [
    "## Save the model in a directory"
   ]
  },
  {
   "cell_type": "code",
   "execution_count": 41,
   "id": "7efedf93-cada-4fec-b342-15ba67f00449",
   "metadata": {},
   "outputs": [],
   "source": [
    "import os\n",
    "dump.dump(os.path.join('models', 'ub_model.dump'), algo=svd)"
   ]
  },
  {
   "cell_type": "markdown",
   "id": "8e4889e3-398d-4e53-8446-6d59d70cdd1a",
   "metadata": {},
   "source": [
    "## Load the model and predict"
   ]
  },
  {
   "cell_type": "code",
   "execution_count": 11,
   "id": "1125c44f-9792-47be-bd5f-fb39e25abdf4",
   "metadata": {},
   "outputs": [],
   "source": [
    "import os\n",
    "_, algo = dump.load(os.path.join('models', 'ub_model.dump'))"
   ]
  },
  {
   "cell_type": "code",
   "execution_count": 15,
   "id": "6a15df54-d129-4c1c-af8a-fdf2d6a60b11",
   "metadata": {},
   "outputs": [
    {
     "name": "stdout",
     "output_type": "stream",
     "text": [
      "['chicken dong style' 'chocolate nero cookies' 'detox haldi tea'\n",
      " 'bread chana basket' 'kolim / jawla']\n"
     ]
    }
   ],
   "source": [
    "user_id = 91.0\n",
    "\n",
    "def get_user_recommendations(user_id, algo, n=5):\n",
    "    predictions = []\n",
    "    for item in merged_data['Food_ID'].unique():\n",
    "        predictions.append(algo.predict(user_id, item))\n",
    "    \n",
    "    best_items = sorted([(prediction.iid, prediction.est) for prediction in predictions], key=lambda x: x[1])[::-1][:n]\n",
    "    best_items_idx = [x for x, y in best_items]\n",
    "    rec_items = food_data.loc[best_items_idx]\n",
    "    return rec_items['Name']\n",
    "\n",
    "print(get_user_recommendations(user_id, algo, n=5).values)"
   ]
  },
  {
   "cell_type": "code",
   "execution_count": null,
   "id": "22efa086-de02-4026-9691-ad179f94f92f",
   "metadata": {},
   "outputs": [],
   "source": []
  }
 ],
 "metadata": {
  "kernelspec": {
   "display_name": "Python 3 (ipykernel)",
   "language": "python",
   "name": "python3"
  },
  "language_info": {
   "codemirror_mode": {
    "name": "ipython",
    "version": 3
   },
   "file_extension": ".py",
   "mimetype": "text/x-python",
   "name": "python",
   "nbconvert_exporter": "python",
   "pygments_lexer": "ipython3",
   "version": "3.9.18"
  }
 },
 "nbformat": 4,
 "nbformat_minor": 5
}
