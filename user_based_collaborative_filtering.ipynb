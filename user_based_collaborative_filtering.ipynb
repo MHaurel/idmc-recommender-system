{
 "cells": [
  {
   "cell_type": "code",
   "execution_count": 1,
   "id": "a64e2379-8239-43f0-8e78-1aa1e045aad7",
   "metadata": {},
   "outputs": [
    {
     "name": "stdout",
     "output_type": "stream",
     "text": [
      "RMSE: 3.0032\n"
     ]
    },
    {
     "data": {
      "text/plain": [
       "3.003190648846871"
      ]
     },
     "execution_count": 1,
     "metadata": {},
     "output_type": "execute_result"
    }
   ],
   "source": [
    "import pandas as pd\n",
    "import numpy as np\n",
    "\n",
    "from surprise import accuracy, Dataset, SVD, Reader\n",
    "from surprise.model_selection import train_test_split, cross_validate\n",
    "\n",
    "import string\n",
    "\n",
    "food_data = pd.read_csv('data/food.csv')\n",
    "ratings_data = pd.read_csv('data/ratings.csv')\n",
    "\n",
    "def text_cleaning(text):\n",
    "    text = \"\".join([char for char in text if char not in string.punctuation])\n",
    "    return text\n",
    "food_data['Describe'] = food_data['Describe'].apply(text_cleaning)\n",
    "\n",
    "def create_soup(x):\n",
    "  return \" \".join([x['Describe'], x['C_Type'], x['Veg_Non']])\n",
    "\n",
    "food_data['soup'] = food_data.apply(create_soup, axis=1)\n",
    "\n",
    "reader = Reader(rating_scale=(1, 10))\n",
    "\n",
    "merged_data = pd.merge(ratings_data, food_data, on='Food_ID')\n",
    "data = Dataset.load_from_df(merged_data[['User_ID', 'Food_ID', 'Rating']], reader)\n",
    "\n",
    "# sample random trainset and testset\n",
    "# test set is made of 25% of the ratings.\n",
    "trainset, testset = train_test_split(data, test_size=0.25, random_state=42)\n",
    "\n",
    "# We'll use the famous SVD algorithm.\n",
    "algo = SVD()\n",
    "\n",
    "# Train the algorithm on the trainset, and predict ratings for the testset\n",
    "algo.fit(trainset)\n",
    "predictions = algo.test(testset)\n",
    "\n",
    "# Then compute RMSE\n",
    "accuracy.rmse(predictions)"
   ]
  },
  {
   "cell_type": "code",
   "execution_count": 2,
   "id": "ef5a9360-10b4-4d04-a8b8-f94b9935ede9",
   "metadata": {},
   "outputs": [
    {
     "data": {
      "text/plain": [
       "[Prediction(uid=32.0, iid=143.0, r_ui=1.0, est=5.193014306652861, details={'was_impossible': False}),\n",
       " Prediction(uid=93.0, iid=130.0, r_ui=5.0, est=6.1405028630404885, details={'was_impossible': False}),\n",
       " Prediction(uid=63.0, iid=269.0, r_ui=3.0, est=6.299633850072069, details={'was_impossible': False}),\n",
       " Prediction(uid=13.0, iid=74.0, r_ui=8.0, est=5.646970880735349, details={'was_impossible': False}),\n",
       " Prediction(uid=6.0, iid=22.0, r_ui=5.0, est=5.222286624734076, details={'was_impossible': False}),\n",
       " Prediction(uid=94.0, iid=48.0, r_ui=3.0, est=5.315109984186112, details={'was_impossible': False}),\n",
       " Prediction(uid=11.0, iid=200.0, r_ui=10.0, est=5.538635691004665, details={'was_impossible': False}),\n",
       " Prediction(uid=86.0, iid=159.0, r_ui=2.0, est=5.124173710404215, details={'was_impossible': False}),\n",
       " Prediction(uid=100.0, iid=24.0, r_ui=10.0, est=5.129298919924888, details={'was_impossible': False}),\n",
       " Prediction(uid=41.0, iid=4.0, r_ui=6.0, est=5.442787137062538, details={'was_impossible': False}),\n",
       " Prediction(uid=80.0, iid=103.0, r_ui=9.0, est=5.771787463511935, details={'was_impossible': False}),\n",
       " Prediction(uid=61.0, iid=22.0, r_ui=3.0, est=5.208182280495302, details={'was_impossible': False}),\n",
       " Prediction(uid=35.0, iid=147.0, r_ui=3.0, est=5.174800069849337, details={'was_impossible': False}),\n",
       " Prediction(uid=36.0, iid=49.0, r_ui=2.0, est=6.369720506774109, details={'was_impossible': False}),\n",
       " Prediction(uid=15.0, iid=29.0, r_ui=7.0, est=6.288275464623091, details={'was_impossible': False}),\n",
       " Prediction(uid=4.0, iid=212.0, r_ui=10.0, est=4.526841369354225, details={'was_impossible': False}),\n",
       " Prediction(uid=50.0, iid=158.0, r_ui=6.0, est=5.320899493599954, details={'was_impossible': False}),\n",
       " Prediction(uid=78.0, iid=302.0, r_ui=5.0, est=6.0720863592360805, details={'was_impossible': False}),\n",
       " Prediction(uid=57.0, iid=271.0, r_ui=1.0, est=5.459420739370379, details={'was_impossible': False}),\n",
       " Prediction(uid=58.0, iid=84.0, r_ui=10.0, est=4.610537687776308, details={'was_impossible': False}),\n",
       " Prediction(uid=31.0, iid=240.0, r_ui=3.0, est=5.960252883901578, details={'was_impossible': False}),\n",
       " Prediction(uid=68.0, iid=219.0, r_ui=9.0, est=5.986981289822362, details={'was_impossible': False}),\n",
       " Prediction(uid=67.0, iid=252.0, r_ui=4.0, est=5.860191249534886, details={'was_impossible': False}),\n",
       " Prediction(uid=92.0, iid=6.0, r_ui=1.0, est=6.316025309227305, details={'was_impossible': False}),\n",
       " Prediction(uid=23.0, iid=26.0, r_ui=6.0, est=5.361200839417764, details={'was_impossible': False}),\n",
       " Prediction(uid=48.0, iid=9.0, r_ui=3.0, est=6.109207288513472, details={'was_impossible': False}),\n",
       " Prediction(uid=52.0, iid=211.0, r_ui=1.0, est=5.429408406146921, details={'was_impossible': False}),\n",
       " Prediction(uid=75.0, iid=12.0, r_ui=3.0, est=5.031047163146988, details={'was_impossible': False}),\n",
       " Prediction(uid=77.0, iid=228.0, r_ui=4.0, est=5.089021539311652, details={'was_impossible': False}),\n",
       " Prediction(uid=61.0, iid=45.0, r_ui=3.0, est=5.6494190983045405, details={'was_impossible': False}),\n",
       " Prediction(uid=95.0, iid=297.0, r_ui=5.0, est=5.458456473439931, details={'was_impossible': False}),\n",
       " Prediction(uid=95.0, iid=228.0, r_ui=3.0, est=5.458456473439931, details={'was_impossible': False}),\n",
       " Prediction(uid=70.0, iid=68.0, r_ui=4.0, est=5.061853277031382, details={'was_impossible': False}),\n",
       " Prediction(uid=62.0, iid=108.0, r_ui=4.0, est=5.515422039008147, details={'was_impossible': False}),\n",
       " Prediction(uid=29.0, iid=34.0, r_ui=5.0, est=5.611780109390613, details={'was_impossible': False}),\n",
       " Prediction(uid=93.0, iid=18.0, r_ui=9.0, est=6.5173338168523145, details={'was_impossible': False}),\n",
       " Prediction(uid=38.0, iid=130.0, r_ui=3.0, est=5.32672716443299, details={'was_impossible': False}),\n",
       " Prediction(uid=8.0, iid=128.0, r_ui=4.0, est=5.520259328847075, details={'was_impossible': False}),\n",
       " Prediction(uid=20.0, iid=261.0, r_ui=8.0, est=5.4536667020627165, details={'was_impossible': False}),\n",
       " Prediction(uid=94.0, iid=117.0, r_ui=4.0, est=5.287674960158016, details={'was_impossible': False}),\n",
       " Prediction(uid=17.0, iid=251.0, r_ui=5.0, est=5.331848576833265, details={'was_impossible': False}),\n",
       " Prediction(uid=82.0, iid=16.0, r_ui=4.0, est=5.999521619401894, details={'was_impossible': False}),\n",
       " Prediction(uid=28.0, iid=162.0, r_ui=9.0, est=5.783976011118439, details={'was_impossible': False}),\n",
       " Prediction(uid=22.0, iid=2.0, r_ui=5.0, est=4.890111226534107, details={'was_impossible': False}),\n",
       " Prediction(uid=92.0, iid=64.0, r_ui=3.0, est=5.700113794660448, details={'was_impossible': False}),\n",
       " Prediction(uid=53.0, iid=226.0, r_ui=8.0, est=5.315274586558392, details={'was_impossible': False}),\n",
       " Prediction(uid=1.0, iid=46.0, r_ui=3.0, est=5.327306442096066, details={'was_impossible': False}),\n",
       " Prediction(uid=80.0, iid=56.0, r_ui=7.0, est=5.047403489136482, details={'was_impossible': False}),\n",
       " Prediction(uid=91.0, iid=176.0, r_ui=5.0, est=5.038445121965651, details={'was_impossible': False}),\n",
       " Prediction(uid=80.0, iid=21.0, r_ui=10.0, est=5.220492169193866, details={'was_impossible': False}),\n",
       " Prediction(uid=59.0, iid=239.0, r_ui=10.0, est=5.8998804967789455, details={'was_impossible': False}),\n",
       " Prediction(uid=7.0, iid=31.0, r_ui=10.0, est=5.875072219282324, details={'was_impossible': False}),\n",
       " Prediction(uid=75.0, iid=37.0, r_ui=2.0, est=5.100975831976314, details={'was_impossible': False}),\n",
       " Prediction(uid=99.0, iid=65.0, r_ui=7.0, est=4.866775978688446, details={'was_impossible': False}),\n",
       " Prediction(uid=62.0, iid=265.0, r_ui=4.0, est=5.644277733834927, details={'was_impossible': False}),\n",
       " Prediction(uid=28.0, iid=5.0, r_ui=10.0, est=5.589621029370033, details={'was_impossible': False}),\n",
       " Prediction(uid=62.0, iid=124.0, r_ui=7.0, est=5.644277733834927, details={'was_impossible': False}),\n",
       " Prediction(uid=68.0, iid=199.0, r_ui=8.0, est=5.6162015276249635, details={'was_impossible': False}),\n",
       " Prediction(uid=34.0, iid=163.0, r_ui=6.0, est=4.090275258965487, details={'was_impossible': False}),\n",
       " Prediction(uid=43.0, iid=85.0, r_ui=10.0, est=5.724042145094474, details={'was_impossible': False}),\n",
       " Prediction(uid=83.0, iid=79.0, r_ui=1.0, est=5.3722783067650655, details={'was_impossible': False}),\n",
       " Prediction(uid=5.0, iid=64.0, r_ui=2.0, est=6.053148824272004, details={'was_impossible': False}),\n",
       " Prediction(uid=67.0, iid=47.0, r_ui=4.0, est=5.916477144525379, details={'was_impossible': False}),\n",
       " Prediction(uid=39.0, iid=5.0, r_ui=10.0, est=4.771651403090345, details={'was_impossible': False}),\n",
       " Prediction(uid=25.0, iid=63.0, r_ui=9.0, est=4.675483249339683, details={'was_impossible': False}),\n",
       " Prediction(uid=2.0, iid=49.0, r_ui=1.0, est=6.504038065540665, details={'was_impossible': False}),\n",
       " Prediction(uid=37.0, iid=218.0, r_ui=7.0, est=4.858625413093867, details={'was_impossible': False}),\n",
       " Prediction(uid=8.0, iid=224.0, r_ui=9.0, est=5.609430712511935, details={'was_impossible': False}),\n",
       " Prediction(uid=53.0, iid=189.0, r_ui=7.0, est=5.315274586558392, details={'was_impossible': False}),\n",
       " Prediction(uid=30.0, iid=304.0, r_ui=1.0, est=5.470088219234869, details={'was_impossible': False}),\n",
       " Prediction(uid=59.0, iid=43.0, r_ui=3.0, est=5.90108409329685, details={'was_impossible': False}),\n",
       " Prediction(uid=41.0, iid=259.0, r_ui=2.0, est=5.706870118338024, details={'was_impossible': False}),\n",
       " Prediction(uid=97.0, iid=308.0, r_ui=3.0, est=5.3260096396682775, details={'was_impossible': False}),\n",
       " Prediction(uid=88.0, iid=48.0, r_ui=9.0, est=5.191300565151874, details={'was_impossible': False}),\n",
       " Prediction(uid=36.0, iid=16.0, r_ui=7.0, est=6.005423938176412, details={'was_impossible': False}),\n",
       " Prediction(uid=89.0, iid=120.0, r_ui=6.0, est=5.458967151467078, details={'was_impossible': False}),\n",
       " Prediction(uid=63.0, iid=186.0, r_ui=8.0, est=6.965554335476257, details={'was_impossible': False}),\n",
       " Prediction(uid=25.0, iid=57.0, r_ui=10.0, est=4.909379077048095, details={'was_impossible': False}),\n",
       " Prediction(uid=97.0, iid=64.0, r_ui=4.0, est=5.3260096396682775, details={'was_impossible': False}),\n",
       " Prediction(uid=47.0, iid=225.0, r_ui=3.0, est=5.0768386868361794, details={'was_impossible': False}),\n",
       " Prediction(uid=5.0, iid=52.0, r_ui=9.0, est=6.023206643819165, details={'was_impossible': False}),\n",
       " Prediction(uid=96.0, iid=89.0, r_ui=8.0, est=5.9004381309899285, details={'was_impossible': False}),\n",
       " Prediction(uid=45.0, iid=10.0, r_ui=6.0, est=4.668300886092963, details={'was_impossible': False}),\n",
       " Prediction(uid=70.0, iid=83.0, r_ui=9.0, est=5.556908098873584, details={'was_impossible': False}),\n",
       " Prediction(uid=17.0, iid=114.0, r_ui=1.0, est=5.331848576833265, details={'was_impossible': False}),\n",
       " Prediction(uid=98.0, iid=217.0, r_ui=3.0, est=5.262392841929302, details={'was_impossible': False}),\n",
       " Prediction(uid=89.0, iid=3.0, r_ui=7.0, est=5.097687778900479, details={'was_impossible': False}),\n",
       " Prediction(uid=48.0, iid=58.0, r_ui=1.0, est=5.5021223510442185, details={'was_impossible': False}),\n",
       " Prediction(uid=85.0, iid=238.0, r_ui=7.0, est=5.5997904146421815, details={'was_impossible': False}),\n",
       " Prediction(uid=17.0, iid=8.0, r_ui=5.0, est=5.690602790661235, details={'was_impossible': False}),\n",
       " Prediction(uid=78.0, iid=21.0, r_ui=4.0, est=5.87798871366598, details={'was_impossible': False}),\n",
       " Prediction(uid=45.0, iid=47.0, r_ui=2.0, est=4.795805000444896, details={'was_impossible': False}),\n",
       " Prediction(uid=22.0, iid=275.0, r_ui=4.0, est=5.000563838110376, details={'was_impossible': False}),\n",
       " Prediction(uid=27.0, iid=161.0, r_ui=2.0, est=5.3098193247014684, details={'was_impossible': False}),\n",
       " Prediction(uid=2.0, iid=106.0, r_ui=9.0, est=5.830779510362457, details={'was_impossible': False}),\n",
       " Prediction(uid=37.0, iid=98.0, r_ui=6.0, est=4.858625413093867, details={'was_impossible': False}),\n",
       " Prediction(uid=74.0, iid=132.0, r_ui=6.0, est=5.282480974254009, details={'was_impossible': False}),\n",
       " Prediction(uid=15.0, iid=130.0, r_ui=5.0, est=5.3466440548911205, details={'was_impossible': False}),\n",
       " Prediction(uid=31.0, iid=150.0, r_ui=9.0, est=5.960252883901578, details={'was_impossible': False}),\n",
       " Prediction(uid=68.0, iid=179.0, r_ui=5.0, est=5.986981289822362, details={'was_impossible': False}),\n",
       " Prediction(uid=17.0, iid=278.0, r_ui=8.0, est=5.331848576833265, details={'was_impossible': False}),\n",
       " Prediction(uid=52.0, iid=254.0, r_ui=2.0, est=5.735943092981194, details={'was_impossible': False}),\n",
       " Prediction(uid=33.0, iid=248.0, r_ui=10.0, est=5.290719820803637, details={'was_impossible': False}),\n",
       " Prediction(uid=96.0, iid=271.0, r_ui=7.0, est=5.9004381309899285, details={'was_impossible': False}),\n",
       " Prediction(uid=44.0, iid=295.0, r_ui=10.0, est=5.78108670058417, details={'was_impossible': False}),\n",
       " Prediction(uid=28.0, iid=54.0, r_ui=7.0, est=5.504563039518622, details={'was_impossible': False}),\n",
       " Prediction(uid=70.0, iid=16.0, r_ui=2.0, est=6.024563318394596, details={'was_impossible': False}),\n",
       " Prediction(uid=41.0, iid=51.0, r_ui=3.0, est=6.007284008669372, details={'was_impossible': False}),\n",
       " Prediction(uid=87.0, iid=200.0, r_ui=2.0, est=5.245425499315807, details={'was_impossible': False}),\n",
       " Prediction(uid=14.0, iid=87.0, r_ui=8.0, est=5.200232507011646, details={'was_impossible': False}),\n",
       " Prediction(uid=51.0, iid=136.0, r_ui=6.0, est=6.349023473737649, details={'was_impossible': False}),\n",
       " Prediction(uid=35.0, iid=15.0, r_ui=1.0, est=5.36138855850995, details={'was_impossible': False}),\n",
       " Prediction(uid=49.0, iid=139.0, r_ui=10.0, est=5.636182385868246, details={'was_impossible': False}),\n",
       " Prediction(uid=8.0, iid=242.0, r_ui=3.0, est=5.564936039048691, details={'was_impossible': False}),\n",
       " Prediction(uid=73.0, iid=234.0, r_ui=2.0, est=5.343927464042779, details={'was_impossible': False}),\n",
       " Prediction(uid=42.0, iid=196.0, r_ui=9.0, est=5.283801935886265, details={'was_impossible': False}),\n",
       " Prediction(uid=19.0, iid=84.0, r_ui=10.0, est=5.050191254742217, details={'was_impossible': False}),\n",
       " Prediction(uid=77.0, iid=123.0, r_ui=10.0, est=5.089021539311652, details={'was_impossible': False}),\n",
       " Prediction(uid=41.0, iid=100.0, r_ui=3.0, est=4.964881806919204, details={'was_impossible': False}),\n",
       " Prediction(uid=100.0, iid=233.0, r_ui=10.0, est=5.556179952009926, details={'was_impossible': False}),\n",
       " Prediction(uid=57.0, iid=33.0, r_ui=3.0, est=5.482588831229857, details={'was_impossible': False}),\n",
       " Prediction(uid=62.0, iid=58.0, r_ui=4.0, est=5.857843708903978, details={'was_impossible': False}),\n",
       " Prediction(uid=6.0, iid=213.0, r_ui=6.0, est=5.234440582042564, details={'was_impossible': False}),\n",
       " Prediction(uid=39.0, iid=2.0, r_ui=10.0, est=4.881306018658174, details={'was_impossible': False}),\n",
       " Prediction(uid=43.0, iid=34.0, r_ui=8.0, est=5.833105985278324, details={'was_impossible': False}),\n",
       " Prediction(uid=98.0, iid=47.0, r_ui=2.0, est=5.084262347876473, details={'was_impossible': False}),\n",
       " Prediction(uid=64.0, iid=303.0, r_ui=6.0, est=5.11645149863507, details={'was_impossible': False}),\n",
       " Prediction(uid=9.0, iid=91.0, r_ui=5.0, est=4.189732514319701, details={'was_impossible': False})]"
      ]
     },
     "execution_count": 2,
     "metadata": {},
     "output_type": "execute_result"
    }
   ],
   "source": [
    "predictions"
   ]
  },
  {
   "cell_type": "markdown",
   "id": "43be94c8-30d7-4708-8016-9506d13e827c",
   "metadata": {},
   "source": [
    "Demonstration about how to predict the rating for the user with id=80 and item with id=2"
   ]
  },
  {
   "cell_type": "code",
   "execution_count": 3,
   "id": "59777e8f-16a0-4354-befe-cf5d3ba2fb00",
   "metadata": {},
   "outputs": [
    {
     "data": {
      "text/plain": [
       "Prediction(uid=80.0, iid=2.0, r_ui=None, est=5.5126416353111125, details={'was_impossible': False})"
      ]
     },
     "execution_count": 3,
     "metadata": {},
     "output_type": "execute_result"
    }
   ],
   "source": [
    "algo.predict(80.0, 2.0)"
   ]
  },
  {
   "cell_type": "code",
   "execution_count": 4,
   "id": "7fce9338-efb1-4d86-a06f-4a8c2935d529",
   "metadata": {},
   "outputs": [
    {
     "name": "stdout",
     "output_type": "stream",
     "text": [
      "49                       french pork chop\n",
      "44     ghee roast chicken dosa quesadilla\n",
      "109          chicken and mushroom lasagna\n",
      "215       duo of chocolate and strawberry\n",
      "171                  zucchini methi pulao\n",
      "Name: Name, dtype: object\n"
     ]
    }
   ],
   "source": [
    "user_id = 80.0\n",
    "\n",
    "def get_user_recommendations(user_id, n=5):\n",
    "    predictions = []\n",
    "    for item in merged_data['Food_ID'].unique():\n",
    "        predictions.append(algo.predict(user_id, item))\n",
    "    \n",
    "    best_items = sorted([(prediction.iid, prediction.est) for prediction in predictions], key=lambda x: x[1])[::-1][:n]\n",
    "    best_items_idx = [x for x, y in best_items]\n",
    "    rec_items = food_data.loc[best_items_idx]\n",
    "    return rec_items['Name']\n",
    "\n",
    "print(get_user_recommendations(user_id, n=5))"
   ]
  },
  {
   "cell_type": "markdown",
   "id": "82a371fa-d0ce-467e-8a7c-7d32da7c1222",
   "metadata": {},
   "source": [
    "## Fine-tuning"
   ]
  },
  {
   "cell_type": "code",
   "execution_count": 5,
   "id": "e1e21c69-dcd9-4b89-af65-97feb699c59e",
   "metadata": {},
   "outputs": [
    {
     "name": "stdout",
     "output_type": "stream",
     "text": [
      "2.8559858325358674\n",
      "{'n_factors': 800, 'n_epochs': 10}\n"
     ]
    }
   ],
   "source": [
    "from surprise.model_selection import GridSearchCV\n",
    "\n",
    "param_grid = {\n",
    "  'n_factors': [20, 50, 100, 200, 400, 800, 1000],\n",
    "  'n_epochs': [5, 10, 20, 50, 100, 200]\n",
    "}\n",
    "\n",
    "gs = GridSearchCV(SVD, param_grid, measures=['rmse', 'mae'], cv=10)\n",
    "gs.fit(data)\n",
    "\n",
    "print(gs.best_score['rmse'])\n",
    "print(gs.best_params['rmse'])"
   ]
  },
  {
   "cell_type": "code",
   "execution_count": 6,
   "id": "a9420148-ca15-4813-b4c6-57b4976050b0",
   "metadata": {},
   "outputs": [
    {
     "data": {
      "text/plain": [
       "<surprise.prediction_algorithms.matrix_factorization.SVD at 0x7fc9c038dc70>"
      ]
     },
     "execution_count": 6,
     "metadata": {},
     "output_type": "execute_result"
    }
   ],
   "source": [
    "best_factor = gs.best_params['rmse']['n_factors']\n",
    "best_epoch = gs.best_params['rmse']['n_epochs']\n",
    "\n",
    "# We'll use the famous SVD algorithm.\n",
    "svd = SVD(n_factors=best_factor, n_epochs=best_epoch)\n",
    "\n",
    "# Train the algorithm on the trainset\n",
    "svd.fit(trainset)"
   ]
  },
  {
   "cell_type": "code",
   "execution_count": 7,
   "id": "ea38c482-879e-4993-90f6-8834d31031bb",
   "metadata": {},
   "outputs": [
    {
     "name": "stdout",
     "output_type": "stream",
     "text": [
      "Evaluating RMSE, MAE of algorithm SVD on 5 split(s).\n",
      "\n",
      "                  Fold 1  Fold 2  Fold 3  Fold 4  Fold 5  Mean    Std     \n",
      "RMSE (testset)    2.6290  3.0346  2.6553  2.8752  3.1535  2.8695  0.2058  \n",
      "MAE (testset)     2.2021  2.7072  2.2703  2.4668  2.7122  2.4717  0.2129  \n",
      "Fit time          0.01    0.01    0.01    0.01    0.01    0.01    0.00    \n",
      "Test time         0.00    0.00    0.00    0.00    0.00    0.00    0.00    \n"
     ]
    }
   ],
   "source": [
    "cv = cross_validate(svd, data, measures=['RMSE', 'MAE'], cv=5, verbose=True)"
   ]
  },
  {
   "cell_type": "markdown",
   "id": "b8fc3939-3db3-45e7-b00f-1ee3d05f04cd",
   "metadata": {},
   "source": [
    "### Analyzing predictions"
   ]
  },
  {
   "cell_type": "code",
   "execution_count": 9,
   "id": "ca49262d-aa40-40ad-8faf-091e70fdb084",
   "metadata": {},
   "outputs": [
    {
     "data": {
      "text/plain": [
       "[Prediction(uid=32.0, iid=143.0, r_ui=1.0, est=5.299623370814367, details={'was_impossible': False}),\n",
       " Prediction(uid=93.0, iid=130.0, r_ui=5.0, est=5.373293219906932, details={'was_impossible': False}),\n",
       " Prediction(uid=63.0, iid=269.0, r_ui=3.0, est=4.065376199736819, details={'was_impossible': False}),\n",
       " Prediction(uid=13.0, iid=74.0, r_ui=8.0, est=5.465541215425058, details={'was_impossible': False}),\n",
       " Prediction(uid=6.0, iid=22.0, r_ui=5.0, est=5.1462135402896285, details={'was_impossible': False}),\n",
       " Prediction(uid=94.0, iid=48.0, r_ui=3.0, est=3.982249337215643, details={'was_impossible': False}),\n",
       " Prediction(uid=11.0, iid=200.0, r_ui=10.0, est=5.093476381844224, details={'was_impossible': False}),\n",
       " Prediction(uid=86.0, iid=159.0, r_ui=2.0, est=3.17013215446011, details={'was_impossible': False}),\n",
       " Prediction(uid=100.0, iid=24.0, r_ui=10.0, est=8.603361799671033, details={'was_impossible': False}),\n",
       " Prediction(uid=41.0, iid=4.0, r_ui=6.0, est=5.587617424537421, details={'was_impossible': False}),\n",
       " Prediction(uid=80.0, iid=103.0, r_ui=9.0, est=7.717410262660577, details={'was_impossible': False}),\n",
       " Prediction(uid=61.0, iid=22.0, r_ui=3.0, est=5.386559948493991, details={'was_impossible': False}),\n",
       " Prediction(uid=35.0, iid=147.0, r_ui=3.0, est=3.9174713403451817, details={'was_impossible': False}),\n",
       " Prediction(uid=36.0, iid=49.0, r_ui=2.0, est=3.331238333456641, details={'was_impossible': False}),\n",
       " Prediction(uid=15.0, iid=29.0, r_ui=7.0, est=7.57877021569916, details={'was_impossible': False}),\n",
       " Prediction(uid=4.0, iid=212.0, r_ui=10.0, est=4.8827916565937635, details={'was_impossible': False}),\n",
       " Prediction(uid=50.0, iid=158.0, r_ui=6.0, est=5.518358478739898, details={'was_impossible': False}),\n",
       " Prediction(uid=78.0, iid=302.0, r_ui=5.0, est=5.048625474591978, details={'was_impossible': False}),\n",
       " Prediction(uid=57.0, iid=271.0, r_ui=1.0, est=2.5331017637617523, details={'was_impossible': False}),\n",
       " Prediction(uid=58.0, iid=84.0, r_ui=10.0, est=5.156164662943753, details={'was_impossible': False}),\n",
       " Prediction(uid=31.0, iid=240.0, r_ui=3.0, est=5.608002843609785, details={'was_impossible': False}),\n",
       " Prediction(uid=68.0, iid=219.0, r_ui=9.0, est=7.728625500550506, details={'was_impossible': False}),\n",
       " Prediction(uid=67.0, iid=252.0, r_ui=4.0, est=4.548177766977726, details={'was_impossible': False}),\n",
       " Prediction(uid=92.0, iid=6.0, r_ui=1.0, est=2.666842238462886, details={'was_impossible': False}),\n",
       " Prediction(uid=23.0, iid=26.0, r_ui=6.0, est=5.759518612336746, details={'was_impossible': False}),\n",
       " Prediction(uid=48.0, iid=9.0, r_ui=3.0, est=4.003719876943706, details={'was_impossible': False}),\n",
       " Prediction(uid=52.0, iid=211.0, r_ui=1.0, est=5.228625647666945, details={'was_impossible': False}),\n",
       " Prediction(uid=75.0, iid=12.0, r_ui=3.0, est=3.6141464547310367, details={'was_impossible': False}),\n",
       " Prediction(uid=77.0, iid=228.0, r_ui=4.0, est=4.5015562467535855, details={'was_impossible': False}),\n",
       " Prediction(uid=61.0, iid=45.0, r_ui=3.0, est=3.681199548637003, details={'was_impossible': False}),\n",
       " Prediction(uid=95.0, iid=297.0, r_ui=5.0, est=5.080272515333699, details={'was_impossible': False}),\n",
       " Prediction(uid=95.0, iid=228.0, r_ui=3.0, est=3.76611721613848, details={'was_impossible': False}),\n",
       " Prediction(uid=70.0, iid=68.0, r_ui=4.0, est=4.422178538783716, details={'was_impossible': False}),\n",
       " Prediction(uid=62.0, iid=108.0, r_ui=4.0, est=5.540699848196066, details={'was_impossible': False}),\n",
       " Prediction(uid=29.0, iid=34.0, r_ui=5.0, est=5.4079204432024985, details={'was_impossible': False}),\n",
       " Prediction(uid=93.0, iid=18.0, r_ui=9.0, est=8.015856043626597, details={'was_impossible': False}),\n",
       " Prediction(uid=38.0, iid=130.0, r_ui=3.0, est=4.158303731320429, details={'was_impossible': False}),\n",
       " Prediction(uid=8.0, iid=128.0, r_ui=4.0, est=4.5700195134425705, details={'was_impossible': False}),\n",
       " Prediction(uid=20.0, iid=261.0, r_ui=8.0, est=7.125208117923107, details={'was_impossible': False}),\n",
       " Prediction(uid=94.0, iid=117.0, r_ui=4.0, est=4.326638096104947, details={'was_impossible': False}),\n",
       " Prediction(uid=17.0, iid=251.0, r_ui=5.0, est=5.413310386186962, details={'was_impossible': False}),\n",
       " Prediction(uid=82.0, iid=16.0, r_ui=4.0, est=4.596643383903837, details={'was_impossible': False}),\n",
       " Prediction(uid=28.0, iid=162.0, r_ui=9.0, est=7.997664131553687, details={'was_impossible': False}),\n",
       " Prediction(uid=22.0, iid=2.0, r_ui=5.0, est=5.090906293906477, details={'was_impossible': False}),\n",
       " Prediction(uid=92.0, iid=64.0, r_ui=3.0, est=3.5769483984679074, details={'was_impossible': False}),\n",
       " Prediction(uid=53.0, iid=226.0, r_ui=8.0, est=7.129328913853986, details={'was_impossible': False}),\n",
       " Prediction(uid=1.0, iid=46.0, r_ui=3.0, est=3.7267297376831463, details={'was_impossible': False}),\n",
       " Prediction(uid=80.0, iid=56.0, r_ui=7.0, est=5.827748801927378, details={'was_impossible': False}),\n",
       " Prediction(uid=91.0, iid=176.0, r_ui=5.0, est=5.265813478694992, details={'was_impossible': False}),\n",
       " Prediction(uid=80.0, iid=21.0, r_ui=10.0, est=8.440501573223045, details={'was_impossible': False}),\n",
       " Prediction(uid=59.0, iid=239.0, r_ui=10.0, est=5.536322336005592, details={'was_impossible': False}),\n",
       " Prediction(uid=7.0, iid=31.0, r_ui=10.0, est=8.502486363281273, details={'was_impossible': False}),\n",
       " Prediction(uid=75.0, iid=37.0, r_ui=2.0, est=3.043244479211784, details={'was_impossible': False}),\n",
       " Prediction(uid=99.0, iid=65.0, r_ui=7.0, est=6.181678478316659, details={'was_impossible': False}),\n",
       " Prediction(uid=62.0, iid=265.0, r_ui=4.0, est=4.665254420280334, details={'was_impossible': False}),\n",
       " Prediction(uid=28.0, iid=5.0, r_ui=10.0, est=6.463009644531483, details={'was_impossible': False}),\n",
       " Prediction(uid=62.0, iid=124.0, r_ui=7.0, est=6.398351092856276, details={'was_impossible': False}),\n",
       " Prediction(uid=68.0, iid=199.0, r_ui=8.0, est=7.1399555666780925, details={'was_impossible': False}),\n",
       " Prediction(uid=34.0, iid=163.0, r_ui=6.0, est=5.473498692238459, details={'was_impossible': False}),\n",
       " Prediction(uid=43.0, iid=85.0, r_ui=10.0, est=8.448965587404679, details={'was_impossible': False}),\n",
       " Prediction(uid=83.0, iid=79.0, r_ui=1.0, est=2.5314861311054155, details={'was_impossible': False}),\n",
       " Prediction(uid=5.0, iid=64.0, r_ui=2.0, est=3.408509519899327, details={'was_impossible': False}),\n",
       " Prediction(uid=67.0, iid=47.0, r_ui=4.0, est=4.513665796901626, details={'was_impossible': False}),\n",
       " Prediction(uid=39.0, iid=5.0, r_ui=10.0, est=8.201164173109538, details={'was_impossible': False}),\n",
       " Prediction(uid=25.0, iid=63.0, r_ui=9.0, est=7.639298380638267, details={'was_impossible': False}),\n",
       " Prediction(uid=2.0, iid=49.0, r_ui=1.0, est=5.8166354877127775, details={'was_impossible': False}),\n",
       " Prediction(uid=37.0, iid=218.0, r_ui=7.0, est=6.325708838647818, details={'was_impossible': False}),\n",
       " Prediction(uid=8.0, iid=224.0, r_ui=9.0, est=7.782814574362117, details={'was_impossible': False}),\n",
       " Prediction(uid=53.0, iid=189.0, r_ui=7.0, est=6.3616022544931745, details={'was_impossible': False}),\n",
       " Prediction(uid=30.0, iid=304.0, r_ui=1.0, est=2.7077699742057266, details={'was_impossible': False}),\n",
       " Prediction(uid=59.0, iid=43.0, r_ui=3.0, est=5.058205899257977, details={'was_impossible': False}),\n",
       " Prediction(uid=41.0, iid=259.0, r_ui=2.0, est=3.3420502242735997, details={'was_impossible': False}),\n",
       " Prediction(uid=97.0, iid=308.0, r_ui=3.0, est=3.7047491561026544, details={'was_impossible': False}),\n",
       " Prediction(uid=88.0, iid=48.0, r_ui=9.0, est=7.537572768444017, details={'was_impossible': False}),\n",
       " Prediction(uid=36.0, iid=16.0, r_ui=7.0, est=6.749605667275797, details={'was_impossible': False}),\n",
       " Prediction(uid=89.0, iid=120.0, r_ui=6.0, est=5.911823058989358, details={'was_impossible': False}),\n",
       " Prediction(uid=63.0, iid=186.0, r_ui=8.0, est=7.149170682950777, details={'was_impossible': False}),\n",
       " Prediction(uid=25.0, iid=57.0, r_ui=10.0, est=8.18876963345792, details={'was_impossible': False}),\n",
       " Prediction(uid=97.0, iid=64.0, r_ui=4.0, est=4.4112325559404795, details={'was_impossible': False}),\n",
       " Prediction(uid=47.0, iid=225.0, r_ui=3.0, est=5.080652374682812, details={'was_impossible': False}),\n",
       " Prediction(uid=5.0, iid=52.0, r_ui=9.0, est=7.769257945637623, details={'was_impossible': False}),\n",
       " Prediction(uid=96.0, iid=89.0, r_ui=8.0, est=7.0608040339294735, details={'was_impossible': False}),\n",
       " Prediction(uid=45.0, iid=10.0, r_ui=6.0, est=5.624693793836604, details={'was_impossible': False}),\n",
       " Prediction(uid=70.0, iid=83.0, r_ui=9.0, est=7.758056548178626, details={'was_impossible': False}),\n",
       " Prediction(uid=17.0, iid=114.0, r_ui=1.0, est=5.413310386186962, details={'was_impossible': False}),\n",
       " Prediction(uid=98.0, iid=217.0, r_ui=3.0, est=3.9349553775094743, details={'was_impossible': False}),\n",
       " Prediction(uid=89.0, iid=3.0, r_ui=7.0, est=6.26195310057024, details={'was_impossible': False}),\n",
       " Prediction(uid=48.0, iid=58.0, r_ui=1.0, est=2.463512959081556, details={'was_impossible': False}),\n",
       " Prediction(uid=85.0, iid=238.0, r_ui=7.0, est=6.426700315219633, details={'was_impossible': False}),\n",
       " Prediction(uid=17.0, iid=8.0, r_ui=5.0, est=5.200302422633602, details={'was_impossible': False}),\n",
       " Prediction(uid=78.0, iid=21.0, r_ui=4.0, est=4.55840670288299, details={'was_impossible': False}),\n",
       " Prediction(uid=45.0, iid=47.0, r_ui=2.0, est=3.0627776830512694, details={'was_impossible': False}),\n",
       " Prediction(uid=22.0, iid=275.0, r_ui=4.0, est=5.191848818828031, details={'was_impossible': False}),\n",
       " Prediction(uid=27.0, iid=161.0, r_ui=2.0, est=3.115892104244132, details={'was_impossible': False}),\n",
       " Prediction(uid=2.0, iid=106.0, r_ui=9.0, est=7.685223422014879, details={'was_impossible': False}),\n",
       " Prediction(uid=37.0, iid=98.0, r_ui=6.0, est=5.22426318328307, details={'was_impossible': False}),\n",
       " Prediction(uid=74.0, iid=132.0, r_ui=6.0, est=5.993999290967445, details={'was_impossible': False}),\n",
       " Prediction(uid=15.0, iid=130.0, r_ui=5.0, est=5.2179610855085645, details={'was_impossible': False}),\n",
       " Prediction(uid=31.0, iid=150.0, r_ui=9.0, est=7.88560114707028, details={'was_impossible': False}),\n",
       " Prediction(uid=68.0, iid=179.0, r_ui=5.0, est=5.816510797038855, details={'was_impossible': False}),\n",
       " Prediction(uid=17.0, iid=278.0, r_ui=8.0, est=6.905355062631546, details={'was_impossible': False}),\n",
       " Prediction(uid=52.0, iid=254.0, r_ui=2.0, est=3.4194076949662566, details={'was_impossible': False}),\n",
       " Prediction(uid=33.0, iid=248.0, r_ui=10.0, est=8.239367456739501, details={'was_impossible': False}),\n",
       " Prediction(uid=96.0, iid=271.0, r_ui=7.0, est=6.257727803721527, details={'was_impossible': False}),\n",
       " Prediction(uid=44.0, iid=295.0, r_ui=10.0, est=5.398533007334963, details={'was_impossible': False}),\n",
       " Prediction(uid=28.0, iid=54.0, r_ui=7.0, est=6.453543935305845, details={'was_impossible': False}),\n",
       " Prediction(uid=70.0, iid=16.0, r_ui=2.0, est=3.272582109481119, details={'was_impossible': False}),\n",
       " Prediction(uid=41.0, iid=51.0, r_ui=3.0, est=3.908192664830801, details={'was_impossible': False}),\n",
       " Prediction(uid=87.0, iid=200.0, r_ui=2.0, est=5.329534836878156, details={'was_impossible': False}),\n",
       " Prediction(uid=14.0, iid=87.0, r_ui=8.0, est=7.265321350803449, details={'was_impossible': False}),\n",
       " Prediction(uid=51.0, iid=136.0, r_ui=6.0, est=5.769639061618616, details={'was_impossible': False}),\n",
       " Prediction(uid=35.0, iid=15.0, r_ui=1.0, est=5.438998006296583, details={'was_impossible': False}),\n",
       " Prediction(uid=49.0, iid=139.0, r_ui=10.0, est=8.26373291297445, details={'was_impossible': False}),\n",
       " Prediction(uid=8.0, iid=242.0, r_ui=3.0, est=3.8294224562777455, details={'was_impossible': False}),\n",
       " Prediction(uid=73.0, iid=234.0, r_ui=2.0, est=3.317862524363774, details={'was_impossible': False}),\n",
       " Prediction(uid=42.0, iid=196.0, r_ui=9.0, est=7.694028718592672, details={'was_impossible': False}),\n",
       " Prediction(uid=19.0, iid=84.0, r_ui=10.0, est=8.245166065644042, details={'was_impossible': False}),\n",
       " Prediction(uid=77.0, iid=123.0, r_ui=10.0, est=7.9927912238502365, details={'was_impossible': False}),\n",
       " Prediction(uid=41.0, iid=100.0, r_ui=3.0, est=3.646821119109539, details={'was_impossible': False}),\n",
       " Prediction(uid=100.0, iid=233.0, r_ui=10.0, est=8.668230814018303, details={'was_impossible': False}),\n",
       " Prediction(uid=57.0, iid=33.0, r_ui=3.0, est=4.093622520458627, details={'was_impossible': False}),\n",
       " Prediction(uid=62.0, iid=58.0, r_ui=4.0, est=5.702267529944336, details={'was_impossible': False}),\n",
       " Prediction(uid=6.0, iid=213.0, r_ui=6.0, est=5.475810576897201, details={'was_impossible': False}),\n",
       " Prediction(uid=39.0, iid=2.0, r_ui=10.0, est=8.202015171354995, details={'was_impossible': False}),\n",
       " Prediction(uid=43.0, iid=34.0, r_ui=8.0, est=7.171053271421257, details={'was_impossible': False}),\n",
       " Prediction(uid=98.0, iid=47.0, r_ui=2.0, est=5.047539567157413, details={'was_impossible': False}),\n",
       " Prediction(uid=64.0, iid=303.0, r_ui=6.0, est=5.777931618685785, details={'was_impossible': False}),\n",
       " Prediction(uid=9.0, iid=91.0, r_ui=5.0, est=4.863528610975025, details={'was_impossible': False})]"
      ]
     },
     "execution_count": 9,
     "metadata": {},
     "output_type": "execute_result"
    }
   ],
   "source": [
    "predictions = svd.test(testset)\n",
    "predictions"
   ]
  },
  {
   "cell_type": "code",
   "execution_count": 12,
   "id": "654b6a8a-7dc3-46ec-9233-3d11dddb693b",
   "metadata": {},
   "outputs": [
    {
     "data": {
      "text/plain": [
       "{1: 0, 2: 1, 3: 14, 4: 19, 5: 36, 6: 24, 7: 9, 8: 22, 9: 3, 10: 0}"
      ]
     },
     "execution_count": 12,
     "metadata": {},
     "output_type": "execute_result"
    }
   ],
   "source": [
    "ratings = {k: 0 for k in range(1, 10+1)}\n",
    "\n",
    "for pred in predictions:\n",
    "    ratings[round(pred.est)]+=1\n",
    "\n",
    "ratings"
   ]
  },
  {
   "cell_type": "code",
   "execution_count": 15,
   "id": "e0cf482a-2f8f-44f6-af5a-8032f812e120",
   "metadata": {},
   "outputs": [
    {
     "data": {
      "image/png": "[encoded data removed]",
      "text/plain": [
       "<Figure size 640x480 with 1 Axes>"
      ]
     },
     "metadata": {},
     "output_type": "display_data"
    }
   ],
   "source": [
    "import seaborn as sns\n",
    "import matplotlib.pyplot as plt\n",
    "\n",
    "sns.barplot(ratings)\n",
    "plt.title(\"[User-based] Distribution of estimated ratings\");"
   ]
  },
  {
   "cell_type": "code",
   "execution_count": null,
   "id": "05ca461f-79cd-4f1d-9eea-ce3b55f331d8",
   "metadata": {},
   "outputs": [],
   "source": []
  }
 ],
 "metadata": {
  "kernelspec": {
   "display_name": "Python 3 (ipykernel)",
   "language": "python",
   "name": "python3"
  },
  "language_info": {
   "codemirror_mode": {
    "name": "ipython",
    "version": 3
   },
   "file_extension": ".py",
   "mimetype": "text/x-python",
   "name": "python",
   "nbconvert_exporter": "python",
   "pygments_lexer": "ipython3",
   "version": "3.9.18"
  }
 },
 "nbformat": 4,
 "nbformat_minor": 5
}
