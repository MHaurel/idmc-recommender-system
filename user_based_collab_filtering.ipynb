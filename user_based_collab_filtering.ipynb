{
 "cells": [
  {
   "cell_type": "code",
   "execution_count": 331,
   "id": "84d36cdd-03c8-453a-be33-67e9fc4c9052",
   "metadata": {},
   "outputs": [],
   "source": [
    "import pandas as pd\n",
    "from surprise import Dataset, Reader\n",
    "from surprise.model_selection import train_test_split\n",
    "from surprise import KNNBasic\n",
    "from surprise import accuracy\n",
    "import seaborn as sns\n",
    "import matplotlib.pyplot as plt\n",
    "\n",
    "# Load data\n",
    "food_data = pd.read_csv('data/food.csv')\n",
    "ratings_data = pd.read_csv('data/ratings.csv')"
   ]
  },
  {
   "cell_type": "code",
   "execution_count": 332,
   "id": "a0305db9",
   "metadata": {},
   "outputs": [
    {
     "data": {
      "text/html": [
       "<div>\n",
       "<style scoped>\n",
       "    .dataframe tbody tr th:only-of-type {\n",
       "        vertical-align: middle;\n",
       "    }\n",
       "\n",
       "    .dataframe tbody tr th {\n",
       "        vertical-align: top;\n",
       "    }\n",
       "\n",
       "    .dataframe thead th {\n",
       "        text-align: right;\n",
       "    }\n",
       "</style>\n",
       "<table border=\"1\" class=\"dataframe\">\n",
       "  <thead>\n",
       "    <tr style=\"text-align: right;\">\n",
       "      <th></th>\n",
       "      <th>User_ID</th>\n",
       "      <th>Food_ID</th>\n",
       "      <th>Rating</th>\n",
       "    </tr>\n",
       "  </thead>\n",
       "  <tbody>\n",
       "    <tr>\n",
       "      <th>0</th>\n",
       "      <td>1.0</td>\n",
       "      <td>88.0</td>\n",
       "      <td>4.0</td>\n",
       "    </tr>\n",
       "    <tr>\n",
       "      <th>1</th>\n",
       "      <td>1.0</td>\n",
       "      <td>46.0</td>\n",
       "      <td>3.0</td>\n",
       "    </tr>\n",
       "    <tr>\n",
       "      <th>2</th>\n",
       "      <td>1.0</td>\n",
       "      <td>24.0</td>\n",
       "      <td>5.0</td>\n",
       "    </tr>\n",
       "    <tr>\n",
       "      <th>3</th>\n",
       "      <td>1.0</td>\n",
       "      <td>25.0</td>\n",
       "      <td>4.0</td>\n",
       "    </tr>\n",
       "    <tr>\n",
       "      <th>4</th>\n",
       "      <td>2.0</td>\n",
       "      <td>49.0</td>\n",
       "      <td>1.0</td>\n",
       "    </tr>\n",
       "    <tr>\n",
       "      <th>...</th>\n",
       "      <td>...</td>\n",
       "      <td>...</td>\n",
       "      <td>...</td>\n",
       "    </tr>\n",
       "    <tr>\n",
       "      <th>507</th>\n",
       "      <td>99.0</td>\n",
       "      <td>22.0</td>\n",
       "      <td>1.0</td>\n",
       "    </tr>\n",
       "    <tr>\n",
       "      <th>508</th>\n",
       "      <td>100.0</td>\n",
       "      <td>24.0</td>\n",
       "      <td>10.0</td>\n",
       "    </tr>\n",
       "    <tr>\n",
       "      <th>509</th>\n",
       "      <td>100.0</td>\n",
       "      <td>233.0</td>\n",
       "      <td>10.0</td>\n",
       "    </tr>\n",
       "    <tr>\n",
       "      <th>510</th>\n",
       "      <td>100.0</td>\n",
       "      <td>29.0</td>\n",
       "      <td>7.0</td>\n",
       "    </tr>\n",
       "    <tr>\n",
       "      <th>511</th>\n",
       "      <td>NaN</td>\n",
       "      <td>NaN</td>\n",
       "      <td>NaN</td>\n",
       "    </tr>\n",
       "  </tbody>\n",
       "</table>\n",
       "<p>512 rows × 3 columns</p>\n",
       "</div>"
      ],
      "text/plain": [
       "     User_ID  Food_ID  Rating\n",
       "0        1.0     88.0     4.0\n",
       "1        1.0     46.0     3.0\n",
       "2        1.0     24.0     5.0\n",
       "3        1.0     25.0     4.0\n",
       "4        2.0     49.0     1.0\n",
       "..       ...      ...     ...\n",
       "507     99.0     22.0     1.0\n",
       "508    100.0     24.0    10.0\n",
       "509    100.0    233.0    10.0\n",
       "510    100.0     29.0     7.0\n",
       "511      NaN      NaN     NaN\n",
       "\n",
       "[512 rows x 3 columns]"
      ]
     },
     "execution_count": 332,
     "metadata": {},
     "output_type": "execute_result"
    }
   ],
   "source": [
    "ratings_data"
   ]
  },
  {
   "cell_type": "code",
   "execution_count": 333,
   "id": "b4612878",
   "metadata": {},
   "outputs": [],
   "source": [
    "# Merge data\n",
    "merged_data = pd.merge(ratings_data, food_data, on='Food_ID')\n",
    "\n",
    "# Define a Reader\n",
    "reader = Reader(rating_scale=(1, 10))\n",
    "\n",
    "# Create Surprise Dataset\n",
    "data = Dataset.load_from_df(merged_data[['User_ID', 'Food_ID', 'Rating']], reader)\n",
    "\n",
    "# Train-test split\n",
    "trainset, testset = train_test_split(data, test_size=0.2, random_state=42)"
   ]
  },
  {
   "cell_type": "code",
   "execution_count": 334,
   "id": "1b8b14fb",
   "metadata": {},
   "outputs": [
    {
     "data": {
      "text/html": [
       "<div>\n",
       "<style scoped>\n",
       "    .dataframe tbody tr th:only-of-type {\n",
       "        vertical-align: middle;\n",
       "    }\n",
       "\n",
       "    .dataframe tbody tr th {\n",
       "        vertical-align: top;\n",
       "    }\n",
       "\n",
       "    .dataframe thead th {\n",
       "        text-align: right;\n",
       "    }\n",
       "</style>\n",
       "<table border=\"1\" class=\"dataframe\">\n",
       "  <thead>\n",
       "    <tr style=\"text-align: right;\">\n",
       "      <th></th>\n",
       "      <th>User_ID</th>\n",
       "      <th>Food_ID</th>\n",
       "      <th>Rating</th>\n",
       "      <th>Name</th>\n",
       "      <th>C_Type</th>\n",
       "      <th>Veg_Non</th>\n",
       "      <th>Describe</th>\n",
       "    </tr>\n",
       "  </thead>\n",
       "  <tbody>\n",
       "    <tr>\n",
       "      <th>0</th>\n",
       "      <td>1.0</td>\n",
       "      <td>88.0</td>\n",
       "      <td>4.0</td>\n",
       "      <td>peri peri chicken satay</td>\n",
       "      <td>Snack</td>\n",
       "      <td>non-veg</td>\n",
       "      <td>boneless skinless chicken thigh (trimmed), sal...</td>\n",
       "    </tr>\n",
       "    <tr>\n",
       "      <th>1</th>\n",
       "      <td>1.0</td>\n",
       "      <td>46.0</td>\n",
       "      <td>3.0</td>\n",
       "      <td>steam bunny chicken bao</td>\n",
       "      <td>Japanese</td>\n",
       "      <td>non-veg</td>\n",
       "      <td>buns, all purpose white flour, dry yeast, suga...</td>\n",
       "    </tr>\n",
       "    <tr>\n",
       "      <th>2</th>\n",
       "      <td>3.0</td>\n",
       "      <td>46.0</td>\n",
       "      <td>2.0</td>\n",
       "      <td>steam bunny chicken bao</td>\n",
       "      <td>Japanese</td>\n",
       "      <td>non-veg</td>\n",
       "      <td>buns, all purpose white flour, dry yeast, suga...</td>\n",
       "    </tr>\n",
       "    <tr>\n",
       "      <th>3</th>\n",
       "      <td>20.0</td>\n",
       "      <td>46.0</td>\n",
       "      <td>6.0</td>\n",
       "      <td>steam bunny chicken bao</td>\n",
       "      <td>Japanese</td>\n",
       "      <td>non-veg</td>\n",
       "      <td>buns, all purpose white flour, dry yeast, suga...</td>\n",
       "    </tr>\n",
       "    <tr>\n",
       "      <th>4</th>\n",
       "      <td>69.0</td>\n",
       "      <td>46.0</td>\n",
       "      <td>9.0</td>\n",
       "      <td>steam bunny chicken bao</td>\n",
       "      <td>Japanese</td>\n",
       "      <td>non-veg</td>\n",
       "      <td>buns, all purpose white flour, dry yeast, suga...</td>\n",
       "    </tr>\n",
       "  </tbody>\n",
       "</table>\n",
       "</div>"
      ],
      "text/plain": [
       "   User_ID  Food_ID  Rating                     Name    C_Type  Veg_Non  \\\n",
       "0      1.0     88.0     4.0  peri peri chicken satay     Snack  non-veg   \n",
       "1      1.0     46.0     3.0  steam bunny chicken bao  Japanese  non-veg   \n",
       "2      3.0     46.0     2.0  steam bunny chicken bao  Japanese  non-veg   \n",
       "3     20.0     46.0     6.0  steam bunny chicken bao  Japanese  non-veg   \n",
       "4     69.0     46.0     9.0  steam bunny chicken bao  Japanese  non-veg   \n",
       "\n",
       "                                            Describe  \n",
       "0  boneless skinless chicken thigh (trimmed), sal...  \n",
       "1  buns, all purpose white flour, dry yeast, suga...  \n",
       "2  buns, all purpose white flour, dry yeast, suga...  \n",
       "3  buns, all purpose white flour, dry yeast, suga...  \n",
       "4  buns, all purpose white flour, dry yeast, suga...  "
      ]
     },
     "execution_count": 334,
     "metadata": {},
     "output_type": "execute_result"
    }
   ],
   "source": [
    "merged_data.head()"
   ]
  },
  {
   "cell_type": "code",
   "execution_count": 335,
   "id": "17899238",
   "metadata": {},
   "outputs": [
    {
     "name": "stderr",
     "output_type": "stream",
     "text": [
      "C:\\Users\\jules\\AppData\\Local\\Temp\\ipykernel_8824\\2002446591.py:8: UserWarning: set_ticklabels() should only be used with a fixed number of ticks, i.e. after set_ticks() or using a FixedLocator.\n",
      "  ax.set_xticklabels(ax.get_xticklabels(), rotation=90, ha='center')\n"
     ]
    },
    {
     "data": {
      "image/png": "[encoded data removed]",
      "text/plain": [
       "<Figure size 1600x400 with 1 Axes>"
      ]
     },
     "metadata": {},
     "output_type": "display_data"
    }
   ],
   "source": [
    "user_ratings_count = merged_data['User_ID'].value_counts().reset_index()\n",
    "user_ratings_count.columns = ['User_ID', 'Ratings_Count']\n",
    "user_ratings_count = user_ratings_count.sort_values('Ratings_Count', ascending=False)\n",
    "user_ratings_count['User_ID'] = user_ratings_count['User_ID'].astype(int).astype(str)\n",
    "\n",
    "plt.figure(figsize=(16, 4))\n",
    "ax = sns.barplot(x='User_ID', y='Ratings_Count', data=user_ratings_count)\n",
    "ax.set_xticklabels(ax.get_xticklabels(), rotation=90, ha='center')\n",
    "plt.show()"
   ]
  },
  {
   "cell_type": "markdown",
   "id": "2436bf2b",
   "metadata": {},
   "source": [
    "Un maximum de 11 ratings pour 309 recettes et seulement 100 utilisateurs, c'est pas beaucoup"
   ]
  },
  {
   "cell_type": "code",
   "execution_count": 336,
   "id": "8af46cca",
   "metadata": {},
   "outputs": [],
   "source": [
    "# Define the similarity options (cosine similarity in this case)\n",
    "sim_options = {\n",
    "    'name': 'cosine',\n",
    "    'user_based': True\n",
    "}\n",
    "\n",
    "# Build the collaborative filtering model\n",
    "model = KNNBasic(sim_options=sim_options)\n"
   ]
  },
  {
   "cell_type": "code",
   "execution_count": 337,
   "id": "d800a5bd",
   "metadata": {},
   "outputs": [
    {
     "name": "stdout",
     "output_type": "stream",
     "text": [
      "Computing the cosine similarity matrix...\n",
      "Done computing similarity matrix.\n"
     ]
    },
    {
     "data": {
      "text/plain": [
       "<surprise.prediction_algorithms.knns.KNNBasic at 0x208a3913580>"
      ]
     },
     "execution_count": 337,
     "metadata": {},
     "output_type": "execute_result"
    }
   ],
   "source": [
    "# Train the model\n",
    "model.fit(trainset)"
   ]
  },
  {
   "cell_type": "code",
   "execution_count": 338,
   "id": "43dad660",
   "metadata": {},
   "outputs": [
    {
     "data": {
      "image/png": "[encoded data removed]",
      "text/plain": [
       "<Figure size 640x480 with 2 Axes>"
      ]
     },
     "metadata": {},
     "output_type": "display_data"
    }
   ],
   "source": [
    "# Print the similarity matrix as a heatmap\n",
    "sns.heatmap(model.sim, cmap='coolwarm')\n",
    "plt.show()"
   ]
  },
  {
   "cell_type": "code",
   "execution_count": 339,
   "id": "b50b046f",
   "metadata": {},
   "outputs": [],
   "source": [
    "def user_based_recommendation(user_ID):\n",
    "    # Get the list of all food IDs\n",
    "    food_ids = merged_data['Food_ID'].unique()\n",
    "\n",
    "    # Get the list of food IDs rated by the user\n",
    "    food_ids_user_rated = merged_data[merged_data['User_ID'] == user_ID]['Food_ID'].values\n",
    "\n",
    "    # Get the list of food IDs not rated by the user\n",
    "    food_ids_user_not_rated = [food_id for food_id in food_ids if food_id not in food_ids_user_rated]\n",
    "\n",
    "    # Create a list of tuples in the format (food_id, user_id, rating) for all food IDs not rated by the user\n",
    "    food_ids_user_not_rated = [(food_id, user_ID, 0) for food_id in food_ids_user_not_rated]\n",
    "\n",
    "    # Predict ratings for all food IDs not rated by the user\n",
    "    predictions = model.test(food_ids_user_not_rated)\n",
    "\n",
    "    # Get top 10 predictions\n",
    "    recommendations = []\n",
    "    for food_id, user_id, rating, _, _ in predictions:\n",
    "        recommendations.append((food_id, rating))\n",
    "\n",
    "    recommendations.sort(key=lambda x: x[1], reverse=True)\n",
    "    recommendations = recommendations[:10]\n",
    "\n",
    "    # Get food names\n",
    "    food_names = []\n",
    "    for recommendation in recommendations:\n",
    "        food_names.append(food_data[food_data['Food_ID'] == recommendation[0]]['Name'].values[0])\n",
    "\n",
    "    return food_names"
   ]
  },
  {
   "cell_type": "code",
   "execution_count": 340,
   "id": "51f6630d",
   "metadata": {},
   "outputs": [
    {
     "name": "stdout",
     "output_type": "stream",
     "text": [
      "Ratings given by user 32:\n",
      "                                       Name  Rating\n",
      "286                           chicken sukka    10.0\n",
      "143  cajun spiced turkey wrapped with bacon     9.0\n",
      "113       jalebi with fennel yogurt pudding     8.0\n",
      "285            sweet potato and quinoa bowl     7.0\n",
      "290                          butter chicken     7.0\n",
      "291                             puffed rice     5.0\n",
      "282               almond and amaranth ladoo     4.0\n",
      "103                         chicken biryani     2.0\n",
      "23                       carrot ginger soup     1.0\n",
      "287               holi special bhang pakode     1.0\n",
      "288                     seafood rock filler     1.0\n",
      "\n",
      "Top 10 recommendations for user 32:\n"
     ]
    },
    {
     "data": {
      "text/plain": [
       "['peri peri chicken satay',\n",
       " 'steam bunny chicken bao',\n",
       " 'green lentil dessert fudge',\n",
       " 'cashew nut cookies',\n",
       " 'christmas tree pizza',\n",
       " 'moong dal kiwi coconut soup',\n",
       " 'chicken nimbu dhaniya shorba',\n",
       " 'hot chocolate',\n",
       " 'chicken and mushroom lasagna',\n",
       " 'egg and garlic fried rice']"
      ]
     },
     "execution_count": 340,
     "metadata": {},
     "output_type": "execute_result"
    }
   ],
   "source": [
    "# Get top 10 recommendations for test user\n",
    "test_user = 32\n",
    "\n",
    "print(\"Ratings given by user {}:\".format(test_user))\n",
    "user_ratings = merged_data[merged_data['User_ID'] == test_user]\n",
    "print(user_ratings[['Name', 'Rating']].sort_values('Rating', ascending=False))\n",
    "\n",
    "# Get top 10 recommendations for test user\n",
    "print(\"\\nTop 10 recommendations for user {}:\".format(test_user))\n",
    "user_based_recommendation(test_user)"
   ]
  },
  {
   "cell_type": "code",
   "execution_count": 341,
   "id": "4f563fe0",
   "metadata": {},
   "outputs": [],
   "source": [
    "# Make predictions on the test set\n",
    "predictions = model.test(testset)"
   ]
  },
  {
   "cell_type": "code",
   "execution_count": 342,
   "id": "d9cac7d7",
   "metadata": {},
   "outputs": [
    {
     "name": "stdout",
     "output_type": "stream",
     "text": [
      "RMSE: 3.0914\n"
     ]
    },
    {
     "data": {
      "text/plain": [
       "3.0914219641571106"
      ]
     },
     "execution_count": 342,
     "metadata": {},
     "output_type": "execute_result"
    }
   ],
   "source": [
    "# Evaluate the model\n",
    "accuracy.rmse(predictions)"
   ]
  }
 ],
 "metadata": {
  "kernelspec": {
   "display_name": "Python 3 (ipykernel)",
   "language": "python",
   "name": "python3"
  },
  "language_info": {
   "codemirror_mode": {
    "name": "ipython",
    "version": 3
   },
   "file_extension": ".py",
   "mimetype": "text/x-python",
   "name": "python",
   "nbconvert_exporter": "python",
   "pygments_lexer": "ipython3",
   "version": "3.10.7"
  }
 },
 "nbformat": 4,
 "nbformat_minor": 5
}
