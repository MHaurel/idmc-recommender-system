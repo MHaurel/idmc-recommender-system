{
  "nbformat": 4,
  "nbformat_minor": 0,
  "metadata": {
    "colab": {
      "provenance": []
    },
    "kernelspec": {
      "name": "python3",
      "display_name": "Python 3"
    },
    "language_info": {
      "name": "python"
    }
  },
  "cells": [
    {
      "cell_type": "markdown",
      "source": [
        "# Advanced content-based & evaluation\n"
      ],
      "metadata": {
        "id": "A8UzDNsDkk-U"
      }
    },
    {
      "cell_type": "markdown",
      "source": [
        "We first install the package `surprise`."
      ],
      "metadata": {
        "id": "UzzYAtwlRfsV"
      }
    },
    {
      "cell_type": "code",
      "execution_count": null,
      "metadata": {
        "colab": {
          "base_uri": "https://localhost:8080/"
        },
        "id": "785Y0U43hm6z",
        "outputId": "2dcc1079-7908-415a-f2c5-ef48673cb2fe"
      },
      "outputs": [
        {
          "output_type": "stream",
          "name": "stdout",
          "text": [
            "Requirement already satisfied: pandas in /usr/local/lib/python3.10/dist-packages (1.5.3)\n",
            "Requirement already satisfied: scikit-surprise in /usr/local/lib/python3.10/dist-packages (1.1.3)\n",
            "Requirement already satisfied: python-dateutil>=2.8.1 in /usr/local/lib/python3.10/dist-packages (from pandas) (2.8.2)\n",
            "Requirement already satisfied: pytz>=2020.1 in /usr/local/lib/python3.10/dist-packages (from pandas) (2023.3.post1)\n",
            "Requirement already satisfied: numpy>=1.21.0 in /usr/local/lib/python3.10/dist-packages (from pandas) (1.23.5)\n",
            "Requirement already satisfied: joblib>=1.0.0 in /usr/local/lib/python3.10/dist-packages (from scikit-surprise) (1.3.2)\n",
            "Requirement already satisfied: scipy>=1.3.2 in /usr/local/lib/python3.10/dist-packages (from scikit-surprise) (1.11.4)\n",
            "Requirement already satisfied: six>=1.5 in /usr/local/lib/python3.10/dist-packages (from python-dateutil>=2.8.1->pandas) (1.16.0)\n"
          ]
        }
      ],
      "source": [
        "!pip install pandas scikit-surprise"
      ]
    },
    {
      "cell_type": "markdown",
      "source": [
        "Now, we need to import all the needed libraries and load the data."
      ],
      "metadata": {
        "id": "00wmRUTRRjqh"
      }
    },
    {
      "cell_type": "code",
      "source": [
        "import pandas as pd\n",
        "from surprise import Dataset, Reader\n",
        "from surprise.model_selection import train_test_split\n",
        "from surprise import SVD\n",
        "from surprise import accuracy\n",
        "from sklearn.feature_extraction.text import TfidfVectorizer\n",
        "from sklearn.metrics.pairwise import linear_kernel\n",
        "\n",
        "import string\n",
        "\n",
        "# Load data\n",
        "food_data = pd.read_csv('food.csv')\n",
        "ratings_data = pd.read_csv('ratings.csv')"
      ],
      "metadata": {
        "id": "95ba5TsPhoSR"
      },
      "execution_count": null,
      "outputs": []
    },
    {
      "cell_type": "code",
      "source": [
        "food_data.head()"
      ],
      "metadata": {
        "colab": {
          "base_uri": "https://localhost:8080/",
          "height": 206
        },
        "id": "ojEOgW_AiWzF",
        "outputId": "a7178fb2-f0cd-400c-c3f3-69ba97843330"
      },
      "execution_count": null,
      "outputs": [
        {
          "output_type": "execute_result",
          "data": {
            "text/plain": [
              "   Food_ID                  Name        C_Type  Veg_Non  \\\n",
              "0        1   summer squash salad  Healthy Food      veg   \n",
              "1        2  chicken minced salad  Healthy Food  non-veg   \n",
              "2        3  sweet chilli almonds         Snack      veg   \n",
              "3        4       tricolour salad  Healthy Food      veg   \n",
              "4        5        christmas cake       Dessert      veg   \n",
              "\n",
              "                                            Describe  \n",
              "0  white balsamic vinegar, lemon juice, lemon rin...  \n",
              "1  olive oil, chicken mince, garlic (minced), oni...  \n",
              "2  almonds whole, egg white, curry leaves, salt, ...  \n",
              "3  vinegar, honey/sugar, soy sauce, salt, garlic ...  \n",
              "4  christmas dry fruits (pre-soaked), orange zest...  "
            ],
            "text/html": [
              "\n",
              "  <div id=\"df-2b6ebfc8-b068-4de0-badd-ce0a4c6051a9\" class=\"colab-df-container\">\n",
              "    <div>\n",
              "<style scoped>\n",
              "    .dataframe tbody tr th:only-of-type {\n",
              "        vertical-align: middle;\n",
              "    }\n",
              "\n",
              "    .dataframe tbody tr th {\n",
              "        vertical-align: top;\n",
              "    }\n",
              "\n",
              "    .dataframe thead th {\n",
              "        text-align: right;\n",
              "    }\n",
              "</style>\n",
              "<table border=\"1\" class=\"dataframe\">\n",
              "  <thead>\n",
              "    <tr style=\"text-align: right;\">\n",
              "      <th></th>\n",
              "      <th>Food_ID</th>\n",
              "      <th>Name</th>\n",
              "      <th>C_Type</th>\n",
              "      <th>Veg_Non</th>\n",
              "      <th>Describe</th>\n",
              "    </tr>\n",
              "  </thead>\n",
              "  <tbody>\n",
              "    <tr>\n",
              "      <th>0</th>\n",
              "      <td>1</td>\n",
              "      <td>summer squash salad</td>\n",
              "      <td>Healthy Food</td>\n",
              "      <td>veg</td>\n",
              "      <td>white balsamic vinegar, lemon juice, lemon rin...</td>\n",
              "    </tr>\n",
              "    <tr>\n",
              "      <th>1</th>\n",
              "      <td>2</td>\n",
              "      <td>chicken minced salad</td>\n",
              "      <td>Healthy Food</td>\n",
              "      <td>non-veg</td>\n",
              "      <td>olive oil, chicken mince, garlic (minced), oni...</td>\n",
              "    </tr>\n",
              "    <tr>\n",
              "      <th>2</th>\n",
              "      <td>3</td>\n",
              "      <td>sweet chilli almonds</td>\n",
              "      <td>Snack</td>\n",
              "      <td>veg</td>\n",
              "      <td>almonds whole, egg white, curry leaves, salt, ...</td>\n",
              "    </tr>\n",
              "    <tr>\n",
              "      <th>3</th>\n",
              "      <td>4</td>\n",
              "      <td>tricolour salad</td>\n",
              "      <td>Healthy Food</td>\n",
              "      <td>veg</td>\n",
              "      <td>vinegar, honey/sugar, soy sauce, salt, garlic ...</td>\n",
              "    </tr>\n",
              "    <tr>\n",
              "      <th>4</th>\n",
              "      <td>5</td>\n",
              "      <td>christmas cake</td>\n",
              "      <td>Dessert</td>\n",
              "      <td>veg</td>\n",
              "      <td>christmas dry fruits (pre-soaked), orange zest...</td>\n",
              "    </tr>\n",
              "  </tbody>\n",
              "</table>\n",
              "</div>\n",
              "    <div class=\"colab-df-buttons\">\n",
              "\n",
              "  <div class=\"colab-df-container\">\n",
              "    <button class=\"colab-df-convert\" onclick=\"convertToInteractive('df-2b6ebfc8-b068-4de0-badd-ce0a4c6051a9')\"\n",
              "            title=\"Convert this dataframe to an interactive table.\"\n",
              "            style=\"display:none;\">\n",
              "\n",
              "  <svg xmlns=\"http://www.w3.org/2000/svg\" height=\"24px\" viewBox=\"0 -960 960 960\">\n",
              "    <path d=\"M120-120v-720h720v720H120Zm60-500h600v-160H180v160Zm220 220h160v-160H400v160Zm0 220h160v-160H400v160ZM180-400h160v-160H180v160Zm440 0h160v-160H620v160ZM180-180h160v-160H180v160Zm440 0h160v-160H620v160Z\"/>\n",
              "  </svg>\n",
              "    </button>\n",
              "\n",
              "  <style>\n",
              "    .colab-df-container {\n",
              "      display:flex;\n",
              "      gap: 12px;\n",
              "    }\n",
              "\n",
              "    .colab-df-convert {\n",
              "      background-color: #E8F0FE;\n",
              "      border: none;\n",
              "      border-radius: 50%;\n",
              "      cursor: pointer;\n",
              "      display: none;\n",
              "      fill: #1967D2;\n",
              "      height: 32px;\n",
              "      padding: 0 0 0 0;\n",
              "      width: 32px;\n",
              "    }\n",
              "\n",
              "    .colab-df-convert:hover {\n",
              "      background-color: #E2EBFA;\n",
              "      box-shadow: 0px 1px 2px rgba(60, 64, 67, 0.3), 0px 1px 3px 1px rgba(60, 64, 67, 0.15);\n",
              "      fill: #174EA6;\n",
              "    }\n",
              "\n",
              "    .colab-df-buttons div {\n",
              "      margin-bottom: 4px;\n",
              "    }\n",
              "\n",
              "    [theme=dark] .colab-df-convert {\n",
              "      background-color: #3B4455;\n",
              "      fill: #D2E3FC;\n",
              "    }\n",
              "\n",
              "    [theme=dark] .colab-df-convert:hover {\n",
              "      background-color: #434B5C;\n",
              "      box-shadow: 0px 1px 3px 1px rgba(0, 0, 0, 0.15);\n",
              "      filter: drop-shadow(0px 1px 2px rgba(0, 0, 0, 0.3));\n",
              "      fill: #FFFFFF;\n",
              "    }\n",
              "  </style>\n",
              "\n",
              "    <script>\n",
              "      const buttonEl =\n",
              "        document.querySelector('#df-2b6ebfc8-b068-4de0-badd-ce0a4c6051a9 button.colab-df-convert');\n",
              "      buttonEl.style.display =\n",
              "        google.colab.kernel.accessAllowed ? 'block' : 'none';\n",
              "\n",
              "      async function convertToInteractive(key) {\n",
              "        const element = document.querySelector('#df-2b6ebfc8-b068-4de0-badd-ce0a4c6051a9');\n",
              "        const dataTable =\n",
              "          await google.colab.kernel.invokeFunction('convertToInteractive',\n",
              "                                                    [key], {});\n",
              "        if (!dataTable) return;\n",
              "\n",
              "        const docLinkHtml = 'Like what you see? Visit the ' +\n",
              "          '<a target=\"_blank\" href=https://colab.research.google.com/notebooks/data_table.ipynb>data table notebook</a>'\n",
              "          + ' to learn more about interactive tables.';\n",
              "        element.innerHTML = '';\n",
              "        dataTable['output_type'] = 'display_data';\n",
              "        await google.colab.output.renderOutput(dataTable, element);\n",
              "        const docLink = document.createElement('div');\n",
              "        docLink.innerHTML = docLinkHtml;\n",
              "        element.appendChild(docLink);\n",
              "      }\n",
              "    </script>\n",
              "  </div>\n",
              "\n",
              "\n",
              "<div id=\"df-7fc12958-47ba-4044-8928-efa3b52ce5a8\">\n",
              "  <button class=\"colab-df-quickchart\" onclick=\"quickchart('df-7fc12958-47ba-4044-8928-efa3b52ce5a8')\"\n",
              "            title=\"Suggest charts\"\n",
              "            style=\"display:none;\">\n",
              "\n",
              "<svg xmlns=\"http://www.w3.org/2000/svg\" height=\"24px\"viewBox=\"0 0 24 24\"\n",
              "     width=\"24px\">\n",
              "    <g>\n",
              "        <path d=\"M19 3H5c-1.1 0-2 .9-2 2v14c0 1.1.9 2 2 2h14c1.1 0 2-.9 2-2V5c0-1.1-.9-2-2-2zM9 17H7v-7h2v7zm4 0h-2V7h2v10zm4 0h-2v-4h2v4z\"/>\n",
              "    </g>\n",
              "</svg>\n",
              "  </button>\n",
              "\n",
              "<style>\n",
              "  .colab-df-quickchart {\n",
              "      --bg-color: #E8F0FE;\n",
              "      --fill-color: #1967D2;\n",
              "      --hover-bg-color: #E2EBFA;\n",
              "      --hover-fill-color: #174EA6;\n",
              "      --disabled-fill-color: #AAA;\n",
              "      --disabled-bg-color: #DDD;\n",
              "  }\n",
              "\n",
              "  [theme=dark] .colab-df-quickchart {\n",
              "      --bg-color: #3B4455;\n",
              "      --fill-color: #D2E3FC;\n",
              "      --hover-bg-color: #434B5C;\n",
              "      --hover-fill-color: #FFFFFF;\n",
              "      --disabled-bg-color: #3B4455;\n",
              "      --disabled-fill-color: #666;\n",
              "  }\n",
              "\n",
              "  .colab-df-quickchart {\n",
              "    background-color: var(--bg-color);\n",
              "    border: none;\n",
              "    border-radius: 50%;\n",
              "    cursor: pointer;\n",
              "    display: none;\n",
              "    fill: var(--fill-color);\n",
              "    height: 32px;\n",
              "    padding: 0;\n",
              "    width: 32px;\n",
              "  }\n",
              "\n",
              "  .colab-df-quickchart:hover {\n",
              "    background-color: var(--hover-bg-color);\n",
              "    box-shadow: 0 1px 2px rgba(60, 64, 67, 0.3), 0 1px 3px 1px rgba(60, 64, 67, 0.15);\n",
              "    fill: var(--button-hover-fill-color);\n",
              "  }\n",
              "\n",
              "  .colab-df-quickchart-complete:disabled,\n",
              "  .colab-df-quickchart-complete:disabled:hover {\n",
              "    background-color: var(--disabled-bg-color);\n",
              "    fill: var(--disabled-fill-color);\n",
              "    box-shadow: none;\n",
              "  }\n",
              "\n",
              "  .colab-df-spinner {\n",
              "    border: 2px solid var(--fill-color);\n",
              "    border-color: transparent;\n",
              "    border-bottom-color: var(--fill-color);\n",
              "    animation:\n",
              "      spin 1s steps(1) infinite;\n",
              "  }\n",
              "\n",
              "  @keyframes spin {\n",
              "    0% {\n",
              "      border-color: transparent;\n",
              "      border-bottom-color: var(--fill-color);\n",
              "      border-left-color: var(--fill-color);\n",
              "    }\n",
              "    20% {\n",
              "      border-color: transparent;\n",
              "      border-left-color: var(--fill-color);\n",
              "      border-top-color: var(--fill-color);\n",
              "    }\n",
              "    30% {\n",
              "      border-color: transparent;\n",
              "      border-left-color: var(--fill-color);\n",
              "      border-top-color: var(--fill-color);\n",
              "      border-right-color: var(--fill-color);\n",
              "    }\n",
              "    40% {\n",
              "      border-color: transparent;\n",
              "      border-right-color: var(--fill-color);\n",
              "      border-top-color: var(--fill-color);\n",
              "    }\n",
              "    60% {\n",
              "      border-color: transparent;\n",
              "      border-right-color: var(--fill-color);\n",
              "    }\n",
              "    80% {\n",
              "      border-color: transparent;\n",
              "      border-right-color: var(--fill-color);\n",
              "      border-bottom-color: var(--fill-color);\n",
              "    }\n",
              "    90% {\n",
              "      border-color: transparent;\n",
              "      border-bottom-color: var(--fill-color);\n",
              "    }\n",
              "  }\n",
              "</style>\n",
              "\n",
              "  <script>\n",
              "    async function quickchart(key) {\n",
              "      const quickchartButtonEl =\n",
              "        document.querySelector('#' + key + ' button');\n",
              "      quickchartButtonEl.disabled = true;  // To prevent multiple clicks.\n",
              "      quickchartButtonEl.classList.add('colab-df-spinner');\n",
              "      try {\n",
              "        const charts = await google.colab.kernel.invokeFunction(\n",
              "            'suggestCharts', [key], {});\n",
              "      } catch (error) {\n",
              "        console.error('Error during call to suggestCharts:', error);\n",
              "      }\n",
              "      quickchartButtonEl.classList.remove('colab-df-spinner');\n",
              "      quickchartButtonEl.classList.add('colab-df-quickchart-complete');\n",
              "    }\n",
              "    (() => {\n",
              "      let quickchartButtonEl =\n",
              "        document.querySelector('#df-7fc12958-47ba-4044-8928-efa3b52ce5a8 button');\n",
              "      quickchartButtonEl.style.display =\n",
              "        google.colab.kernel.accessAllowed ? 'block' : 'none';\n",
              "    })();\n",
              "  </script>\n",
              "</div>\n",
              "    </div>\n",
              "  </div>\n"
            ]
          },
          "metadata": {},
          "execution_count": 65
        }
      ]
    },
    {
      "cell_type": "markdown",
      "source": [
        "We define a simple function that will clean the description of our meals."
      ],
      "metadata": {
        "id": "wwL1uGTKRnd_"
      }
    },
    {
      "cell_type": "code",
      "source": [
        "def text_cleaning(text):\n",
        "    text = \"\".join([char for char in text if char not in string.punctuation])\n",
        "    return text"
      ],
      "metadata": {
        "id": "ZE27ZZytPpy-"
      },
      "execution_count": null,
      "outputs": []
    },
    {
      "cell_type": "code",
      "source": [
        "food_data['Describe'] = food_data['Describe'].apply(text_cleaning)"
      ],
      "metadata": {
        "id": "35OYHFlUPquF"
      },
      "execution_count": null,
      "outputs": []
    },
    {
      "cell_type": "markdown",
      "source": [
        "We merge both datasets to get a complete dataset including ratings AND users."
      ],
      "metadata": {
        "id": "cubzfID8RtRN"
      }
    },
    {
      "cell_type": "code",
      "source": [
        "# Merge data\n",
        "merged_data = pd.merge(ratings_data, food_data, on='Food_ID')\n",
        "\n",
        "# Define a Reader\n",
        "reader = Reader(rating_scale=(1, 5))\n",
        "\n",
        "# Create Surprise Dataset\n",
        "data = Dataset.load_from_df(merged_data[['User_ID', 'Food_ID', 'Rating']], reader)\n",
        "\n",
        "# Train-test split\n",
        "trainset, testset = train_test_split(data, test_size=0.2, random_state=42)\n"
      ],
      "metadata": {
        "id": "_ZvlMPdth20h"
      },
      "execution_count": null,
      "outputs": []
    },
    {
      "cell_type": "code",
      "source": [
        "merged_data.head()"
      ],
      "metadata": {
        "colab": {
          "base_uri": "https://localhost:8080/",
          "height": 206
        },
        "id": "UUIcfvctjzPz",
        "outputId": "807454b0-a2a6-4a96-c8b8-03473d250633"
      },
      "execution_count": null,
      "outputs": [
        {
          "output_type": "execute_result",
          "data": {
            "text/plain": [
              "   User_ID  Food_ID  Rating                     Name    C_Type  Veg_Non  \\\n",
              "0      1.0     88.0     4.0  peri peri chicken satay     Snack  non-veg   \n",
              "1      1.0     46.0     3.0  steam bunny chicken bao  Japanese  non-veg   \n",
              "2      3.0     46.0     2.0  steam bunny chicken bao  Japanese  non-veg   \n",
              "3     20.0     46.0     6.0  steam bunny chicken bao  Japanese  non-veg   \n",
              "4     69.0     46.0     9.0  steam bunny chicken bao  Japanese  non-veg   \n",
              "\n",
              "                                            Describe  \n",
              "0  boneless skinless chicken thigh trimmed salt a...  \n",
              "1  buns all purpose white flour dry yeast sugar s...  \n",
              "2  buns all purpose white flour dry yeast sugar s...  \n",
              "3  buns all purpose white flour dry yeast sugar s...  \n",
              "4  buns all purpose white flour dry yeast sugar s...  "
            ],
            "text/html": [
              "\n",
              "  <div id=\"df-830d57ed-e35d-4d8c-b3be-726efe8d0660\" class=\"colab-df-container\">\n",
              "    <div>\n",
              "<style scoped>\n",
              "    .dataframe tbody tr th:only-of-type {\n",
              "        vertical-align: middle;\n",
              "    }\n",
              "\n",
              "    .dataframe tbody tr th {\n",
              "        vertical-align: top;\n",
              "    }\n",
              "\n",
              "    .dataframe thead th {\n",
              "        text-align: right;\n",
              "    }\n",
              "</style>\n",
              "<table border=\"1\" class=\"dataframe\">\n",
              "  <thead>\n",
              "    <tr style=\"text-align: right;\">\n",
              "      <th></th>\n",
              "      <th>User_ID</th>\n",
              "      <th>Food_ID</th>\n",
              "      <th>Rating</th>\n",
              "      <th>Name</th>\n",
              "      <th>C_Type</th>\n",
              "      <th>Veg_Non</th>\n",
              "      <th>Describe</th>\n",
              "    </tr>\n",
              "  </thead>\n",
              "  <tbody>\n",
              "    <tr>\n",
              "      <th>0</th>\n",
              "      <td>1.0</td>\n",
              "      <td>88.0</td>\n",
              "      <td>4.0</td>\n",
              "      <td>peri peri chicken satay</td>\n",
              "      <td>Snack</td>\n",
              "      <td>non-veg</td>\n",
              "      <td>boneless skinless chicken thigh trimmed salt a...</td>\n",
              "    </tr>\n",
              "    <tr>\n",
              "      <th>1</th>\n",
              "      <td>1.0</td>\n",
              "      <td>46.0</td>\n",
              "      <td>3.0</td>\n",
              "      <td>steam bunny chicken bao</td>\n",
              "      <td>Japanese</td>\n",
              "      <td>non-veg</td>\n",
              "      <td>buns all purpose white flour dry yeast sugar s...</td>\n",
              "    </tr>\n",
              "    <tr>\n",
              "      <th>2</th>\n",
              "      <td>3.0</td>\n",
              "      <td>46.0</td>\n",
              "      <td>2.0</td>\n",
              "      <td>steam bunny chicken bao</td>\n",
              "      <td>Japanese</td>\n",
              "      <td>non-veg</td>\n",
              "      <td>buns all purpose white flour dry yeast sugar s...</td>\n",
              "    </tr>\n",
              "    <tr>\n",
              "      <th>3</th>\n",
              "      <td>20.0</td>\n",
              "      <td>46.0</td>\n",
              "      <td>6.0</td>\n",
              "      <td>steam bunny chicken bao</td>\n",
              "      <td>Japanese</td>\n",
              "      <td>non-veg</td>\n",
              "      <td>buns all purpose white flour dry yeast sugar s...</td>\n",
              "    </tr>\n",
              "    <tr>\n",
              "      <th>4</th>\n",
              "      <td>69.0</td>\n",
              "      <td>46.0</td>\n",
              "      <td>9.0</td>\n",
              "      <td>steam bunny chicken bao</td>\n",
              "      <td>Japanese</td>\n",
              "      <td>non-veg</td>\n",
              "      <td>buns all purpose white flour dry yeast sugar s...</td>\n",
              "    </tr>\n",
              "  </tbody>\n",
              "</table>\n",
              "</div>\n",
              "    <div class=\"colab-df-buttons\">\n",
              "\n",
              "  <div class=\"colab-df-container\">\n",
              "    <button class=\"colab-df-convert\" onclick=\"convertToInteractive('df-830d57ed-e35d-4d8c-b3be-726efe8d0660')\"\n",
              "            title=\"Convert this dataframe to an interactive table.\"\n",
              "            style=\"display:none;\">\n",
              "\n",
              "  <svg xmlns=\"http://www.w3.org/2000/svg\" height=\"24px\" viewBox=\"0 -960 960 960\">\n",
              "    <path d=\"M120-120v-720h720v720H120Zm60-500h600v-160H180v160Zm220 220h160v-160H400v160Zm0 220h160v-160H400v160ZM180-400h160v-160H180v160Zm440 0h160v-160H620v160ZM180-180h160v-160H180v160Zm440 0h160v-160H620v160Z\"/>\n",
              "  </svg>\n",
              "    </button>\n",
              "\n",
              "  <style>\n",
              "    .colab-df-container {\n",
              "      display:flex;\n",
              "      gap: 12px;\n",
              "    }\n",
              "\n",
              "    .colab-df-convert {\n",
              "      background-color: #E8F0FE;\n",
              "      border: none;\n",
              "      border-radius: 50%;\n",
              "      cursor: pointer;\n",
              "      display: none;\n",
              "      fill: #1967D2;\n",
              "      height: 32px;\n",
              "      padding: 0 0 0 0;\n",
              "      width: 32px;\n",
              "    }\n",
              "\n",
              "    .colab-df-convert:hover {\n",
              "      background-color: #E2EBFA;\n",
              "      box-shadow: 0px 1px 2px rgba(60, 64, 67, 0.3), 0px 1px 3px 1px rgba(60, 64, 67, 0.15);\n",
              "      fill: #174EA6;\n",
              "    }\n",
              "\n",
              "    .colab-df-buttons div {\n",
              "      margin-bottom: 4px;\n",
              "    }\n",
              "\n",
              "    [theme=dark] .colab-df-convert {\n",
              "      background-color: #3B4455;\n",
              "      fill: #D2E3FC;\n",
              "    }\n",
              "\n",
              "    [theme=dark] .colab-df-convert:hover {\n",
              "      background-color: #434B5C;\n",
              "      box-shadow: 0px 1px 3px 1px rgba(0, 0, 0, 0.15);\n",
              "      filter: drop-shadow(0px 1px 2px rgba(0, 0, 0, 0.3));\n",
              "      fill: #FFFFFF;\n",
              "    }\n",
              "  </style>\n",
              "\n",
              "    <script>\n",
              "      const buttonEl =\n",
              "        document.querySelector('#df-830d57ed-e35d-4d8c-b3be-726efe8d0660 button.colab-df-convert');\n",
              "      buttonEl.style.display =\n",
              "        google.colab.kernel.accessAllowed ? 'block' : 'none';\n",
              "\n",
              "      async function convertToInteractive(key) {\n",
              "        const element = document.querySelector('#df-830d57ed-e35d-4d8c-b3be-726efe8d0660');\n",
              "        const dataTable =\n",
              "          await google.colab.kernel.invokeFunction('convertToInteractive',\n",
              "                                                    [key], {});\n",
              "        if (!dataTable) return;\n",
              "\n",
              "        const docLinkHtml = 'Like what you see? Visit the ' +\n",
              "          '<a target=\"_blank\" href=https://colab.research.google.com/notebooks/data_table.ipynb>data table notebook</a>'\n",
              "          + ' to learn more about interactive tables.';\n",
              "        element.innerHTML = '';\n",
              "        dataTable['output_type'] = 'display_data';\n",
              "        await google.colab.output.renderOutput(dataTable, element);\n",
              "        const docLink = document.createElement('div');\n",
              "        docLink.innerHTML = docLinkHtml;\n",
              "        element.appendChild(docLink);\n",
              "      }\n",
              "    </script>\n",
              "  </div>\n",
              "\n",
              "\n",
              "<div id=\"df-fb57b6b1-2a7f-4dad-8e8e-3bd17030924b\">\n",
              "  <button class=\"colab-df-quickchart\" onclick=\"quickchart('df-fb57b6b1-2a7f-4dad-8e8e-3bd17030924b')\"\n",
              "            title=\"Suggest charts\"\n",
              "            style=\"display:none;\">\n",
              "\n",
              "<svg xmlns=\"http://www.w3.org/2000/svg\" height=\"24px\"viewBox=\"0 0 24 24\"\n",
              "     width=\"24px\">\n",
              "    <g>\n",
              "        <path d=\"M19 3H5c-1.1 0-2 .9-2 2v14c0 1.1.9 2 2 2h14c1.1 0 2-.9 2-2V5c0-1.1-.9-2-2-2zM9 17H7v-7h2v7zm4 0h-2V7h2v10zm4 0h-2v-4h2v4z\"/>\n",
              "    </g>\n",
              "</svg>\n",
              "  </button>\n",
              "\n",
              "<style>\n",
              "  .colab-df-quickchart {\n",
              "      --bg-color: #E8F0FE;\n",
              "      --fill-color: #1967D2;\n",
              "      --hover-bg-color: #E2EBFA;\n",
              "      --hover-fill-color: #174EA6;\n",
              "      --disabled-fill-color: #AAA;\n",
              "      --disabled-bg-color: #DDD;\n",
              "  }\n",
              "\n",
              "  [theme=dark] .colab-df-quickchart {\n",
              "      --bg-color: #3B4455;\n",
              "      --fill-color: #D2E3FC;\n",
              "      --hover-bg-color: #434B5C;\n",
              "      --hover-fill-color: #FFFFFF;\n",
              "      --disabled-bg-color: #3B4455;\n",
              "      --disabled-fill-color: #666;\n",
              "  }\n",
              "\n",
              "  .colab-df-quickchart {\n",
              "    background-color: var(--bg-color);\n",
              "    border: none;\n",
              "    border-radius: 50%;\n",
              "    cursor: pointer;\n",
              "    display: none;\n",
              "    fill: var(--fill-color);\n",
              "    height: 32px;\n",
              "    padding: 0;\n",
              "    width: 32px;\n",
              "  }\n",
              "\n",
              "  .colab-df-quickchart:hover {\n",
              "    background-color: var(--hover-bg-color);\n",
              "    box-shadow: 0 1px 2px rgba(60, 64, 67, 0.3), 0 1px 3px 1px rgba(60, 64, 67, 0.15);\n",
              "    fill: var(--button-hover-fill-color);\n",
              "  }\n",
              "\n",
              "  .colab-df-quickchart-complete:disabled,\n",
              "  .colab-df-quickchart-complete:disabled:hover {\n",
              "    background-color: var(--disabled-bg-color);\n",
              "    fill: var(--disabled-fill-color);\n",
              "    box-shadow: none;\n",
              "  }\n",
              "\n",
              "  .colab-df-spinner {\n",
              "    border: 2px solid var(--fill-color);\n",
              "    border-color: transparent;\n",
              "    border-bottom-color: var(--fill-color);\n",
              "    animation:\n",
              "      spin 1s steps(1) infinite;\n",
              "  }\n",
              "\n",
              "  @keyframes spin {\n",
              "    0% {\n",
              "      border-color: transparent;\n",
              "      border-bottom-color: var(--fill-color);\n",
              "      border-left-color: var(--fill-color);\n",
              "    }\n",
              "    20% {\n",
              "      border-color: transparent;\n",
              "      border-left-color: var(--fill-color);\n",
              "      border-top-color: var(--fill-color);\n",
              "    }\n",
              "    30% {\n",
              "      border-color: transparent;\n",
              "      border-left-color: var(--fill-color);\n",
              "      border-top-color: var(--fill-color);\n",
              "      border-right-color: var(--fill-color);\n",
              "    }\n",
              "    40% {\n",
              "      border-color: transparent;\n",
              "      border-right-color: var(--fill-color);\n",
              "      border-top-color: var(--fill-color);\n",
              "    }\n",
              "    60% {\n",
              "      border-color: transparent;\n",
              "      border-right-color: var(--fill-color);\n",
              "    }\n",
              "    80% {\n",
              "      border-color: transparent;\n",
              "      border-right-color: var(--fill-color);\n",
              "      border-bottom-color: var(--fill-color);\n",
              "    }\n",
              "    90% {\n",
              "      border-color: transparent;\n",
              "      border-bottom-color: var(--fill-color);\n",
              "    }\n",
              "  }\n",
              "</style>\n",
              "\n",
              "  <script>\n",
              "    async function quickchart(key) {\n",
              "      const quickchartButtonEl =\n",
              "        document.querySelector('#' + key + ' button');\n",
              "      quickchartButtonEl.disabled = true;  // To prevent multiple clicks.\n",
              "      quickchartButtonEl.classList.add('colab-df-spinner');\n",
              "      try {\n",
              "        const charts = await google.colab.kernel.invokeFunction(\n",
              "            'suggestCharts', [key], {});\n",
              "      } catch (error) {\n",
              "        console.error('Error during call to suggestCharts:', error);\n",
              "      }\n",
              "      quickchartButtonEl.classList.remove('colab-df-spinner');\n",
              "      quickchartButtonEl.classList.add('colab-df-quickchart-complete');\n",
              "    }\n",
              "    (() => {\n",
              "      let quickchartButtonEl =\n",
              "        document.querySelector('#df-fb57b6b1-2a7f-4dad-8e8e-3bd17030924b button');\n",
              "      quickchartButtonEl.style.display =\n",
              "        google.colab.kernel.accessAllowed ? 'block' : 'none';\n",
              "    })();\n",
              "  </script>\n",
              "</div>\n",
              "    </div>\n",
              "  </div>\n"
            ]
          },
          "metadata": {},
          "execution_count": 69
        }
      ]
    },
    {
      "cell_type": "markdown",
      "source": [
        "In the cell below, we define the TF-IDF Vectorizer to compute TF-IDF features for all the elements of our datasets.\n",
        "\n",
        "We also define the function that gets $n$ recommendations from a food's name."
      ],
      "metadata": {
        "id": "W5TffY-cR2-b"
      }
    },
    {
      "cell_type": "code",
      "source": [
        "# Create TF-IDF vectorizer for content-based filtering\n",
        "tfidf_vectorizer = TfidfVectorizer(stop_words='english')\n",
        "tfidf_matrix = tfidf_vectorizer.fit_transform(food_data['Describe'])\n",
        "\n",
        "# Compute cosine similarity\n",
        "cosine_sim = linear_kernel(tfidf_matrix, tfidf_matrix)\n",
        "\n",
        "# Function to get recommendations based on content\n",
        "def content_based_recommendation(food_name):\n",
        "    idx = food_data.index[food_data['Name'] == food_name].tolist()[0]\n",
        "    sim_scores = list(enumerate(cosine_sim[idx]))\n",
        "    sim_scores = sorted(sim_scores, key=lambda x: x[1], reverse=True)\n",
        "    sim_scores = sim_scores[1:11]\n",
        "    food_indices = [i[0] for i in sim_scores]\n",
        "    print(sim_scores)\n",
        "    return food_data['Name'].iloc[food_indices]\n",
        "\n",
        "# Example usage\n",
        "ex_food = \"christmas cake\"\n",
        "recommended_food = content_based_recommendation(ex_food)\n",
        "print(f\"Content-Based Recommendations for {ex_food}:\")\n",
        "print(recommended_food)\n"
      ],
      "metadata": {
        "colab": {
          "base_uri": "https://localhost:8080/"
        },
        "id": "JBIifJ5Ih6Je",
        "outputId": "8bf0d4f6-ee1a-4fb8-ec1f-1e32dd8e960b"
      },
      "execution_count": null,
      "outputs": [
        {
          "output_type": "stream",
          "name": "stdout",
          "text": [
            "[(378, 0.26442155224665964), (234, 0.1883071039839689), (393, 0.17890054153954782), (227, 0.17838287654553503), (250, 0.17782542270572885), (64, 0.17119161695288831), (198, 0.16162927688061762), (272, 0.1611563765947765), (233, 0.16069567766867066), (253, 0.1573820626216767)]\n",
            "Content-Based Recommendations for christmas cake:\n",
            "378      Grilled Chicken with Almond and Garlic Sauce\n",
            "234                                  whole wheat cake\n",
            "393    Fig and Sesame Tart with Cardamom Orange Cream\n",
            "227                         chocolate chip cheesecake\n",
            "250                            lemon poppy seed cake \n",
            "64                     almond  white chocolate gujiya\n",
            "198                             lemon poppy seed cake\n",
            "272                           corn & jalapeno poppers\n",
            "233                             cinnamon star cookies\n",
            "253                            orange quinoa sevaiyan\n",
            "Name: Name, dtype: object\n"
          ]
        }
      ]
    },
    {
      "cell_type": "markdown",
      "source": [
        "We can see above that the top recommendations seem to be really close to `christmas cake`."
      ],
      "metadata": {
        "id": "3TGpwb26SK5q"
      }
    },
    {
      "cell_type": "code",
      "source": [
        "# Build Collaborative Filtering Recommender System using Surprise\n",
        "algo = SVD()\n",
        "algo.fit(trainset)\n",
        "\n",
        "# Make predictions\n",
        "predictions = algo.test(testset)\n",
        "\n",
        "# Evaluate the model\n",
        "rmse = accuracy.rmse(predictions)"
      ],
      "metadata": {
        "colab": {
          "base_uri": "https://localhost:8080/"
        },
        "id": "GDgn7QfBh7mL",
        "outputId": "a6e2248e-3cbb-47e5-b88a-04cdd8d9a3c4"
      },
      "execution_count": null,
      "outputs": [
        {
          "output_type": "stream",
          "name": "stdout",
          "text": [
            "RMSE: 2.9824\n"
          ]
        }
      ]
    },
    {
      "cell_type": "code",
      "source": [
        "from surprise.model_selection import cross_validate\n",
        "\n",
        "cv = cross_validate(algo, data, measures=['RMSE', 'MAE'], cv=5, verbose=True)"
      ],
      "metadata": {
        "id": "vJX0QKD065VQ",
        "colab": {
          "base_uri": "https://localhost:8080/"
        },
        "outputId": "3e97a06f-eb0e-4652-bee1-873aba1b6343"
      },
      "execution_count": null,
      "outputs": [
        {
          "output_type": "stream",
          "name": "stdout",
          "text": [
            "Evaluating RMSE, MAE of algorithm SVD on 5 split(s).\n",
            "\n",
            "                  Fold 1  Fold 2  Fold 3  Fold 4  Fold 5  Mean    Std     \n",
            "RMSE (testset)    2.9985  2.9244  2.7960  2.9850  2.8049  2.9018  0.0864  \n",
            "MAE (testset)     2.5731  2.4570  2.2551  2.6533  2.2897  2.4456  0.1550  \n",
            "Fit time          0.01    0.01    0.01    0.01    0.01    0.01    0.00    \n",
            "Test time         0.00    0.00    0.00    0.00    0.00    0.00    0.00    \n"
          ]
        }
      ]
    },
    {
      "cell_type": "markdown",
      "source": [
        "For this model without feature engineering, we get a RMSE of 2.9 and a MAE of 1.45 in average."
      ],
      "metadata": {
        "id": "_qJCh19VSeMk"
      }
    },
    {
      "cell_type": "markdown",
      "source": [
        "## With feature engineering\n",
        "\n",
        "We'd like to perform some feature engineering to benefit of the other features of the dataset. We create a feature named `soup` that is the concatenation of the other features `Describe`, `C_Type` and `Veg_Non`."
      ],
      "metadata": {
        "id": "HS3ZLxZtPJF9"
      }
    },
    {
      "cell_type": "code",
      "source": [
        "def create_soup(x):\n",
        "  return \" \".join([x['Describe'], x['C_Type'], x['Veg_Non']])\n",
        "\n",
        "food_data['soup'] = food_data.apply(create_soup, axis=1)"
      ],
      "metadata": {
        "id": "8_B6QaeMPO-C"
      },
      "execution_count": null,
      "outputs": []
    },
    {
      "cell_type": "code",
      "source": [
        "# Create TF-IDF vectorizer for content-based filtering\n",
        "tfidf_vectorizer = TfidfVectorizer(stop_words='english')\n",
        "tfidf_matrix = tfidf_vectorizer.fit_transform(food_data['soup'])\n",
        "\n",
        "# Compute cosine similarity\n",
        "cosine_sim = linear_kernel(tfidf_matrix, tfidf_matrix)\n",
        "\n",
        "# Function to get recommendations based on content\n",
        "def content_based_recommendation(food_name):\n",
        "    idx = food_data.index[food_data['Name'] == food_name].tolist()[0]\n",
        "    sim_scores = list(enumerate(cosine_sim[idx]))\n",
        "    sim_scores = sorted(sim_scores, key=lambda x: x[1], reverse=True)\n",
        "    sim_scores = sim_scores[1:11]\n",
        "    food_indices = [i[0] for i in sim_scores]\n",
        "    print(sim_scores)\n",
        "    return food_data['Name'].iloc[food_indices]\n",
        "\n",
        "# Example usage\n",
        "ex_food = \"christmas cake\"\n",
        "recommended_food = content_based_recommendation(ex_food)\n",
        "print(f\"Content-Based Recommendations for {ex_food}:\")\n",
        "print(recommended_food)"
      ],
      "metadata": {
        "colab": {
          "base_uri": "https://localhost:8080/"
        },
        "id": "00rdvsuXO3eB",
        "outputId": "f58d958b-515a-441f-8174-d89f0cab3108"
      },
      "execution_count": null,
      "outputs": [
        {
          "output_type": "stream",
          "name": "stdout",
          "text": [
            "[(378, 0.25057225014594453), (393, 0.20085024821815067), (227, 0.1980791009255726), (250, 0.19794935018716803), (233, 0.18437889059768756), (234, 0.18192330919980182), (198, 0.18029768136168772), (231, 0.17549342202115817), (64, 0.16592963636681982), (207, 0.1644196446457626)]\n",
            "Content-Based Recommendations for christmas cake:\n",
            "378      Grilled Chicken with Almond and Garlic Sauce\n",
            "393    Fig and Sesame Tart with Cardamom Orange Cream\n",
            "227                         chocolate chip cheesecake\n",
            "250                            lemon poppy seed cake \n",
            "233                             cinnamon star cookies\n",
            "234                                  whole wheat cake\n",
            "198                             lemon poppy seed cake\n",
            "231                             apple and walnut cake\n",
            "64                     almond  white chocolate gujiya\n",
            "207              fennel scented sweet banana fritters\n",
            "Name: Name, dtype: object\n"
          ]
        }
      ]
    },
    {
      "cell_type": "code",
      "source": [
        "# Build Collaborative Filtering Recommender System using Surprise\n",
        "algo = SVD()\n",
        "algo.fit(trainset)\n",
        "\n",
        "# Make predictions\n",
        "predictions = algo.test(testset)\n",
        "\n",
        "# Evaluate the model\n",
        "rmse = accuracy.rmse(predictions)"
      ],
      "metadata": {
        "colab": {
          "base_uri": "https://localhost:8080/"
        },
        "id": "wA7tVm85PSpa",
        "outputId": "bf385480-f9de-4497-d8a2-5e348171ea4d"
      },
      "execution_count": null,
      "outputs": [
        {
          "output_type": "stream",
          "name": "stdout",
          "text": [
            "RMSE: 2.9896\n"
          ]
        }
      ]
    },
    {
      "cell_type": "code",
      "source": [
        "from surprise.model_selection import cross_validate\n",
        "\n",
        "cv = cross_validate(algo, data, measures=['RMSE', 'MAE'], cv=5, verbose=True)"
      ],
      "metadata": {
        "colab": {
          "base_uri": "https://localhost:8080/"
        },
        "id": "9HDUOX76PVNo",
        "outputId": "0fceb880-87cf-4967-dd3a-d295985e29af"
      },
      "execution_count": null,
      "outputs": [
        {
          "output_type": "stream",
          "name": "stdout",
          "text": [
            "Evaluating RMSE, MAE of algorithm SVD on 5 split(s).\n",
            "\n",
            "                  Fold 1  Fold 2  Fold 3  Fold 4  Fold 5  Mean    Std     \n",
            "RMSE (testset)    3.1550  2.9609  2.7206  2.8513  2.8596  2.9095  0.1446  \n",
            "MAE (testset)     2.7133  2.5881  2.2908  2.3205  2.3438  2.4513  0.1684  \n",
            "Fit time          0.01    0.01    0.01    0.01    0.01    0.01    0.00    \n",
            "Test time         0.00    0.00    0.00    0.00    0.00    0.00    0.00    \n"
          ]
        }
      ]
    },
    {
      "cell_type": "markdown",
      "source": [
        "Again, RMSE and MSE are on average the same as the model without feature engineering.\n",
        "\n",
        "Let's test the GridSearch with cross validations to find the best parameters and obtain a fine-tuned model."
      ],
      "metadata": {
        "id": "ZuLNzVCRS2tb"
      }
    },
    {
      "cell_type": "code",
      "source": [
        "from surprise.model_selection import GridSearchCV\n",
        "\n",
        "param_grid = {\n",
        "  'n_factors': [20, 50, 100, 200, 400, 800, 1000],\n",
        "  'n_epochs': [5, 10, 20, 50, 100, 200]\n",
        "}\n",
        "\n",
        "gs = GridSearchCV(SVD, param_grid, measures=['rmse', 'mae'], cv=10)\n",
        "gs.fit(data)\n",
        "\n",
        "print(gs.best_score['rmse'])\n",
        "print(gs.best_params['rmse'])"
      ],
      "metadata": {
        "colab": {
          "base_uri": "https://localhost:8080/"
        },
        "id": "8jHxoxQePYBC",
        "outputId": "ea194448-ad7f-483e-e776-96b6e4c6039b"
      },
      "execution_count": null,
      "outputs": [
        {
          "output_type": "stream",
          "name": "stdout",
          "text": [
            "2.8945516937673963\n",
            "{'n_factors': 100, 'n_epochs': 5}\n"
          ]
        }
      ]
    },
    {
      "cell_type": "markdown",
      "source": [
        "Best parameters are `n_factors=100` and `n_epochs=10`.\n",
        "\n",
        "Since the best parameters have been found, we can retrain the model using these parameters."
      ],
      "metadata": {
        "id": "TKVxrtcjRHk9"
      }
    },
    {
      "cell_type": "code",
      "source": [
        "# best hyperparameters\n",
        "best_factor = gs.best_params['rmse']['n_factors']\n",
        "best_epoch = gs.best_params['rmse']['n_epochs']\n",
        "\n",
        "# We'll use the famous SVD algorithm.\n",
        "svd = SVD(n_factors=best_factor, n_epochs=best_epoch)\n",
        "\n",
        "# Train the algorithm on the trainset\n",
        "svd.fit(trainset)\n",
        "\n",
        "# Make predictions\n",
        "# predictions = algo.test(testset)\n",
        "\n",
        "# Evaluate the model\n",
        "# rmse = accuracy.rmse(predictions)"
      ],
      "metadata": {
        "colab": {
          "base_uri": "https://localhost:8080/"
        },
        "id": "iNmNWA1GQ8N8",
        "outputId": "7a0bb529-d4e8-48ed-82bd-84ecca10b377"
      },
      "execution_count": null,
      "outputs": [
        {
          "output_type": "stream",
          "name": "stdout",
          "text": [
            "RMSE: 2.7770\n"
          ]
        }
      ]
    },
    {
      "cell_type": "code",
      "source": [
        "cv = cross_validate(svd, data, measures=['RMSE', 'MAE'], cv=5, verbose=True)"
      ],
      "metadata": {
        "colab": {
          "base_uri": "https://localhost:8080/"
        },
        "id": "oRBcnT7CT7VV",
        "outputId": "0b878444-b645-4e16-d488-8bc3e50f1668"
      },
      "execution_count": null,
      "outputs": [
        {
          "output_type": "stream",
          "name": "stdout",
          "text": [
            "Evaluating RMSE, MAE of algorithm SVD on 5 split(s).\n",
            "\n",
            "                  Fold 1  Fold 2  Fold 3  Fold 4  Fold 5  Mean    Std     \n",
            "RMSE (testset)    2.6421  2.8154  2.7724  3.1748  3.0502  2.8910  0.1937  \n",
            "MAE (testset)     2.2039  2.3142  2.3529  2.6864  2.6569  2.4429  0.1933  \n",
            "Fit time          0.00    0.00    0.00    0.00    0.00    0.00    0.00    \n",
            "Test time         0.00    0.00    0.00    0.00    0.00    0.00    0.00    \n"
          ]
        }
      ]
    },
    {
      "cell_type": "markdown",
      "source": [
        "RMSE is not really better with fine-tuning unfortunately (RMSE=2.8910 and MSE=2.4429)"
      ],
      "metadata": {
        "id": "Tk8-zA0JRV20"
      }
    },
    {
      "cell_type": "code",
      "source": [],
      "metadata": {
        "id": "B-YvECUGRQvG"
      },
      "execution_count": null,
      "outputs": []
    }
  ]
}