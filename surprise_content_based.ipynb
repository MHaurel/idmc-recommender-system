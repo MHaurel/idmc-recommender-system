{
 "cells": [
  {
   "cell_type": "markdown",
   "metadata": {
    "id": "A8UzDNsDkk-U"
   },
   "source": [
    "# Advanced content-based & evaluation\n"
   ]
  },
  {
   "cell_type": "markdown",
   "metadata": {
    "id": "UzzYAtwlRfsV"
   },
   "source": [
    "We first install the package `surprise`."
   ]
  },
  {
   "cell_type": "code",
   "execution_count": null,
   "metadata": {
    "colab": {
     "base_uri": "https://localhost:8080/"
    },
    "id": "785Y0U43hm6z",
    "outputId": "2dcc1079-7908-415a-f2c5-ef48673cb2fe"
   },
   "outputs": [
    {
     "name": "stdout",
     "output_type": "stream",
     "text": [
      "Requirement already satisfied: pandas in /usr/local/lib/python3.10/dist-packages (1.5.3)\n",
      "Requirement already satisfied: scikit-surprise in /usr/local/lib/python3.10/dist-packages (1.1.3)\n",
      "Requirement already satisfied: python-dateutil>=2.8.1 in /usr/local/lib/python3.10/dist-packages (from pandas) (2.8.2)\n",
      "Requirement already satisfied: pytz>=2020.1 in /usr/local/lib/python3.10/dist-packages (from pandas) (2023.3.post1)\n",
      "Requirement already satisfied: numpy>=1.21.0 in /usr/local/lib/python3.10/dist-packages (from pandas) (1.23.5)\n",
      "Requirement already satisfied: joblib>=1.0.0 in /usr/local/lib/python3.10/dist-packages (from scikit-surprise) (1.3.2)\n",
      "Requirement already satisfied: scipy>=1.3.2 in /usr/local/lib/python3.10/dist-packages (from scikit-surprise) (1.11.4)\n",
      "Requirement already satisfied: six>=1.5 in /usr/local/lib/python3.10/dist-packages (from python-dateutil>=2.8.1->pandas) (1.16.0)\n"
     ]
    }
   ],
   "source": [
    "!pip install pandas scikit-surprise"
   ]
  },
  {
   "cell_type": "markdown",
   "metadata": {
    "id": "00wmRUTRRjqh"
   },
   "source": [
    "Now, we need to import all the needed libraries and load the data."
   ]
  },
  {
   "cell_type": "code",
   "execution_count": 1,
   "metadata": {
    "id": "95ba5TsPhoSR"
   },
   "outputs": [],
   "source": [
    "import pandas as pd\n",
    "from surprise import Dataset, Reader\n",
    "from surprise.model_selection import train_test_split\n",
    "from surprise import SVD\n",
    "from surprise import accuracy\n",
    "from sklearn.feature_extraction.text import TfidfVectorizer\n",
    "from sklearn.metrics.pairwise import linear_kernel\n",
    "\n",
    "import string\n",
    "\n",
    "# Load data\n",
    "food_data = pd.read_csv('data/food.csv')\n",
    "ratings_data = pd.read_csv('data/ratings.csv')"
   ]
  },
  {
   "cell_type": "code",
   "execution_count": 2,
   "metadata": {
    "colab": {
     "base_uri": "https://localhost:8080/",
     "height": 206
    },
    "id": "ojEOgW_AiWzF",
    "outputId": "a7178fb2-f0cd-400c-c3f3-69ba97843330"
   },
   "outputs": [
    {
     "data": {
      "text/html": [
       "<div>\n",
       "<style scoped>\n",
       "    .dataframe tbody tr th:only-of-type {\n",
       "        vertical-align: middle;\n",
       "    }\n",
       "\n",
       "    .dataframe tbody tr th {\n",
       "        vertical-align: top;\n",
       "    }\n",
       "\n",
       "    .dataframe thead th {\n",
       "        text-align: right;\n",
       "    }\n",
       "</style>\n",
       "<table border=\"1\" class=\"dataframe\">\n",
       "  <thead>\n",
       "    <tr style=\"text-align: right;\">\n",
       "      <th></th>\n",
       "      <th>Food_ID</th>\n",
       "      <th>Name</th>\n",
       "      <th>C_Type</th>\n",
       "      <th>Veg_Non</th>\n",
       "      <th>Describe</th>\n",
       "    </tr>\n",
       "  </thead>\n",
       "  <tbody>\n",
       "    <tr>\n",
       "      <th>0</th>\n",
       "      <td>1</td>\n",
       "      <td>summer squash salad</td>\n",
       "      <td>Healthy Food</td>\n",
       "      <td>veg</td>\n",
       "      <td>white balsamic vinegar, lemon juice, lemon rin...</td>\n",
       "    </tr>\n",
       "    <tr>\n",
       "      <th>1</th>\n",
       "      <td>2</td>\n",
       "      <td>chicken minced salad</td>\n",
       "      <td>Healthy Food</td>\n",
       "      <td>non-veg</td>\n",
       "      <td>olive oil, chicken mince, garlic (minced), oni...</td>\n",
       "    </tr>\n",
       "    <tr>\n",
       "      <th>2</th>\n",
       "      <td>3</td>\n",
       "      <td>sweet chilli almonds</td>\n",
       "      <td>Snack</td>\n",
       "      <td>veg</td>\n",
       "      <td>almonds whole, egg white, curry leaves, salt, ...</td>\n",
       "    </tr>\n",
       "    <tr>\n",
       "      <th>3</th>\n",
       "      <td>4</td>\n",
       "      <td>tricolour salad</td>\n",
       "      <td>Healthy Food</td>\n",
       "      <td>veg</td>\n",
       "      <td>vinegar, honey/sugar, soy sauce, salt, garlic ...</td>\n",
       "    </tr>\n",
       "    <tr>\n",
       "      <th>4</th>\n",
       "      <td>5</td>\n",
       "      <td>christmas cake</td>\n",
       "      <td>Dessert</td>\n",
       "      <td>veg</td>\n",
       "      <td>christmas dry fruits (pre-soaked), orange zest...</td>\n",
       "    </tr>\n",
       "  </tbody>\n",
       "</table>\n",
       "</div>"
      ],
      "text/plain": [
       "   Food_ID                  Name        C_Type  Veg_Non  \\\n",
       "0        1   summer squash salad  Healthy Food      veg   \n",
       "1        2  chicken minced salad  Healthy Food  non-veg   \n",
       "2        3  sweet chilli almonds         Snack      veg   \n",
       "3        4       tricolour salad  Healthy Food      veg   \n",
       "4        5        christmas cake       Dessert      veg   \n",
       "\n",
       "                                            Describe  \n",
       "0  white balsamic vinegar, lemon juice, lemon rin...  \n",
       "1  olive oil, chicken mince, garlic (minced), oni...  \n",
       "2  almonds whole, egg white, curry leaves, salt, ...  \n",
       "3  vinegar, honey/sugar, soy sauce, salt, garlic ...  \n",
       "4  christmas dry fruits (pre-soaked), orange zest...  "
      ]
     },
     "execution_count": 2,
     "metadata": {},
     "output_type": "execute_result"
    }
   ],
   "source": [
    "food_data.head()"
   ]
  },
  {
   "cell_type": "markdown",
   "metadata": {
    "id": "wwL1uGTKRnd_"
   },
   "source": [
    "We define a simple function that will clean the description of our meals."
   ]
  },
  {
   "cell_type": "code",
   "execution_count": 3,
   "metadata": {
    "id": "ZE27ZZytPpy-"
   },
   "outputs": [],
   "source": [
    "def text_cleaning(text):\n",
    "    text = \"\".join([char for char in text if char not in string.punctuation])\n",
    "    return text"
   ]
  },
  {
   "cell_type": "code",
   "execution_count": 4,
   "metadata": {
    "id": "35OYHFlUPquF"
   },
   "outputs": [],
   "source": [
    "food_data['Describe'] = food_data['Describe'].apply(text_cleaning)"
   ]
  },
  {
   "cell_type": "markdown",
   "metadata": {
    "id": "cubzfID8RtRN"
   },
   "source": [
    "We merge both datasets to get a complete dataset including ratings AND users."
   ]
  },
  {
   "cell_type": "code",
   "execution_count": 5,
   "metadata": {
    "id": "_ZvlMPdth20h"
   },
   "outputs": [],
   "source": [
    "# Merge data\n",
    "merged_data = pd.merge(ratings_data, food_data, on='Food_ID')\n",
    "\n",
    "# Define a Reader\n",
    "reader = Reader(rating_scale=(1, 10))\n",
    "\n",
    "# Create Surprise Dataset\n",
    "data = Dataset.load_from_df(merged_data[['User_ID', 'Food_ID', 'Rating']], reader)\n",
    "\n",
    "# Train-test split\n",
    "trainset, testset = train_test_split(data, test_size=0.2, random_state=42)"
   ]
  },
  {
   "cell_type": "code",
   "execution_count": 6,
   "metadata": {
    "colab": {
     "base_uri": "https://localhost:8080/",
     "height": 206
    },
    "id": "UUIcfvctjzPz",
    "outputId": "807454b0-a2a6-4a96-c8b8-03473d250633"
   },
   "outputs": [
    {
     "data": {
      "text/html": [
       "<div>\n",
       "<style scoped>\n",
       "    .dataframe tbody tr th:only-of-type {\n",
       "        vertical-align: middle;\n",
       "    }\n",
       "\n",
       "    .dataframe tbody tr th {\n",
       "        vertical-align: top;\n",
       "    }\n",
       "\n",
       "    .dataframe thead th {\n",
       "        text-align: right;\n",
       "    }\n",
       "</style>\n",
       "<table border=\"1\" class=\"dataframe\">\n",
       "  <thead>\n",
       "    <tr style=\"text-align: right;\">\n",
       "      <th></th>\n",
       "      <th>User_ID</th>\n",
       "      <th>Food_ID</th>\n",
       "      <th>Rating</th>\n",
       "      <th>Name</th>\n",
       "      <th>C_Type</th>\n",
       "      <th>Veg_Non</th>\n",
       "      <th>Describe</th>\n",
       "    </tr>\n",
       "  </thead>\n",
       "  <tbody>\n",
       "    <tr>\n",
       "      <th>0</th>\n",
       "      <td>1.0</td>\n",
       "      <td>88.0</td>\n",
       "      <td>4.0</td>\n",
       "      <td>peri peri chicken satay</td>\n",
       "      <td>Snack</td>\n",
       "      <td>non-veg</td>\n",
       "      <td>boneless skinless chicken thigh trimmed salt a...</td>\n",
       "    </tr>\n",
       "    <tr>\n",
       "      <th>1</th>\n",
       "      <td>1.0</td>\n",
       "      <td>46.0</td>\n",
       "      <td>3.0</td>\n",
       "      <td>steam bunny chicken bao</td>\n",
       "      <td>Japanese</td>\n",
       "      <td>non-veg</td>\n",
       "      <td>buns all purpose white flour dry yeast sugar s...</td>\n",
       "    </tr>\n",
       "    <tr>\n",
       "      <th>2</th>\n",
       "      <td>3.0</td>\n",
       "      <td>46.0</td>\n",
       "      <td>2.0</td>\n",
       "      <td>steam bunny chicken bao</td>\n",
       "      <td>Japanese</td>\n",
       "      <td>non-veg</td>\n",
       "      <td>buns all purpose white flour dry yeast sugar s...</td>\n",
       "    </tr>\n",
       "    <tr>\n",
       "      <th>3</th>\n",
       "      <td>20.0</td>\n",
       "      <td>46.0</td>\n",
       "      <td>6.0</td>\n",
       "      <td>steam bunny chicken bao</td>\n",
       "      <td>Japanese</td>\n",
       "      <td>non-veg</td>\n",
       "      <td>buns all purpose white flour dry yeast sugar s...</td>\n",
       "    </tr>\n",
       "    <tr>\n",
       "      <th>4</th>\n",
       "      <td>69.0</td>\n",
       "      <td>46.0</td>\n",
       "      <td>9.0</td>\n",
       "      <td>steam bunny chicken bao</td>\n",
       "      <td>Japanese</td>\n",
       "      <td>non-veg</td>\n",
       "      <td>buns all purpose white flour dry yeast sugar s...</td>\n",
       "    </tr>\n",
       "  </tbody>\n",
       "</table>\n",
       "</div>"
      ],
      "text/plain": [
       "   User_ID  Food_ID  Rating                     Name    C_Type  Veg_Non  \\\n",
       "0      1.0     88.0     4.0  peri peri chicken satay     Snack  non-veg   \n",
       "1      1.0     46.0     3.0  steam bunny chicken bao  Japanese  non-veg   \n",
       "2      3.0     46.0     2.0  steam bunny chicken bao  Japanese  non-veg   \n",
       "3     20.0     46.0     6.0  steam bunny chicken bao  Japanese  non-veg   \n",
       "4     69.0     46.0     9.0  steam bunny chicken bao  Japanese  non-veg   \n",
       "\n",
       "                                            Describe  \n",
       "0  boneless skinless chicken thigh trimmed salt a...  \n",
       "1  buns all purpose white flour dry yeast sugar s...  \n",
       "2  buns all purpose white flour dry yeast sugar s...  \n",
       "3  buns all purpose white flour dry yeast sugar s...  \n",
       "4  buns all purpose white flour dry yeast sugar s...  "
      ]
     },
     "execution_count": 6,
     "metadata": {},
     "output_type": "execute_result"
    }
   ],
   "source": [
    "merged_data.head()"
   ]
  },
  {
   "cell_type": "markdown",
   "metadata": {
    "id": "W5TffY-cR2-b"
   },
   "source": [
    "In the cell below, we define the TF-IDF Vectorizer to compute TF-IDF features for all the elements of our datasets.\n",
    "\n",
    "We also define the function that gets $n$ recommendations from a food's name."
   ]
  },
  {
   "cell_type": "code",
   "execution_count": 7,
   "metadata": {
    "colab": {
     "base_uri": "https://localhost:8080/"
    },
    "id": "JBIifJ5Ih6Je",
    "outputId": "8bf0d4f6-ee1a-4fb8-ec1f-1e32dd8e960b"
   },
   "outputs": [
    {
     "name": "stdout",
     "output_type": "stream",
     "text": [
      "[(378, 0.26442155224665964), (234, 0.1883071039839689), (393, 0.17890054153954782), (227, 0.17838287654553503), (250, 0.17782542270572887), (64, 0.17119161695288831), (198, 0.16162927688061762), (272, 0.1611563765947765), (233, 0.16069567766867066), (253, 0.1573820626216767)]\n",
      "Content-Based Recommendations for christmas cake:\n",
      "378      Grilled Chicken with Almond and Garlic Sauce\n",
      "234                                  whole wheat cake\n",
      "393    Fig and Sesame Tart with Cardamom Orange Cream\n",
      "227                         chocolate chip cheesecake\n",
      "250                            lemon poppy seed cake \n",
      "64                     almond  white chocolate gujiya\n",
      "198                             lemon poppy seed cake\n",
      "272                           corn & jalapeno poppers\n",
      "233                             cinnamon star cookies\n",
      "253                            orange quinoa sevaiyan\n",
      "Name: Name, dtype: object\n"
     ]
    }
   ],
   "source": [
    "# Create TF-IDF vectorizer for content-based filtering\n",
    "tfidf_vectorizer = TfidfVectorizer(stop_words='english')\n",
    "tfidf_matrix = tfidf_vectorizer.fit_transform(food_data['Describe'])\n",
    "\n",
    "# Compute cosine similarity\n",
    "cosine_sim = linear_kernel(tfidf_matrix, tfidf_matrix)\n",
    "\n",
    "# Function to get recommendations based on content\n",
    "def content_based_recommendation(food_name):\n",
    "    idx = food_data.index[food_data['Name'] == food_name].tolist()[0]\n",
    "    sim_scores = list(enumerate(cosine_sim[idx]))\n",
    "    sim_scores = sorted(sim_scores, key=lambda x: x[1], reverse=True)\n",
    "    sim_scores = sim_scores[1:11]\n",
    "    food_indices = [i[0] for i in sim_scores]\n",
    "    print(sim_scores)\n",
    "    return food_data['Name'].iloc[food_indices]\n",
    "\n",
    "# Example usage\n",
    "ex_food = \"christmas cake\"\n",
    "recommended_food = content_based_recommendation(ex_food)\n",
    "print(f\"Content-Based Recommendations for {ex_food}:\")\n",
    "print(recommended_food)\n"
   ]
  },
  {
   "cell_type": "markdown",
   "metadata": {
    "id": "3TGpwb26SK5q"
   },
   "source": [
    "We can see above that the top recommendations seem to be really close to `christmas cake`."
   ]
  },
  {
   "cell_type": "code",
   "execution_count": 8,
   "metadata": {
    "colab": {
     "base_uri": "https://localhost:8080/"
    },
    "id": "GDgn7QfBh7mL",
    "outputId": "a6e2248e-3cbb-47e5-b88a-04cdd8d9a3c4"
   },
   "outputs": [
    {
     "name": "stdout",
     "output_type": "stream",
     "text": [
      "RMSE: 2.9050\n"
     ]
    }
   ],
   "source": [
    "# Build Collaborative Filtering Recommender System using Surprise\n",
    "algo = SVD()\n",
    "algo.fit(trainset)\n",
    "\n",
    "# Make predictions\n",
    "predictions = algo.test(testset)\n",
    "\n",
    "# Evaluate the model\n",
    "rmse = accuracy.rmse(predictions)"
   ]
  },
  {
   "cell_type": "code",
   "execution_count": 9,
   "metadata": {
    "colab": {
     "base_uri": "https://localhost:8080/"
    },
    "id": "vJX0QKD065VQ",
    "outputId": "3e97a06f-eb0e-4652-bee1-873aba1b6343"
   },
   "outputs": [
    {
     "name": "stdout",
     "output_type": "stream",
     "text": [
      "Evaluating RMSE, MAE of algorithm SVD on 5 split(s).\n",
      "\n",
      "                  Fold 1  Fold 2  Fold 3  Fold 4  Fold 5  Mean    Std     \n",
      "RMSE (testset)    2.9655  2.9619  2.5473  2.9390  2.9917  2.8811  0.1677  \n",
      "MAE (testset)     2.5330  2.5630  2.1157  2.5624  2.6088  2.4766  0.1821  \n",
      "Fit time          0.00    0.00    0.00    0.00    0.00    0.00    0.00    \n",
      "Test time         0.00    0.00    0.00    0.00    0.00    0.00    0.00    \n"
     ]
    }
   ],
   "source": [
    "from surprise.model_selection import cross_validate\n",
    "\n",
    "cv = cross_validate(algo, data, measures=['RMSE', 'MAE'], cv=5, verbose=True)"
   ]
  },
  {
   "cell_type": "markdown",
   "metadata": {
    "id": "_qJCh19VSeMk"
   },
   "source": [
    "For this model without feature engineering, we get a RMSE of 2.9 and a MAE of 2.48 in average."
   ]
  },
  {
   "cell_type": "markdown",
   "metadata": {
    "id": "HS3ZLxZtPJF9"
   },
   "source": [
    "## With feature engineering\n",
    "\n",
    "We'd like to perform some feature engineering to benefit of the other features of the dataset. We create a feature named `soup` that is the concatenation of the other features `Describe`, `C_Type` and `Veg_Non`."
   ]
  },
  {
   "cell_type": "code",
   "execution_count": 10,
   "metadata": {
    "id": "8_B6QaeMPO-C"
   },
   "outputs": [],
   "source": [
    "def create_soup(x):\n",
    "  return \" \".join([x['Describe'], x['C_Type'], x['Veg_Non']])\n",
    "\n",
    "food_data['soup'] = food_data.apply(create_soup, axis=1)"
   ]
  },
  {
   "cell_type": "code",
   "execution_count": 11,
   "metadata": {
    "colab": {
     "base_uri": "https://localhost:8080/"
    },
    "id": "00rdvsuXO3eB",
    "outputId": "f58d958b-515a-441f-8174-d89f0cab3108"
   },
   "outputs": [
    {
     "name": "stdout",
     "output_type": "stream",
     "text": [
      "[(378, 0.25057225014594453), (393, 0.20085024821815067), (227, 0.1980791009255726), (250, 0.197949350187168), (233, 0.18437889059768756), (234, 0.18192330919980182), (198, 0.18029768136168772), (231, 0.17549342202115817), (64, 0.16592963636681982), (207, 0.1644196446457626)]\n",
      "Content-Based Recommendations for christmas cake:\n",
      "378      Grilled Chicken with Almond and Garlic Sauce\n",
      "393    Fig and Sesame Tart with Cardamom Orange Cream\n",
      "227                         chocolate chip cheesecake\n",
      "250                            lemon poppy seed cake \n",
      "233                             cinnamon star cookies\n",
      "234                                  whole wheat cake\n",
      "198                             lemon poppy seed cake\n",
      "231                             apple and walnut cake\n",
      "64                     almond  white chocolate gujiya\n",
      "207              fennel scented sweet banana fritters\n",
      "Name: Name, dtype: object\n"
     ]
    }
   ],
   "source": [
    "# Create TF-IDF vectorizer for content-based filtering\n",
    "tfidf_vectorizer = TfidfVectorizer(stop_words='english')\n",
    "tfidf_matrix = tfidf_vectorizer.fit_transform(food_data['soup'])\n",
    "\n",
    "# Compute cosine similarity\n",
    "cosine_sim = linear_kernel(tfidf_matrix, tfidf_matrix)\n",
    "\n",
    "# Function to get recommendations based on content\n",
    "def content_based_recommendation(food_name):\n",
    "    idx = food_data.index[food_data['Name'] == food_name].tolist()[0]\n",
    "    sim_scores = list(enumerate(cosine_sim[idx]))\n",
    "    sim_scores = sorted(sim_scores, key=lambda x: x[1], reverse=True)\n",
    "    sim_scores = sim_scores[1:11]\n",
    "    food_indices = [i[0] for i in sim_scores]\n",
    "    print(sim_scores)\n",
    "    return food_data['Name'].iloc[food_indices]\n",
    "\n",
    "# Example usage\n",
    "ex_food = \"christmas cake\"\n",
    "recommended_food = content_based_recommendation(ex_food)\n",
    "print(f\"Content-Based Recommendations for {ex_food}:\")\n",
    "print(recommended_food)"
   ]
  },
  {
   "cell_type": "code",
   "execution_count": 12,
   "metadata": {
    "colab": {
     "base_uri": "https://localhost:8080/"
    },
    "id": "wA7tVm85PSpa",
    "outputId": "bf385480-f9de-4497-d8a2-5e348171ea4d"
   },
   "outputs": [
    {
     "name": "stdout",
     "output_type": "stream",
     "text": [
      "RMSE: 2.9128\n"
     ]
    }
   ],
   "source": [
    "# Build Collaborative Filtering Recommender System using Surprise\n",
    "algo = SVD()\n",
    "algo.fit(trainset)\n",
    "\n",
    "# Make predictions\n",
    "predictions = algo.test(testset)\n",
    "\n",
    "# Evaluate the model\n",
    "rmse = accuracy.rmse(predictions)"
   ]
  },
  {
   "cell_type": "code",
   "execution_count": 13,
   "metadata": {
    "colab": {
     "base_uri": "https://localhost:8080/"
    },
    "id": "9HDUOX76PVNo",
    "outputId": "0fceb880-87cf-4967-dd3a-d295985e29af"
   },
   "outputs": [
    {
     "name": "stdout",
     "output_type": "stream",
     "text": [
      "Evaluating RMSE, MAE of algorithm SVD on 5 split(s).\n",
      "\n",
      "                  Fold 1  Fold 2  Fold 3  Fold 4  Fold 5  Mean    Std     \n",
      "RMSE (testset)    2.8882  2.9285  2.8852  2.8200  2.9807  2.9005  0.0531  \n",
      "MAE (testset)     2.4733  2.5235  2.4633  2.3778  2.6033  2.4882  0.0742  \n",
      "Fit time          0.00    0.00    0.00    0.00    0.00    0.00    0.00    \n",
      "Test time         0.00    0.00    0.00    0.00    0.00    0.00    0.00    \n"
     ]
    }
   ],
   "source": [
    "from surprise.model_selection import cross_validate\n",
    "\n",
    "cv = cross_validate(algo, data, measures=['RMSE', 'MAE'], cv=5, verbose=True)"
   ]
  },
  {
   "cell_type": "markdown",
   "metadata": {
    "id": "ZuLNzVCRS2tb"
   },
   "source": [
    "Again, RMSE and MSE are on average the same as the model without feature engineering.\n",
    "\n",
    "Let's test the GridSearch with cross validations to find the best parameters and obtain a fine-tuned model."
   ]
  },
  {
   "cell_type": "code",
   "execution_count": 14,
   "metadata": {
    "colab": {
     "base_uri": "https://localhost:8080/"
    },
    "id": "8jHxoxQePYBC",
    "outputId": "ea194448-ad7f-483e-e776-96b6e4c6039b"
   },
   "outputs": [
    {
     "name": "stdout",
     "output_type": "stream",
     "text": [
      "2.8661072260812035\n",
      "{'n_factors': 20, 'n_epochs': 5}\n"
     ]
    }
   ],
   "source": [
    "from surprise.model_selection import GridSearchCV\n",
    "\n",
    "param_grid = {\n",
    "  'n_factors': [20, 50, 100, 200, 400, 800, 1000],\n",
    "  'n_epochs': [5, 10, 20, 50, 100, 200]\n",
    "}\n",
    "\n",
    "gs = GridSearchCV(SVD, param_grid, measures=['rmse', 'mae'], cv=10)\n",
    "gs.fit(data)\n",
    "\n",
    "print(gs.best_score['rmse'])\n",
    "print(gs.best_params['rmse'])"
   ]
  },
  {
   "cell_type": "markdown",
   "metadata": {
    "id": "TKVxrtcjRHk9"
   },
   "source": [
    "Best parameters are `n_factors=20` and `n_epochs=5`.\n",
    "\n",
    "Since the best parameters have been found, we can retrain the model using these parameters."
   ]
  },
  {
   "cell_type": "code",
   "execution_count": 15,
   "metadata": {
    "colab": {
     "base_uri": "https://localhost:8080/"
    },
    "id": "iNmNWA1GQ8N8",
    "outputId": "7a0bb529-d4e8-48ed-82bd-84ecca10b377"
   },
   "outputs": [
    {
     "data": {
      "text/plain": [
       "<surprise.prediction_algorithms.matrix_factorization.SVD at 0x7f581d16b100>"
      ]
     },
     "execution_count": 15,
     "metadata": {},
     "output_type": "execute_result"
    }
   ],
   "source": [
    "# best hyperparameters\n",
    "best_factor = gs.best_params['rmse']['n_factors']\n",
    "best_epoch = gs.best_params['rmse']['n_epochs']\n",
    "\n",
    "# We'll use the famous SVD algorithm.\n",
    "svd = SVD(n_factors=best_factor, n_epochs=best_epoch)\n",
    "\n",
    "# Train the algorithm on the trainset\n",
    "svd.fit(trainset)\n",
    "\n",
    "# Make predictions\n",
    "# predictions = algo.test(testset)\n",
    "\n",
    "# Evaluate the model\n",
    "# rmse = accuracy.rmse(predictions)"
   ]
  },
  {
   "cell_type": "code",
   "execution_count": 16,
   "metadata": {
    "colab": {
     "base_uri": "https://localhost:8080/"
    },
    "id": "oRBcnT7CT7VV",
    "outputId": "0b878444-b645-4e16-d488-8bc3e50f1668"
   },
   "outputs": [
    {
     "name": "stdout",
     "output_type": "stream",
     "text": [
      "Evaluating RMSE, MAE of algorithm SVD on 5 split(s).\n",
      "\n",
      "                  Fold 1  Fold 2  Fold 3  Fold 4  Fold 5  Mean    Std     \n",
      "RMSE (testset)    2.8361  2.8637  2.8389  3.1065  2.7089  2.8708  0.1296  \n",
      "MAE (testset)     2.4833  2.4113  2.4560  2.7519  2.2823  2.4770  0.1538  \n",
      "Fit time          0.00    0.00    0.00    0.00    0.00    0.00    0.00    \n",
      "Test time         0.00    0.00    0.00    0.00    0.00    0.00    0.00    \n"
     ]
    }
   ],
   "source": [
    "cv = cross_validate(svd, data, measures=['RMSE', 'MAE'], cv=5, verbose=True)"
   ]
  },
  {
   "cell_type": "markdown",
   "metadata": {
    "id": "Tk8-zA0JRV20"
   },
   "source": [
    "RMSE is not really better with fine-tuning unfortunately (RMSE=2.8910 and MSE=2.4429)"
   ]
  }
 ],
 "metadata": {
  "colab": {
   "provenance": []
  },
  "kernelspec": {
   "display_name": "Python 3 (ipykernel)",
   "language": "python",
   "name": "python3"
  },
  "language_info": {
   "codemirror_mode": {
    "name": "ipython",
    "version": 3
   },
   "file_extension": ".py",
   "mimetype": "text/x-python",
   "name": "python",
   "nbconvert_exporter": "python",
   "pygments_lexer": "ipython3",
   "version": "3.9.18"
  }
 },
 "nbformat": 4,
 "nbformat_minor": 4
}
