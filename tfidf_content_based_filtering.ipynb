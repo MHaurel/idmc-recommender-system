{
 "cells": [
  {
   "cell_type": "markdown",
   "id": "b8a96d50-bedc-432c-b7c3-6a2b7a6a7fdf",
   "metadata": {},
   "source": [
    "# TF-IDF Content Based Filtering"
   ]
  },
  {
   "cell_type": "code",
   "execution_count": 1,
   "id": "210bb389-0849-4e6c-8fc9-d94a17cf2312",
   "metadata": {},
   "outputs": [],
   "source": [
    "import pandas as pd\n",
    "import numpy as np\n",
    "\n",
    "from sklearn import preprocessing\n",
    "\n",
    "import matplotlib.pyplot as plt\n",
    "import seaborn as sns\n",
    "sns.set()\n",
    "\n",
    "from sklearn.feature_extraction.text import TfidfVectorizer\n",
    "from sklearn.metrics.pairwise import linear_kernel\n",
    "from sklearn.feature_extraction.text import CountVectorizer\n",
    "from sklearn.metrics.pairwise import cosine_similarity\n",
    "\n",
    "import re\n",
    "import string"
   ]
  },
  {
   "cell_type": "markdown",
   "id": "c45c2ca8-89b2-425f-a9d6-070ce5ed1d28",
   "metadata": {},
   "source": [
    "## Importing Data"
   ]
  },
  {
   "cell_type": "code",
   "execution_count": 2,
   "id": "6381124c-486b-4140-9397-4ca1fb311e31",
   "metadata": {},
   "outputs": [
    {
     "data": {
      "text/html": [
       "<div>\n",
       "<style scoped>\n",
       "    .dataframe tbody tr th:only-of-type {\n",
       "        vertical-align: middle;\n",
       "    }\n",
       "\n",
       "    .dataframe tbody tr th {\n",
       "        vertical-align: top;\n",
       "    }\n",
       "\n",
       "    .dataframe thead th {\n",
       "        text-align: right;\n",
       "    }\n",
       "</style>\n",
       "<table border=\"1\" class=\"dataframe\">\n",
       "  <thead>\n",
       "    <tr style=\"text-align: right;\">\n",
       "      <th></th>\n",
       "      <th>Food_ID</th>\n",
       "      <th>Name</th>\n",
       "      <th>C_Type</th>\n",
       "      <th>Veg_Non</th>\n",
       "      <th>Describe</th>\n",
       "    </tr>\n",
       "  </thead>\n",
       "  <tbody>\n",
       "    <tr>\n",
       "      <th>0</th>\n",
       "      <td>1</td>\n",
       "      <td>summer squash salad</td>\n",
       "      <td>Healthy Food</td>\n",
       "      <td>veg</td>\n",
       "      <td>white balsamic vinegar, lemon juice, lemon rin...</td>\n",
       "    </tr>\n",
       "    <tr>\n",
       "      <th>1</th>\n",
       "      <td>2</td>\n",
       "      <td>chicken minced salad</td>\n",
       "      <td>Healthy Food</td>\n",
       "      <td>non-veg</td>\n",
       "      <td>olive oil, chicken mince, garlic (minced), oni...</td>\n",
       "    </tr>\n",
       "    <tr>\n",
       "      <th>2</th>\n",
       "      <td>3</td>\n",
       "      <td>sweet chilli almonds</td>\n",
       "      <td>Snack</td>\n",
       "      <td>veg</td>\n",
       "      <td>almonds whole, egg white, curry leaves, salt, ...</td>\n",
       "    </tr>\n",
       "    <tr>\n",
       "      <th>3</th>\n",
       "      <td>4</td>\n",
       "      <td>tricolour salad</td>\n",
       "      <td>Healthy Food</td>\n",
       "      <td>veg</td>\n",
       "      <td>vinegar, honey/sugar, soy sauce, salt, garlic ...</td>\n",
       "    </tr>\n",
       "    <tr>\n",
       "      <th>4</th>\n",
       "      <td>5</td>\n",
       "      <td>christmas cake</td>\n",
       "      <td>Dessert</td>\n",
       "      <td>veg</td>\n",
       "      <td>christmas dry fruits (pre-soaked), orange zest...</td>\n",
       "    </tr>\n",
       "  </tbody>\n",
       "</table>\n",
       "</div>"
      ],
      "text/plain": [
       "   Food_ID                  Name        C_Type  Veg_Non  \\\n",
       "0        1   summer squash salad  Healthy Food      veg   \n",
       "1        2  chicken minced salad  Healthy Food  non-veg   \n",
       "2        3  sweet chilli almonds         Snack      veg   \n",
       "3        4       tricolour salad  Healthy Food      veg   \n",
       "4        5        christmas cake       Dessert      veg   \n",
       "\n",
       "                                            Describe  \n",
       "0  white balsamic vinegar, lemon juice, lemon rin...  \n",
       "1  olive oil, chicken mince, garlic (minced), oni...  \n",
       "2  almonds whole, egg white, curry leaves, salt, ...  \n",
       "3  vinegar, honey/sugar, soy sauce, salt, garlic ...  \n",
       "4  christmas dry fruits (pre-soaked), orange zest...  "
      ]
     },
     "execution_count": 2,
     "metadata": {},
     "output_type": "execute_result"
    }
   ],
   "source": [
    "df = pd.read_csv('data/food.csv')\n",
    "df.head()"
   ]
  },
  {
   "cell_type": "code",
   "execution_count": 3,
   "id": "b7a67427-5473-4a4e-a0e2-64958e4d178d",
   "metadata": {},
   "outputs": [
    {
     "data": {
      "text/plain": [
       "400"
      ]
     },
     "execution_count": 3,
     "metadata": {},
     "output_type": "execute_result"
    }
   ],
   "source": [
    "len(list(df['Name'].unique()))"
   ]
  },
  {
   "cell_type": "code",
   "execution_count": 4,
   "id": "f71c74f8-a915-42d7-89b0-e03f6d830ad0",
   "metadata": {},
   "outputs": [
    {
     "data": {
      "text/plain": [
       "array(['Healthy Food', 'Snack', 'Dessert', 'Japanese', 'Indian', 'French',\n",
       "       'Mexican', 'Italian', 'Chinese', 'Beverage', 'Thai', 'Korean',\n",
       "       ' Korean', 'Vietnames', 'Nepalese', 'Spanish'], dtype=object)"
      ]
     },
     "execution_count": 4,
     "metadata": {},
     "output_type": "execute_result"
    }
   ],
   "source": [
    "df['C_Type'].unique()"
   ]
  },
  {
   "cell_type": "code",
   "execution_count": 5,
   "id": "45092130-3151-4598-80fe-c4ca9a8b0800",
   "metadata": {},
   "outputs": [
    {
     "data": {
      "text/plain": [
       "array(['veg', 'non-veg'], dtype=object)"
      ]
     },
     "execution_count": 5,
     "metadata": {},
     "output_type": "execute_result"
    }
   ],
   "source": [
    "df['Veg_Non'].unique()"
   ]
  },
  {
   "cell_type": "code",
   "execution_count": 6,
   "id": "e6a88155-b06e-48e8-ad01-c2b62c533cca",
   "metadata": {},
   "outputs": [
    {
     "data": {
      "text/plain": [
       "400"
      ]
     },
     "execution_count": 6,
     "metadata": {},
     "output_type": "execute_result"
    }
   ],
   "source": [
    "len(df)"
   ]
  },
  {
   "cell_type": "code",
   "execution_count": 7,
   "id": "82134879-ca5e-4643-8d4b-bdab6c01cd06",
   "metadata": {},
   "outputs": [
    {
     "name": "stdout",
     "output_type": "stream",
     "text": [
      "<class 'pandas.core.frame.DataFrame'>\n",
      "RangeIndex: 400 entries, 0 to 399\n",
      "Data columns (total 5 columns):\n",
      " #   Column    Non-Null Count  Dtype \n",
      "---  ------    --------------  ----- \n",
      " 0   Food_ID   400 non-null    int64 \n",
      " 1   Name      400 non-null    object\n",
      " 2   C_Type    400 non-null    object\n",
      " 3   Veg_Non   400 non-null    object\n",
      " 4   Describe  400 non-null    object\n",
      "dtypes: int64(1), object(4)\n",
      "memory usage: 15.8+ KB\n"
     ]
    }
   ],
   "source": [
    "df.info()"
   ]
  },
  {
   "cell_type": "code",
   "execution_count": 8,
   "id": "0737b0e7-4f65-4806-8f72-22b304f0aaf0",
   "metadata": {},
   "outputs": [],
   "source": [
    "# Let's make a function to remove all the punctuation from the \"Describe\" column\n",
    "def text_cleaning(text):\n",
    "    text = \"\".join([char for char in text if char not in string.punctuation])\n",
    "    return text"
   ]
  },
  {
   "cell_type": "code",
   "execution_count": 9,
   "id": "6caf4c15-867e-4005-87b0-d979e62d36a6",
   "metadata": {},
   "outputs": [],
   "source": [
    "df['Describe'] = df['Describe'].apply(text_cleaning)"
   ]
  },
  {
   "cell_type": "code",
   "execution_count": 10,
   "id": "7b223430-7a35-4aca-9236-d8152d958d9f",
   "metadata": {},
   "outputs": [
    {
     "data": {
      "text/html": [
       "<div>\n",
       "<style scoped>\n",
       "    .dataframe tbody tr th:only-of-type {\n",
       "        vertical-align: middle;\n",
       "    }\n",
       "\n",
       "    .dataframe tbody tr th {\n",
       "        vertical-align: top;\n",
       "    }\n",
       "\n",
       "    .dataframe thead th {\n",
       "        text-align: right;\n",
       "    }\n",
       "</style>\n",
       "<table border=\"1\" class=\"dataframe\">\n",
       "  <thead>\n",
       "    <tr style=\"text-align: right;\">\n",
       "      <th></th>\n",
       "      <th>Food_ID</th>\n",
       "      <th>Name</th>\n",
       "      <th>C_Type</th>\n",
       "      <th>Veg_Non</th>\n",
       "      <th>Describe</th>\n",
       "    </tr>\n",
       "  </thead>\n",
       "  <tbody>\n",
       "    <tr>\n",
       "      <th>0</th>\n",
       "      <td>1</td>\n",
       "      <td>summer squash salad</td>\n",
       "      <td>Healthy Food</td>\n",
       "      <td>veg</td>\n",
       "      <td>white balsamic vinegar lemon juice lemon rind ...</td>\n",
       "    </tr>\n",
       "    <tr>\n",
       "      <th>1</th>\n",
       "      <td>2</td>\n",
       "      <td>chicken minced salad</td>\n",
       "      <td>Healthy Food</td>\n",
       "      <td>non-veg</td>\n",
       "      <td>olive oil chicken mince garlic minced onion sa...</td>\n",
       "    </tr>\n",
       "    <tr>\n",
       "      <th>2</th>\n",
       "      <td>3</td>\n",
       "      <td>sweet chilli almonds</td>\n",
       "      <td>Snack</td>\n",
       "      <td>veg</td>\n",
       "      <td>almonds whole egg white curry leaves salt suga...</td>\n",
       "    </tr>\n",
       "    <tr>\n",
       "      <th>3</th>\n",
       "      <td>4</td>\n",
       "      <td>tricolour salad</td>\n",
       "      <td>Healthy Food</td>\n",
       "      <td>veg</td>\n",
       "      <td>vinegar honeysugar soy sauce salt garlic clove...</td>\n",
       "    </tr>\n",
       "    <tr>\n",
       "      <th>4</th>\n",
       "      <td>5</td>\n",
       "      <td>christmas cake</td>\n",
       "      <td>Dessert</td>\n",
       "      <td>veg</td>\n",
       "      <td>christmas dry fruits presoaked orange zest lem...</td>\n",
       "    </tr>\n",
       "  </tbody>\n",
       "</table>\n",
       "</div>"
      ],
      "text/plain": [
       "   Food_ID                  Name        C_Type  Veg_Non  \\\n",
       "0        1   summer squash salad  Healthy Food      veg   \n",
       "1        2  chicken minced salad  Healthy Food  non-veg   \n",
       "2        3  sweet chilli almonds         Snack      veg   \n",
       "3        4       tricolour salad  Healthy Food      veg   \n",
       "4        5        christmas cake       Dessert      veg   \n",
       "\n",
       "                                            Describe  \n",
       "0  white balsamic vinegar lemon juice lemon rind ...  \n",
       "1  olive oil chicken mince garlic minced onion sa...  \n",
       "2  almonds whole egg white curry leaves salt suga...  \n",
       "3  vinegar honeysugar soy sauce salt garlic clove...  \n",
       "4  christmas dry fruits presoaked orange zest lem...  "
      ]
     },
     "execution_count": 10,
     "metadata": {},
     "output_type": "execute_result"
    }
   ],
   "source": [
    "df.head()"
   ]
  },
  {
   "cell_type": "code",
   "execution_count": 11,
   "id": "abb52e01-0233-4711-bcc9-486541338bfe",
   "metadata": {},
   "outputs": [
    {
     "data": {
      "text/plain": [
       "0"
      ]
     },
     "execution_count": 11,
     "metadata": {},
     "output_type": "execute_result"
    }
   ],
   "source": [
    "df.duplicated().sum()"
   ]
  },
  {
   "cell_type": "code",
   "execution_count": 12,
   "id": "1b334a2e-78c5-4033-880a-a00b65de1ae6",
   "metadata": {},
   "outputs": [
    {
     "data": {
      "text/plain": [
       "Food_ID     0\n",
       "Name        0\n",
       "C_Type      0\n",
       "Veg_Non     0\n",
       "Describe    0\n",
       "dtype: int64"
      ]
     },
     "execution_count": 12,
     "metadata": {},
     "output_type": "execute_result"
    }
   ],
   "source": [
    "df.isnull().sum()"
   ]
  },
  {
   "cell_type": "code",
   "execution_count": 13,
   "id": "f977bc55-b59d-43e8-8897-facf498b967a",
   "metadata": {},
   "outputs": [
    {
     "data": {
      "text/html": [
       "<div>\n",
       "<style scoped>\n",
       "    .dataframe tbody tr th:only-of-type {\n",
       "        vertical-align: middle;\n",
       "    }\n",
       "\n",
       "    .dataframe tbody tr th {\n",
       "        vertical-align: top;\n",
       "    }\n",
       "\n",
       "    .dataframe thead th {\n",
       "        text-align: right;\n",
       "    }\n",
       "</style>\n",
       "<table border=\"1\" class=\"dataframe\">\n",
       "  <thead>\n",
       "    <tr style=\"text-align: right;\">\n",
       "      <th></th>\n",
       "      <th>Food_ID</th>\n",
       "    </tr>\n",
       "  </thead>\n",
       "  <tbody>\n",
       "    <tr>\n",
       "      <th>count</th>\n",
       "      <td>400.000000</td>\n",
       "    </tr>\n",
       "    <tr>\n",
       "      <th>mean</th>\n",
       "      <td>200.500000</td>\n",
       "    </tr>\n",
       "    <tr>\n",
       "      <th>std</th>\n",
       "      <td>115.614301</td>\n",
       "    </tr>\n",
       "    <tr>\n",
       "      <th>min</th>\n",
       "      <td>1.000000</td>\n",
       "    </tr>\n",
       "    <tr>\n",
       "      <th>25%</th>\n",
       "      <td>100.750000</td>\n",
       "    </tr>\n",
       "    <tr>\n",
       "      <th>50%</th>\n",
       "      <td>200.500000</td>\n",
       "    </tr>\n",
       "    <tr>\n",
       "      <th>75%</th>\n",
       "      <td>300.250000</td>\n",
       "    </tr>\n",
       "    <tr>\n",
       "      <th>max</th>\n",
       "      <td>400.000000</td>\n",
       "    </tr>\n",
       "  </tbody>\n",
       "</table>\n",
       "</div>"
      ],
      "text/plain": [
       "          Food_ID\n",
       "count  400.000000\n",
       "mean   200.500000\n",
       "std    115.614301\n",
       "min      1.000000\n",
       "25%    100.750000\n",
       "50%    200.500000\n",
       "75%    300.250000\n",
       "max    400.000000"
      ]
     },
     "execution_count": 13,
     "metadata": {},
     "output_type": "execute_result"
    }
   ],
   "source": [
    "df.describe()"
   ]
  },
  {
   "cell_type": "markdown",
   "id": "6d9eb93b-2da3-4dc5-b7af-66d253ee2950",
   "metadata": {},
   "source": [
    "## TF-IDF\n",
    "\n",
    "What is TF-IDF ? **fill here**"
   ]
  },
  {
   "cell_type": "code",
   "execution_count": 14,
   "id": "eea09d95-d678-48d4-a11b-f966b24bb7f4",
   "metadata": {},
   "outputs": [
    {
     "data": {
      "text/plain": [
       "(400, 1261)"
      ]
     },
     "execution_count": 14,
     "metadata": {},
     "output_type": "execute_result"
    }
   ],
   "source": [
    "tfidf = TfidfVectorizer(stop_words='english')\n",
    "tfidf_matrix = tfidf.fit_transform(df['Describe'])\n",
    "tfidf_matrix.shape"
   ]
  },
  {
   "cell_type": "code",
   "execution_count": 15,
   "id": "5b0e31cf-738f-4f68-82fa-9743eadb6cca",
   "metadata": {},
   "outputs": [
    {
     "data": {
      "text/plain": [
       "array([[1.        , 0.16228366, 0.13001124, ..., 0.1286286 , 0.04277223,\n",
       "        0.09993639],\n",
       "       [0.16228366, 1.        , 0.06799336, ..., 0.14878001, 0.05688681,\n",
       "        0.16917639],\n",
       "       [0.13001124, 0.06799336, 1.        , ..., 0.03291577, 0.11795401,\n",
       "        0.01834168],\n",
       "       ...,\n",
       "       [0.1286286 , 0.14878001, 0.03291577, ..., 1.        , 0.        ,\n",
       "        0.10087579],\n",
       "       [0.04277223, 0.05688681, 0.11795401, ..., 0.        , 1.        ,\n",
       "        0.        ],\n",
       "       [0.09993639, 0.16917639, 0.01834168, ..., 0.10087579, 0.        ,\n",
       "        1.        ]])"
      ]
     },
     "execution_count": 15,
     "metadata": {},
     "output_type": "execute_result"
    }
   ],
   "source": [
    "cosine_sim = linear_kernel(tfidf_matrix,tfidf_matrix)\n",
    "cosine_sim"
   ]
  },
  {
   "cell_type": "code",
   "execution_count": 16,
   "id": "07a2ef76-8d40-432c-a9ea-e3f396d37c3c",
   "metadata": {},
   "outputs": [
    {
     "data": {
      "text/plain": [
       "Name\n",
       "summer squash salad                                          0\n",
       "chicken minced salad                                         1\n",
       "sweet chilli almonds                                         2\n",
       "tricolour salad                                              3\n",
       "christmas cake                                               4\n",
       "                                                          ... \n",
       "Kimchi Toast                                               395\n",
       "Tacos de Gobernador (Shrimp, Poblano, and Cheese Tacos)    396\n",
       "Melted Broccoli Pasta With Capers and Anchovies            397\n",
       "Lemon-Ginger Cake with Pistachios                          398\n",
       "Rosemary Roasted Vegetables                                399\n",
       "Length: 400, dtype: int64"
      ]
     },
     "execution_count": 16,
     "metadata": {},
     "output_type": "execute_result"
    }
   ],
   "source": [
    "# Just considering the Food names from the dataframe\n",
    "indices = pd.Series(df.index, index=df['Name']).drop_duplicates()\n",
    "indices"
   ]
  },
  {
   "cell_type": "code",
   "execution_count": 17,
   "id": "5fb8a3ad-8b1c-4fe5-9dda-4e23ec2e8d24",
   "metadata": {},
   "outputs": [],
   "source": [
    "def get_recommendations(title, cosine_sim=cosine_sim):\n",
    "    idx = indices[title]\n",
    "    sim_scores = list(enumerate(cosine_sim[idx]))\n",
    "    sim_scores = sorted(sim_scores, key=lambda x: x[1], reverse=True)\n",
    "\n",
    "    sim_scores = sim_scores[1:6]\n",
    "\n",
    "    food_indices = [i[0] for i in sim_scores]\n",
    "    return df['Name'].iloc[food_indices]"
   ]
  },
  {
   "cell_type": "code",
   "execution_count": 18,
   "id": "2e8e3a0b-7ff0-4339-ab9e-4eb4e2298baf",
   "metadata": {},
   "outputs": [
    {
     "data": {
      "text/plain": [
       "103             chilli chicken\n",
       "1         chicken minced salad\n",
       "27     vegetable som tam salad\n",
       "282          veg hakka noodles\n",
       "166             veg fried rice\n",
       "Name: Name, dtype: object"
      ]
     },
     "execution_count": 18,
     "metadata": {},
     "output_type": "execute_result"
    }
   ],
   "source": [
    "get_recommendations('tricolour salad', cosine_sim)"
   ]
  },
  {
   "cell_type": "code",
   "execution_count": 19,
   "id": "cb58a6e5-c2d6-4c76-8ee5-9c8b90ff4828",
   "metadata": {},
   "outputs": [],
   "source": [
    "def create_soup(x):\n",
    "    return x['C_Type'] + \" \" + x['Veg_Non'] + \" \" + x['Describe']"
   ]
  },
  {
   "cell_type": "code",
   "execution_count": 20,
   "id": "8c96df2c-279a-4b1d-81f3-595b0663fc81",
   "metadata": {},
   "outputs": [],
   "source": [
    "df['soup'] = df.apply(create_soup, axis=1)"
   ]
  },
  {
   "cell_type": "code",
   "execution_count": 21,
   "id": "5f3ceefd-e5b3-430d-a312-8be64e1bd235",
   "metadata": {},
   "outputs": [
    {
     "data": {
      "text/html": [
       "<div>\n",
       "<style scoped>\n",
       "    .dataframe tbody tr th:only-of-type {\n",
       "        vertical-align: middle;\n",
       "    }\n",
       "\n",
       "    .dataframe tbody tr th {\n",
       "        vertical-align: top;\n",
       "    }\n",
       "\n",
       "    .dataframe thead th {\n",
       "        text-align: right;\n",
       "    }\n",
       "</style>\n",
       "<table border=\"1\" class=\"dataframe\">\n",
       "  <thead>\n",
       "    <tr style=\"text-align: right;\">\n",
       "      <th></th>\n",
       "      <th>Food_ID</th>\n",
       "      <th>Name</th>\n",
       "      <th>C_Type</th>\n",
       "      <th>Veg_Non</th>\n",
       "      <th>Describe</th>\n",
       "      <th>soup</th>\n",
       "    </tr>\n",
       "  </thead>\n",
       "  <tbody>\n",
       "    <tr>\n",
       "      <th>0</th>\n",
       "      <td>1</td>\n",
       "      <td>summer squash salad</td>\n",
       "      <td>Healthy Food</td>\n",
       "      <td>veg</td>\n",
       "      <td>white balsamic vinegar lemon juice lemon rind ...</td>\n",
       "      <td>Healthy Food veg white balsamic vinegar lemon ...</td>\n",
       "    </tr>\n",
       "    <tr>\n",
       "      <th>1</th>\n",
       "      <td>2</td>\n",
       "      <td>chicken minced salad</td>\n",
       "      <td>Healthy Food</td>\n",
       "      <td>non-veg</td>\n",
       "      <td>olive oil chicken mince garlic minced onion sa...</td>\n",
       "      <td>Healthy Food non-veg olive oil chicken mince g...</td>\n",
       "    </tr>\n",
       "  </tbody>\n",
       "</table>\n",
       "</div>"
      ],
      "text/plain": [
       "   Food_ID                  Name        C_Type  Veg_Non  \\\n",
       "0        1   summer squash salad  Healthy Food      veg   \n",
       "1        2  chicken minced salad  Healthy Food  non-veg   \n",
       "\n",
       "                                            Describe  \\\n",
       "0  white balsamic vinegar lemon juice lemon rind ...   \n",
       "1  olive oil chicken mince garlic minced onion sa...   \n",
       "\n",
       "                                                soup  \n",
       "0  Healthy Food veg white balsamic vinegar lemon ...  \n",
       "1  Healthy Food non-veg olive oil chicken mince g...  "
      ]
     },
     "execution_count": 21,
     "metadata": {},
     "output_type": "execute_result"
    }
   ],
   "source": [
    "df.head(2)"
   ]
  },
  {
   "cell_type": "code",
   "execution_count": 22,
   "id": "968ccf09-f010-4127-831b-552ba4df4556",
   "metadata": {},
   "outputs": [
    {
     "data": {
      "text/plain": [
       "(400, 1270)"
      ]
     },
     "execution_count": 22,
     "metadata": {},
     "output_type": "execute_result"
    }
   ],
   "source": [
    "tfidf = TfidfVectorizer(stop_words='english')\n",
    "tfidf_matrix = tfidf.fit_transform(df['soup'])\n",
    "tfidf_matrix.shape"
   ]
  },
  {
   "cell_type": "code",
   "execution_count": 23,
   "id": "be011ba8-eb27-49ae-9219-4e04d5be4472",
   "metadata": {},
   "outputs": [
    {
     "data": {
      "text/plain": [
       "array([[1.        , 0.20029425, 0.1245012 , ..., 0.1245012 , 0.04407577,\n",
       "        0.16016086],\n",
       "       [0.20029425, 1.        , 0.06676684, ..., 0.15374986, 0.07155718,\n",
       "        0.22058322],\n",
       "       [0.1245012 , 0.06676684, 1.        , ..., 0.03498495, 0.11327228,\n",
       "        0.02237259],\n",
       "       ...,\n",
       "       [0.1245012 , 0.15374986, 0.03498495, ..., 1.        , 0.02246653,\n",
       "        0.09727016],\n",
       "       [0.04407577, 0.07155718, 0.11327228, ..., 0.02246653, 1.        ,\n",
       "        0.00592245],\n",
       "       [0.16016086, 0.22058322, 0.02237259, ..., 0.09727016, 0.00592245,\n",
       "        1.        ]])"
      ]
     },
     "execution_count": 23,
     "metadata": {},
     "output_type": "execute_result"
    }
   ],
   "source": [
    "cosine_sim = linear_kernel(tfidf_matrix,tfidf_matrix)\n",
    "cosine_sim"
   ]
  },
  {
   "cell_type": "code",
   "execution_count": 24,
   "id": "38206dfe-afa1-4d51-8a1e-89e575a3095a",
   "metadata": {},
   "outputs": [
    {
     "data": {
      "text/plain": [
       "1         chicken minced salad\n",
       "103             chilli chicken\n",
       "27     vegetable som tam salad\n",
       "106        garlic soya chicken\n",
       "282          veg hakka noodles\n",
       "Name: Name, dtype: object"
      ]
     },
     "execution_count": 24,
     "metadata": {},
     "output_type": "execute_result"
    }
   ],
   "source": [
    "get_recommendations('tricolour salad', cosine_sim)"
   ]
  }
 ],
 "metadata": {
  "kernelspec": {
   "display_name": "Python 3 (ipykernel)",
   "language": "python",
   "name": "python3"
  },
  "language_info": {
   "codemirror_mode": {
    "name": "ipython",
    "version": 3
   },
   "file_extension": ".py",
   "mimetype": "text/x-python",
   "name": "python",
   "nbconvert_exporter": "python",
   "pygments_lexer": "ipython3",
   "version": "3.11.5"
  }
 },
 "nbformat": 4,
 "nbformat_minor": 5
}
