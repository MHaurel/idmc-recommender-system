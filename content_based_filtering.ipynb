{
 "cells": [
  {
   "cell_type": "markdown",
   "id": "7c701550-9166-4980-bc17-c6d94e369314",
   "metadata": {},
   "source": [
    "# Content-based filtering"
   ]
  },
  {
   "cell_type": "markdown",
   "id": "15963f57-c8c6-4335-96ba-1736f8931a33",
   "metadata": {},
   "source": [
    "## Model-based"
   ]
  },
  {
   "cell_type": "markdown",
   "id": "1472887a-230e-4b4d-ae4d-7d2b5b56854f",
   "metadata": {},
   "source": [
    "### Rating-based"
   ]
  },
  {
   "cell_type": "code",
   "execution_count": null,
   "id": "b7ce1be2-2319-4e4b-8e60-8e0b0f92e755",
   "metadata": {},
   "outputs": [],
   "source": []
  }
 ],
 "metadata": {
  "kernelspec": {
   "display_name": "Python 3 (ipykernel)",
   "language": "python",
   "name": "python3"
  },
  "language_info": {
   "codemirror_mode": {
    "name": "ipython",
    "version": 3
   },
   "file_extension": ".py",
   "mimetype": "text/x-python",
   "name": "python",
   "nbconvert_exporter": "python",
   "pygments_lexer": "ipython3",
   "version": "3.9.18"
  }
 },
 "nbformat": 4,
 "nbformat_minor": 5
}
